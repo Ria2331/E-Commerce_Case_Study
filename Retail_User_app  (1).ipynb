{
 "cells": [
  {
   "cell_type": "code",
   "execution_count": 1,
   "id": "c6b04c6f",
   "metadata": {},
   "outputs": [],
   "source": [
    "import pandas as pd\n",
    "import numpy as np \n",
    "import matplotlib.pyplot as plt\n",
    "import seaborn as sns\n",
    "import warnings\n",
    "warnings.filterwarnings('ignore')\n"
   ]
  },
  {
   "cell_type": "code",
   "execution_count": 2,
   "id": "1488fefc",
   "metadata": {},
   "outputs": [],
   "source": [
    "df = pd.read_csv('D:/personal/upgrad/python/User+App+Behaviour.csv')"
   ]
  },
  {
   "cell_type": "code",
   "execution_count": 3,
   "id": "7ae6f263",
   "metadata": {},
   "outputs": [
    {
     "data": {
      "text/html": [
       "<div>\n",
       "<style scoped>\n",
       "    .dataframe tbody tr th:only-of-type {\n",
       "        vertical-align: middle;\n",
       "    }\n",
       "\n",
       "    .dataframe tbody tr th {\n",
       "        vertical-align: top;\n",
       "    }\n",
       "\n",
       "    .dataframe thead th {\n",
       "        text-align: right;\n",
       "    }\n",
       "</style>\n",
       "<table border=\"1\" class=\"dataframe\">\n",
       "  <thead>\n",
       "    <tr style=\"text-align: right;\">\n",
       "      <th></th>\n",
       "      <th>CustomerID</th>\n",
       "      <th>Churn</th>\n",
       "      <th>Tenure</th>\n",
       "      <th>PreferredLoginDevice</th>\n",
       "      <th>CityTier</th>\n",
       "      <th>WarehouseToHome</th>\n",
       "      <th>PreferredPaymentMode</th>\n",
       "      <th>Gender</th>\n",
       "      <th>HourSpendOnApp</th>\n",
       "      <th>NumberOfDeviceRegistered</th>\n",
       "      <th>PreferedOrderCat</th>\n",
       "      <th>SatisfactionScore</th>\n",
       "      <th>MaritalStatus</th>\n",
       "      <th>NumberOfAddress</th>\n",
       "      <th>Complain</th>\n",
       "      <th>OrderAmountHikeFromlastYear</th>\n",
       "      <th>CouponUsed</th>\n",
       "      <th>OrderCount</th>\n",
       "      <th>DaySinceLastOrder</th>\n",
       "      <th>CashbackAmount</th>\n",
       "    </tr>\n",
       "  </thead>\n",
       "  <tbody>\n",
       "    <tr>\n",
       "      <th>0</th>\n",
       "      <td>50001</td>\n",
       "      <td>1</td>\n",
       "      <td>4.0</td>\n",
       "      <td>Mobile Phone</td>\n",
       "      <td>3</td>\n",
       "      <td>6.0</td>\n",
       "      <td>Debit Card</td>\n",
       "      <td>Female</td>\n",
       "      <td>3.0</td>\n",
       "      <td>3</td>\n",
       "      <td>Laptop &amp; Accessory</td>\n",
       "      <td>2</td>\n",
       "      <td>Single</td>\n",
       "      <td>9</td>\n",
       "      <td>1</td>\n",
       "      <td>11.0</td>\n",
       "      <td>1.0</td>\n",
       "      <td>1.0</td>\n",
       "      <td>5.0</td>\n",
       "      <td>160</td>\n",
       "    </tr>\n",
       "    <tr>\n",
       "      <th>1</th>\n",
       "      <td>50002</td>\n",
       "      <td>1</td>\n",
       "      <td>NaN</td>\n",
       "      <td>Mobile Phone</td>\n",
       "      <td>1</td>\n",
       "      <td>8.0</td>\n",
       "      <td>UPI</td>\n",
       "      <td>Male</td>\n",
       "      <td>3.0</td>\n",
       "      <td>4</td>\n",
       "      <td>Mobile</td>\n",
       "      <td>3</td>\n",
       "      <td>Single</td>\n",
       "      <td>7</td>\n",
       "      <td>1</td>\n",
       "      <td>15.0</td>\n",
       "      <td>0.0</td>\n",
       "      <td>1.0</td>\n",
       "      <td>0.0</td>\n",
       "      <td>121</td>\n",
       "    </tr>\n",
       "    <tr>\n",
       "      <th>2</th>\n",
       "      <td>50003</td>\n",
       "      <td>1</td>\n",
       "      <td>NaN</td>\n",
       "      <td>Mobile Phone</td>\n",
       "      <td>1</td>\n",
       "      <td>30.0</td>\n",
       "      <td>Debit Card</td>\n",
       "      <td>Male</td>\n",
       "      <td>2.0</td>\n",
       "      <td>4</td>\n",
       "      <td>Mobile</td>\n",
       "      <td>3</td>\n",
       "      <td>Single</td>\n",
       "      <td>6</td>\n",
       "      <td>1</td>\n",
       "      <td>14.0</td>\n",
       "      <td>0.0</td>\n",
       "      <td>1.0</td>\n",
       "      <td>3.0</td>\n",
       "      <td>120</td>\n",
       "    </tr>\n",
       "    <tr>\n",
       "      <th>3</th>\n",
       "      <td>50004</td>\n",
       "      <td>1</td>\n",
       "      <td>0.0</td>\n",
       "      <td>Mobile Phone</td>\n",
       "      <td>3</td>\n",
       "      <td>15.0</td>\n",
       "      <td>Debit Card</td>\n",
       "      <td>Male</td>\n",
       "      <td>2.0</td>\n",
       "      <td>4</td>\n",
       "      <td>Laptop &amp; Accessory</td>\n",
       "      <td>5</td>\n",
       "      <td>Single</td>\n",
       "      <td>8</td>\n",
       "      <td>0</td>\n",
       "      <td>23.0</td>\n",
       "      <td>0.0</td>\n",
       "      <td>1.0</td>\n",
       "      <td>3.0</td>\n",
       "      <td>134</td>\n",
       "    </tr>\n",
       "    <tr>\n",
       "      <th>4</th>\n",
       "      <td>50005</td>\n",
       "      <td>1</td>\n",
       "      <td>0.0</td>\n",
       "      <td>Mobile Phone</td>\n",
       "      <td>1</td>\n",
       "      <td>12.0</td>\n",
       "      <td>CC</td>\n",
       "      <td>Male</td>\n",
       "      <td>NaN</td>\n",
       "      <td>3</td>\n",
       "      <td>Mobile</td>\n",
       "      <td>5</td>\n",
       "      <td>Single</td>\n",
       "      <td>3</td>\n",
       "      <td>0</td>\n",
       "      <td>11.0</td>\n",
       "      <td>1.0</td>\n",
       "      <td>1.0</td>\n",
       "      <td>3.0</td>\n",
       "      <td>130</td>\n",
       "    </tr>\n",
       "    <tr>\n",
       "      <th>...</th>\n",
       "      <td>...</td>\n",
       "      <td>...</td>\n",
       "      <td>...</td>\n",
       "      <td>...</td>\n",
       "      <td>...</td>\n",
       "      <td>...</td>\n",
       "      <td>...</td>\n",
       "      <td>...</td>\n",
       "      <td>...</td>\n",
       "      <td>...</td>\n",
       "      <td>...</td>\n",
       "      <td>...</td>\n",
       "      <td>...</td>\n",
       "      <td>...</td>\n",
       "      <td>...</td>\n",
       "      <td>...</td>\n",
       "      <td>...</td>\n",
       "      <td>...</td>\n",
       "      <td>...</td>\n",
       "      <td>...</td>\n",
       "    </tr>\n",
       "    <tr>\n",
       "      <th>5625</th>\n",
       "      <td>55626</td>\n",
       "      <td>0</td>\n",
       "      <td>10.0</td>\n",
       "      <td>Computer</td>\n",
       "      <td>1</td>\n",
       "      <td>30.0</td>\n",
       "      <td>Credit Card</td>\n",
       "      <td>Male</td>\n",
       "      <td>3.0</td>\n",
       "      <td>2</td>\n",
       "      <td>Laptop &amp; Accessory</td>\n",
       "      <td>1</td>\n",
       "      <td>Married</td>\n",
       "      <td>6</td>\n",
       "      <td>0</td>\n",
       "      <td>18.0</td>\n",
       "      <td>1.0</td>\n",
       "      <td>2.0</td>\n",
       "      <td>4.0</td>\n",
       "      <td>151</td>\n",
       "    </tr>\n",
       "    <tr>\n",
       "      <th>5626</th>\n",
       "      <td>55627</td>\n",
       "      <td>0</td>\n",
       "      <td>13.0</td>\n",
       "      <td>Mobile Phone</td>\n",
       "      <td>1</td>\n",
       "      <td>13.0</td>\n",
       "      <td>Credit Card</td>\n",
       "      <td>Male</td>\n",
       "      <td>3.0</td>\n",
       "      <td>5</td>\n",
       "      <td>Fashion</td>\n",
       "      <td>5</td>\n",
       "      <td>Married</td>\n",
       "      <td>6</td>\n",
       "      <td>0</td>\n",
       "      <td>16.0</td>\n",
       "      <td>1.0</td>\n",
       "      <td>2.0</td>\n",
       "      <td>NaN</td>\n",
       "      <td>225</td>\n",
       "    </tr>\n",
       "    <tr>\n",
       "      <th>5627</th>\n",
       "      <td>55628</td>\n",
       "      <td>0</td>\n",
       "      <td>1.0</td>\n",
       "      <td>Mobile Phone</td>\n",
       "      <td>1</td>\n",
       "      <td>11.0</td>\n",
       "      <td>Debit Card</td>\n",
       "      <td>Male</td>\n",
       "      <td>3.0</td>\n",
       "      <td>2</td>\n",
       "      <td>Laptop &amp; Accessory</td>\n",
       "      <td>4</td>\n",
       "      <td>Married</td>\n",
       "      <td>3</td>\n",
       "      <td>1</td>\n",
       "      <td>21.0</td>\n",
       "      <td>1.0</td>\n",
       "      <td>2.0</td>\n",
       "      <td>4.0</td>\n",
       "      <td>186</td>\n",
       "    </tr>\n",
       "    <tr>\n",
       "      <th>5628</th>\n",
       "      <td>55629</td>\n",
       "      <td>0</td>\n",
       "      <td>23.0</td>\n",
       "      <td>Computer</td>\n",
       "      <td>3</td>\n",
       "      <td>9.0</td>\n",
       "      <td>Credit Card</td>\n",
       "      <td>Male</td>\n",
       "      <td>4.0</td>\n",
       "      <td>5</td>\n",
       "      <td>Laptop &amp; Accessory</td>\n",
       "      <td>4</td>\n",
       "      <td>Married</td>\n",
       "      <td>4</td>\n",
       "      <td>0</td>\n",
       "      <td>15.0</td>\n",
       "      <td>2.0</td>\n",
       "      <td>2.0</td>\n",
       "      <td>9.0</td>\n",
       "      <td>179</td>\n",
       "    </tr>\n",
       "    <tr>\n",
       "      <th>5629</th>\n",
       "      <td>55630</td>\n",
       "      <td>0</td>\n",
       "      <td>8.0</td>\n",
       "      <td>Mobile Phone</td>\n",
       "      <td>1</td>\n",
       "      <td>15.0</td>\n",
       "      <td>Credit Card</td>\n",
       "      <td>Male</td>\n",
       "      <td>3.0</td>\n",
       "      <td>2</td>\n",
       "      <td>Laptop &amp; Accessory</td>\n",
       "      <td>3</td>\n",
       "      <td>Married</td>\n",
       "      <td>4</td>\n",
       "      <td>0</td>\n",
       "      <td>13.0</td>\n",
       "      <td>2.0</td>\n",
       "      <td>2.0</td>\n",
       "      <td>3.0</td>\n",
       "      <td>169</td>\n",
       "    </tr>\n",
       "  </tbody>\n",
       "</table>\n",
       "<p>5630 rows × 20 columns</p>\n",
       "</div>"
      ],
      "text/plain": [
       "      CustomerID  Churn  Tenure PreferredLoginDevice  CityTier  \\\n",
       "0          50001      1     4.0         Mobile Phone         3   \n",
       "1          50002      1     NaN         Mobile Phone         1   \n",
       "2          50003      1     NaN         Mobile Phone         1   \n",
       "3          50004      1     0.0         Mobile Phone         3   \n",
       "4          50005      1     0.0         Mobile Phone         1   \n",
       "...          ...    ...     ...                  ...       ...   \n",
       "5625       55626      0    10.0             Computer         1   \n",
       "5626       55627      0    13.0         Mobile Phone         1   \n",
       "5627       55628      0     1.0         Mobile Phone         1   \n",
       "5628       55629      0    23.0             Computer         3   \n",
       "5629       55630      0     8.0         Mobile Phone         1   \n",
       "\n",
       "      WarehouseToHome PreferredPaymentMode  Gender  HourSpendOnApp  \\\n",
       "0                 6.0           Debit Card  Female             3.0   \n",
       "1                 8.0                  UPI    Male             3.0   \n",
       "2                30.0           Debit Card    Male             2.0   \n",
       "3                15.0           Debit Card    Male             2.0   \n",
       "4                12.0                   CC    Male             NaN   \n",
       "...               ...                  ...     ...             ...   \n",
       "5625             30.0          Credit Card    Male             3.0   \n",
       "5626             13.0          Credit Card    Male             3.0   \n",
       "5627             11.0           Debit Card    Male             3.0   \n",
       "5628              9.0          Credit Card    Male             4.0   \n",
       "5629             15.0          Credit Card    Male             3.0   \n",
       "\n",
       "      NumberOfDeviceRegistered    PreferedOrderCat  SatisfactionScore  \\\n",
       "0                            3  Laptop & Accessory                  2   \n",
       "1                            4              Mobile                  3   \n",
       "2                            4              Mobile                  3   \n",
       "3                            4  Laptop & Accessory                  5   \n",
       "4                            3              Mobile                  5   \n",
       "...                        ...                 ...                ...   \n",
       "5625                         2  Laptop & Accessory                  1   \n",
       "5626                         5             Fashion                  5   \n",
       "5627                         2  Laptop & Accessory                  4   \n",
       "5628                         5  Laptop & Accessory                  4   \n",
       "5629                         2  Laptop & Accessory                  3   \n",
       "\n",
       "     MaritalStatus  NumberOfAddress  Complain  OrderAmountHikeFromlastYear  \\\n",
       "0           Single                9         1                         11.0   \n",
       "1           Single                7         1                         15.0   \n",
       "2           Single                6         1                         14.0   \n",
       "3           Single                8         0                         23.0   \n",
       "4           Single                3         0                         11.0   \n",
       "...            ...              ...       ...                          ...   \n",
       "5625       Married                6         0                         18.0   \n",
       "5626       Married                6         0                         16.0   \n",
       "5627       Married                3         1                         21.0   \n",
       "5628       Married                4         0                         15.0   \n",
       "5629       Married                4         0                         13.0   \n",
       "\n",
       "      CouponUsed  OrderCount  DaySinceLastOrder  CashbackAmount  \n",
       "0            1.0         1.0                5.0             160  \n",
       "1            0.0         1.0                0.0             121  \n",
       "2            0.0         1.0                3.0             120  \n",
       "3            0.0         1.0                3.0             134  \n",
       "4            1.0         1.0                3.0             130  \n",
       "...          ...         ...                ...             ...  \n",
       "5625         1.0         2.0                4.0             151  \n",
       "5626         1.0         2.0                NaN             225  \n",
       "5627         1.0         2.0                4.0             186  \n",
       "5628         2.0         2.0                9.0             179  \n",
       "5629         2.0         2.0                3.0             169  \n",
       "\n",
       "[5630 rows x 20 columns]"
      ]
     },
     "execution_count": 3,
     "metadata": {},
     "output_type": "execute_result"
    }
   ],
   "source": [
    "df"
   ]
  },
  {
   "cell_type": "code",
   "execution_count": 4,
   "id": "e07afbca",
   "metadata": {},
   "outputs": [
    {
     "name": "stdout",
     "output_type": "stream",
     "text": [
      "<class 'pandas.core.frame.DataFrame'>\n",
      "RangeIndex: 5630 entries, 0 to 5629\n",
      "Data columns (total 20 columns):\n",
      " #   Column                       Non-Null Count  Dtype  \n",
      "---  ------                       --------------  -----  \n",
      " 0   CustomerID                   5630 non-null   int64  \n",
      " 1   Churn                        5630 non-null   int64  \n",
      " 2   Tenure                       5366 non-null   float64\n",
      " 3   PreferredLoginDevice         5630 non-null   object \n",
      " 4   CityTier                     5630 non-null   int64  \n",
      " 5   WarehouseToHome              5379 non-null   float64\n",
      " 6   PreferredPaymentMode         5630 non-null   object \n",
      " 7   Gender                       5630 non-null   object \n",
      " 8   HourSpendOnApp               5375 non-null   float64\n",
      " 9   NumberOfDeviceRegistered     5630 non-null   int64  \n",
      " 10  PreferedOrderCat             5630 non-null   object \n",
      " 11  SatisfactionScore            5630 non-null   int64  \n",
      " 12  MaritalStatus                5630 non-null   object \n",
      " 13  NumberOfAddress              5630 non-null   int64  \n",
      " 14  Complain                     5630 non-null   int64  \n",
      " 15  OrderAmountHikeFromlastYear  5365 non-null   float64\n",
      " 16  CouponUsed                   5374 non-null   float64\n",
      " 17  OrderCount                   5372 non-null   float64\n",
      " 18  DaySinceLastOrder            5323 non-null   float64\n",
      " 19  CashbackAmount               5630 non-null   int64  \n",
      "dtypes: float64(7), int64(8), object(5)\n",
      "memory usage: 879.8+ KB\n"
     ]
    }
   ],
   "source": [
    "df.info()"
   ]
  },
  {
   "cell_type": "code",
   "execution_count": 5,
   "id": "623be746",
   "metadata": {},
   "outputs": [
    {
     "data": {
      "text/plain": [
       "CustomerID                       0\n",
       "Churn                            0\n",
       "Tenure                         264\n",
       "PreferredLoginDevice             0\n",
       "CityTier                         0\n",
       "WarehouseToHome                251\n",
       "PreferredPaymentMode             0\n",
       "Gender                           0\n",
       "HourSpendOnApp                 255\n",
       "NumberOfDeviceRegistered         0\n",
       "PreferedOrderCat                 0\n",
       "SatisfactionScore                0\n",
       "MaritalStatus                    0\n",
       "NumberOfAddress                  0\n",
       "Complain                         0\n",
       "OrderAmountHikeFromlastYear    265\n",
       "CouponUsed                     256\n",
       "OrderCount                     258\n",
       "DaySinceLastOrder              307\n",
       "CashbackAmount                   0\n",
       "dtype: int64"
      ]
     },
     "execution_count": 5,
     "metadata": {},
     "output_type": "execute_result"
    }
   ],
   "source": [
    "df.isnull().sum()"
   ]
  },
  {
   "cell_type": "code",
   "execution_count": 6,
   "id": "d4e171fd",
   "metadata": {},
   "outputs": [
    {
     "data": {
      "text/plain": [
       "CustomerID                     0.000000\n",
       "Churn                          0.000000\n",
       "Tenure                         4.689165\n",
       "PreferredLoginDevice           0.000000\n",
       "CityTier                       0.000000\n",
       "WarehouseToHome                4.458259\n",
       "PreferredPaymentMode           0.000000\n",
       "Gender                         0.000000\n",
       "HourSpendOnApp                 4.529307\n",
       "NumberOfDeviceRegistered       0.000000\n",
       "PreferedOrderCat               0.000000\n",
       "SatisfactionScore              0.000000\n",
       "MaritalStatus                  0.000000\n",
       "NumberOfAddress                0.000000\n",
       "Complain                       0.000000\n",
       "OrderAmountHikeFromlastYear    4.706927\n",
       "CouponUsed                     4.547069\n",
       "OrderCount                     4.582593\n",
       "DaySinceLastOrder              5.452931\n",
       "CashbackAmount                 0.000000\n",
       "dtype: float64"
      ]
     },
     "execution_count": 6,
     "metadata": {},
     "output_type": "execute_result"
    }
   ],
   "source": [
    "df.isnull().sum()*100/len(df)"
   ]
  },
  {
   "cell_type": "code",
   "execution_count": 7,
   "id": "93c95e0c",
   "metadata": {},
   "outputs": [
    {
     "data": {
      "text/plain": [
       "Index(['CustomerID', 'Churn', 'Tenure', 'PreferredLoginDevice', 'CityTier',\n",
       "       'WarehouseToHome', 'PreferredPaymentMode', 'Gender', 'HourSpendOnApp',\n",
       "       'NumberOfDeviceRegistered', 'PreferedOrderCat', 'SatisfactionScore',\n",
       "       'MaritalStatus', 'NumberOfAddress', 'Complain',\n",
       "       'OrderAmountHikeFromlastYear', 'CouponUsed', 'OrderCount',\n",
       "       'DaySinceLastOrder', 'CashbackAmount'],\n",
       "      dtype='object')"
      ]
     },
     "execution_count": 7,
     "metadata": {},
     "output_type": "execute_result"
    }
   ],
   "source": [
    "df.columns"
   ]
  },
  {
   "cell_type": "code",
   "execution_count": 8,
   "id": "9c0d4694",
   "metadata": {},
   "outputs": [
    {
     "data": {
      "text/plain": [
       "10.189899366380917"
      ]
     },
     "execution_count": 8,
     "metadata": {},
     "output_type": "execute_result"
    }
   ],
   "source": [
    "df.Tenure.mean()"
   ]
  },
  {
   "cell_type": "code",
   "execution_count": 9,
   "id": "f3cca81b",
   "metadata": {},
   "outputs": [
    {
     "data": {
      "text/plain": [
       "15.639895891429633"
      ]
     },
     "execution_count": 9,
     "metadata": {},
     "output_type": "execute_result"
    }
   ],
   "source": [
    "df.WarehouseToHome.mean()"
   ]
  },
  {
   "cell_type": "code",
   "execution_count": 10,
   "id": "6a024843",
   "metadata": {},
   "outputs": [],
   "source": [
    "#convert_dist = {'Tenure':int,'WarehouseToHome':int,'HourSpendOnApp':int,'OrderAmountHikeFromlastYear':int,'CouponUsed':int,'OrderCount':int,'DaySinceLastOrder':int}"
   ]
  },
  {
   "cell_type": "code",
   "execution_count": 11,
   "id": "611ac93a",
   "metadata": {},
   "outputs": [],
   "source": [
    "#df = df.astype(convert_dist)"
   ]
  },
  {
   "cell_type": "code",
   "execution_count": null,
   "id": "f39b1bb9",
   "metadata": {},
   "outputs": [],
   "source": []
  },
  {
   "cell_type": "code",
   "execution_count": 12,
   "id": "ad08ff6b",
   "metadata": {},
   "outputs": [],
   "source": [
    "df['Tenure'] = round(df['Tenure'].fillna(df['Tenure'].mean()))"
   ]
  },
  {
   "cell_type": "code",
   "execution_count": 13,
   "id": "b86c037f",
   "metadata": {},
   "outputs": [],
   "source": [
    "df['WarehouseToHome'] = round(df['WarehouseToHome'].fillna(df['WarehouseToHome'].mean()))"
   ]
  },
  {
   "cell_type": "code",
   "execution_count": 14,
   "id": "dac73e3f",
   "metadata": {},
   "outputs": [],
   "source": [
    "df['HourSpendOnApp'] = round(df['HourSpendOnApp'].fillna(df['HourSpendOnApp'].mean()))"
   ]
  },
  {
   "cell_type": "code",
   "execution_count": 15,
   "id": "412d96e1",
   "metadata": {},
   "outputs": [],
   "source": [
    "df['OrderAmountHikeFromlastYear'] = round(df['OrderAmountHikeFromlastYear'].fillna(df['OrderAmountHikeFromlastYear'].mean()))"
   ]
  },
  {
   "cell_type": "code",
   "execution_count": 16,
   "id": "2a8746e7",
   "metadata": {},
   "outputs": [],
   "source": [
    "df['CouponUsed'] = round(df['CouponUsed'].fillna(df['CouponUsed'].mean()))"
   ]
  },
  {
   "cell_type": "code",
   "execution_count": 17,
   "id": "450da9c8",
   "metadata": {},
   "outputs": [],
   "source": [
    "df['OrderCount'] = round(df['OrderCount'].fillna(df['OrderCount'].mean()))"
   ]
  },
  {
   "cell_type": "code",
   "execution_count": 18,
   "id": "0f86b555",
   "metadata": {},
   "outputs": [],
   "source": [
    "df['DaySinceLastOrder'] = round(df['DaySinceLastOrder'].fillna(df['DaySinceLastOrder'].mean()))"
   ]
  },
  {
   "cell_type": "code",
   "execution_count": 19,
   "id": "dcddda99",
   "metadata": {},
   "outputs": [
    {
     "data": {
      "text/plain": [
       "CustomerID                     0\n",
       "Churn                          0\n",
       "Tenure                         0\n",
       "PreferredLoginDevice           0\n",
       "CityTier                       0\n",
       "WarehouseToHome                0\n",
       "PreferredPaymentMode           0\n",
       "Gender                         0\n",
       "HourSpendOnApp                 0\n",
       "NumberOfDeviceRegistered       0\n",
       "PreferedOrderCat               0\n",
       "SatisfactionScore              0\n",
       "MaritalStatus                  0\n",
       "NumberOfAddress                0\n",
       "Complain                       0\n",
       "OrderAmountHikeFromlastYear    0\n",
       "CouponUsed                     0\n",
       "OrderCount                     0\n",
       "DaySinceLastOrder              0\n",
       "CashbackAmount                 0\n",
       "dtype: int64"
      ]
     },
     "execution_count": 19,
     "metadata": {},
     "output_type": "execute_result"
    }
   ],
   "source": [
    "df.isnull().sum()"
   ]
  },
  {
   "cell_type": "code",
   "execution_count": null,
   "id": "b9276f57",
   "metadata": {},
   "outputs": [],
   "source": []
  },
  {
   "cell_type": "code",
   "execution_count": null,
   "id": "f5f0c214",
   "metadata": {},
   "outputs": [],
   "source": []
  },
  {
   "cell_type": "code",
   "execution_count": null,
   "id": "d805f490",
   "metadata": {},
   "outputs": [],
   "source": []
  },
  {
   "cell_type": "code",
   "execution_count": 23,
   "id": "398a4572",
   "metadata": {},
   "outputs": [
    {
     "data": {
      "text/plain": [
       "(5630, 20)"
      ]
     },
     "execution_count": 23,
     "metadata": {},
     "output_type": "execute_result"
    }
   ],
   "source": [
    "df.shape"
   ]
  },
  {
   "cell_type": "code",
   "execution_count": 24,
   "id": "0bbdda2a",
   "metadata": {},
   "outputs": [
    {
     "name": "stdout",
     "output_type": "stream",
     "text": [
      "20\n"
     ]
    }
   ],
   "source": [
    "cat_colls = ['PreferredLoginDevice','CityTier','PreferredPaymentMode','Gender','PreferedOrderCat','MaritalStatus','SatisfactionScore','Complain']\n",
    "target = ['Churn']\n",
    "ID = ['CustomerID']\n",
    "con_colls = ['Tenure','WarehouseToHome','HourSpendOnApp','NumberOfDeviceRegistered','NumberOfAddress','OrderAmountHikeFromlastYear','CouponUsed','OrderCount','DaySinceLastOrder','CashbackAmount']\n",
    "\n",
    "print(len(cat_colls)+len(target)+len(ID)+len(con_colls))"
   ]
  },
  {
   "cell_type": "code",
   "execution_count": null,
   "id": "efbc6432",
   "metadata": {},
   "outputs": [],
   "source": []
  },
  {
   "cell_type": "code",
   "execution_count": 25,
   "id": "cf468292",
   "metadata": {},
   "outputs": [
    {
     "name": "stdout",
     "output_type": "stream",
     "text": [
      "Tenure\n"
     ]
    },
    {
     "data": {
      "image/png": "[encoded data removed]",
      "text/plain": [
       "<Figure size 1152x144 with 1 Axes>"
      ]
     },
     "metadata": {
      "needs_background": "light"
     },
     "output_type": "display_data"
    },
    {
     "name": "stdout",
     "output_type": "stream",
     "text": [
      "WarehouseToHome\n"
     ]
    },
    {
     "data": {
      "image/png": "[encoded data removed]",
      "text/plain": [
       "<Figure size 1152x144 with 1 Axes>"
      ]
     },
     "metadata": {
      "needs_background": "light"
     },
     "output_type": "display_data"
    },
    {
     "name": "stdout",
     "output_type": "stream",
     "text": [
      "HourSpendOnApp\n"
     ]
    },
    {
     "data": {
      "image/png": "[encoded data removed]",
      "text/plain": [
       "<Figure size 1152x144 with 1 Axes>"
      ]
     },
     "metadata": {
      "needs_background": "light"
     },
     "output_type": "display_data"
    },
    {
     "name": "stdout",
     "output_type": "stream",
     "text": [
      "NumberOfDeviceRegistered\n"
     ]
    },
    {
     "data": {
      "image/png": "[encoded data removed]",
      "text/plain": [
       "<Figure size 1152x144 with 1 Axes>"
      ]
     },
     "metadata": {
      "needs_background": "light"
     },
     "output_type": "display_data"
    },
    {
     "name": "stdout",
     "output_type": "stream",
     "text": [
      "NumberOfAddress\n"
     ]
    },
    {
     "data": {
      "image/png": "[encoded data removed]",
      "text/plain": [
       "<Figure size 1152x144 with 1 Axes>"
      ]
     },
     "metadata": {
      "needs_background": "light"
     },
     "output_type": "display_data"
    },
    {
     "name": "stdout",
     "output_type": "stream",
     "text": [
      "OrderAmountHikeFromlastYear\n"
     ]
    },
    {
     "data": {
      "image/png": "[encoded data removed]",
      "text/plain": [
       "<Figure size 1152x144 with 1 Axes>"
      ]
     },
     "metadata": {
      "needs_background": "light"
     },
     "output_type": "display_data"
    },
    {
     "name": "stdout",
     "output_type": "stream",
     "text": [
      "CouponUsed\n"
     ]
    },
    {
     "data": {
      "image/png": "[encoded data removed]",
      "text/plain": [
       "<Figure size 1152x144 with 1 Axes>"
      ]
     },
     "metadata": {
      "needs_background": "light"
     },
     "output_type": "display_data"
    },
    {
     "name": "stdout",
     "output_type": "stream",
     "text": [
      "OrderCount\n"
     ]
    },
    {
     "data": {
      "image/png": "[encoded data removed]",
      "text/plain": [
       "<Figure size 1152x144 with 1 Axes>"
      ]
     },
     "metadata": {
      "needs_background": "light"
     },
     "output_type": "display_data"
    },
    {
     "name": "stdout",
     "output_type": "stream",
     "text": [
      "DaySinceLastOrder\n"
     ]
    },
    {
     "data": {
      "image/png": "[encoded data removed]",
      "text/plain": [
       "<Figure size 1152x144 with 1 Axes>"
      ]
     },
     "metadata": {
      "needs_background": "light"
     },
     "output_type": "display_data"
    },
    {
     "name": "stdout",
     "output_type": "stream",
     "text": [
      "CashbackAmount\n"
     ]
    },
    {
     "data": {
      "image/png": "[encoded data removed]",
      "text/plain": [
       "<Figure size 1152x144 with 1 Axes>"
      ]
     },
     "metadata": {
      "needs_background": "light"
     },
     "output_type": "display_data"
    }
   ],
   "source": [
    "for i in con_colls:\n",
    "    print(i)\n",
    "    plt.figure(figsize=(16,2))\n",
    "    sns.boxplot(df[i])\n",
    "    plt.show()"
   ]
  },
  {
   "cell_type": "code",
   "execution_count": 26,
   "id": "273e2706",
   "metadata": {},
   "outputs": [
    {
     "name": "stdout",
     "output_type": "stream",
     "text": [
      "PreferredLoginDevice\n"
     ]
    },
    {
     "data": {
      "image/png": "[encoded data removed]",
      "text/plain": [
       "<Figure size 1152x144 with 1 Axes>"
      ]
     },
     "metadata": {
      "needs_background": "light"
     },
     "output_type": "display_data"
    },
    {
     "name": "stdout",
     "output_type": "stream",
     "text": [
      "CityTier\n"
     ]
    },
    {
     "data": {
      "image/png": "[encoded data removed]",
      "text/plain": [
       "<Figure size 1152x144 with 1 Axes>"
      ]
     },
     "metadata": {
      "needs_background": "light"
     },
     "output_type": "display_data"
    },
    {
     "name": "stdout",
     "output_type": "stream",
     "text": [
      "PreferredPaymentMode\n"
     ]
    },
    {
     "data": {
      "image/png": "[encoded data removed]",
      "text/plain": [
       "<Figure size 1152x144 with 1 Axes>"
      ]
     },
     "metadata": {
      "needs_background": "light"
     },
     "output_type": "display_data"
    },
    {
     "name": "stdout",
     "output_type": "stream",
     "text": [
      "Gender\n"
     ]
    },
    {
     "data": {
      "image/png": "[encoded data removed]",
      "text/plain": [
       "<Figure size 1152x144 with 1 Axes>"
      ]
     },
     "metadata": {
      "needs_background": "light"
     },
     "output_type": "display_data"
    },
    {
     "name": "stdout",
     "output_type": "stream",
     "text": [
      "PreferedOrderCat\n"
     ]
    },
    {
     "data": {
      "image/png": "[encoded data removed]",
      "text/plain": [
       "<Figure size 1152x144 with 1 Axes>"
      ]
     },
     "metadata": {
      "needs_background": "light"
     },
     "output_type": "display_data"
    },
    {
     "name": "stdout",
     "output_type": "stream",
     "text": [
      "MaritalStatus\n"
     ]
    },
    {
     "data": {
      "image/png": "[encoded data removed]",
      "text/plain": [
       "<Figure size 1152x144 with 1 Axes>"
      ]
     },
     "metadata": {
      "needs_background": "light"
     },
     "output_type": "display_data"
    },
    {
     "name": "stdout",
     "output_type": "stream",
     "text": [
      "SatisfactionScore\n"
     ]
    },
    {
     "data": {
      "image/png": "[encoded data removed]",
      "text/plain": [
       "<Figure size 1152x144 with 1 Axes>"
      ]
     },
     "metadata": {
      "needs_background": "light"
     },
     "output_type": "display_data"
    },
    {
     "name": "stdout",
     "output_type": "stream",
     "text": [
      "Complain\n"
     ]
    },
    {
     "data": {
      "image/png": "[encoded data removed]",
      "text/plain": [
       "<Figure size 1152x144 with 1 Axes>"
      ]
     },
     "metadata": {
      "needs_background": "light"
     },
     "output_type": "display_data"
    }
   ],
   "source": [
    "for i in cat_colls:\n",
    "    print(i)\n",
    "    plt.figure(figsize=(16,2))\n",
    "    sns.countplot(df[i])\n",
    "    plt.show()"
   ]
  },
  {
   "cell_type": "code",
   "execution_count": 27,
   "id": "6b3a6b66",
   "metadata": {},
   "outputs": [
    {
     "data": {
      "text/plain": [
       "<AxesSubplot:xlabel='CityTier'>"
      ]
     },
     "execution_count": 27,
     "metadata": {},
     "output_type": "execute_result"
    },
    {
     "data": {
      "image/png": "[encoded data removed]",
      "text/plain": [
       "<Figure size 432x288 with 1 Axes>"
      ]
     },
     "metadata": {
      "needs_background": "light"
     },
     "output_type": "display_data"
    }
   ],
   "source": [
    "df.groupby('CityTier')['Churn'].aggregate(['mean','median']).plot.bar()"
   ]
  },
  {
   "cell_type": "code",
   "execution_count": 28,
   "id": "4d8cadb4",
   "metadata": {},
   "outputs": [
    {
     "data": {
      "text/plain": [
       "<AxesSubplot:xlabel='PreferredPaymentMode'>"
      ]
     },
     "execution_count": 28,
     "metadata": {},
     "output_type": "execute_result"
    },
    {
     "data": {
      "image/png": "[encoded data removed]",
      "text/plain": [
       "<Figure size 432x288 with 1 Axes>"
      ]
     },
     "metadata": {
      "needs_background": "light"
     },
     "output_type": "display_data"
    }
   ],
   "source": [
    "df.groupby('PreferredPaymentMode')['Churn'].aggregate(['mean','median']).plot.bar()"
   ]
  },
  {
   "cell_type": "code",
   "execution_count": 29,
   "id": "da85a404",
   "metadata": {},
   "outputs": [
    {
     "data": {
      "text/plain": [
       "<AxesSubplot:xlabel='PreferredLoginDevice'>"
      ]
     },
     "execution_count": 29,
     "metadata": {},
     "output_type": "execute_result"
    },
    {
     "data": {
      "image/png": "[encoded data removed]",
      "text/plain": [
       "<Figure size 432x288 with 1 Axes>"
      ]
     },
     "metadata": {
      "needs_background": "light"
     },
     "output_type": "display_data"
    }
   ],
   "source": [
    "df.groupby('PreferredLoginDevice')['Churn'].aggregate(['mean','median']).plot.bar()"
   ]
  },
  {
   "cell_type": "code",
   "execution_count": 30,
   "id": "18d69eb9",
   "metadata": {},
   "outputs": [
    {
     "data": {
      "text/plain": [
       "<AxesSubplot:xlabel='Gender'>"
      ]
     },
     "execution_count": 30,
     "metadata": {},
     "output_type": "execute_result"
    },
    {
     "data": {
      "image/png": "[encoded data removed]",
      "text/plain": [
       "<Figure size 432x288 with 1 Axes>"
      ]
     },
     "metadata": {
      "needs_background": "light"
     },
     "output_type": "display_data"
    }
   ],
   "source": [
    "df.groupby('Gender')['Churn'].aggregate(['mean','median']).plot.bar()"
   ]
  },
  {
   "cell_type": "code",
   "execution_count": 31,
   "id": "a4d1ad1e",
   "metadata": {},
   "outputs": [
    {
     "data": {
      "text/plain": [
       "<AxesSubplot:xlabel='PreferedOrderCat'>"
      ]
     },
     "execution_count": 31,
     "metadata": {},
     "output_type": "execute_result"
    },
    {
     "data": {
      "image/png": "[encoded data removed]",
      "text/plain": [
       "<Figure size 432x288 with 1 Axes>"
      ]
     },
     "metadata": {
      "needs_background": "light"
     },
     "output_type": "display_data"
    }
   ],
   "source": [
    "df.groupby('PreferedOrderCat')['Churn'].aggregate(['mean','median']).plot.bar()"
   ]
  },
  {
   "cell_type": "code",
   "execution_count": 32,
   "id": "a94e0858",
   "metadata": {},
   "outputs": [
    {
     "data": {
      "text/plain": [
       "<AxesSubplot:xlabel='MaritalStatus'>"
      ]
     },
     "execution_count": 32,
     "metadata": {},
     "output_type": "execute_result"
    },
    {
     "data": {
      "image/png": "[encoded data removed]",
      "text/plain": [
       "<Figure size 432x288 with 1 Axes>"
      ]
     },
     "metadata": {
      "needs_background": "light"
     },
     "output_type": "display_data"
    }
   ],
   "source": [
    "df.groupby('MaritalStatus')['Churn'].aggregate(['mean','median']).plot.bar()"
   ]
  },
  {
   "cell_type": "code",
   "execution_count": 33,
   "id": "01c533fc",
   "metadata": {},
   "outputs": [
    {
     "data": {
      "text/plain": [
       "<AxesSubplot:xlabel='SatisfactionScore'>"
      ]
     },
     "execution_count": 33,
     "metadata": {},
     "output_type": "execute_result"
    },
    {
     "data": {
      "image/png": "[encoded data removed]",
      "text/plain": [
       "<Figure size 432x288 with 1 Axes>"
      ]
     },
     "metadata": {
      "needs_background": "light"
     },
     "output_type": "display_data"
    }
   ],
   "source": [
    "df.groupby('SatisfactionScore')['Churn'].aggregate(['mean','median']).plot.bar()"
   ]
  },
  {
   "cell_type": "code",
   "execution_count": 34,
   "id": "4f120329",
   "metadata": {},
   "outputs": [
    {
     "data": {
      "text/plain": [
       "<AxesSubplot:xlabel='Complain'>"
      ]
     },
     "execution_count": 34,
     "metadata": {},
     "output_type": "execute_result"
    },
    {
     "data": {
      "image/png": "[encoded data removed]",
      "text/plain": [
       "<Figure size 432x288 with 1 Axes>"
      ]
     },
     "metadata": {
      "needs_background": "light"
     },
     "output_type": "display_data"
    }
   ],
   "source": [
    "df.groupby('Complain')['Churn'].aggregate(['mean','median']).plot.bar()"
   ]
  },
  {
   "cell_type": "code",
   "execution_count": 35,
   "id": "8f344c4e",
   "metadata": {},
   "outputs": [
    {
     "data": {
      "text/plain": [
       "['PreferredLoginDevice',\n",
       " 'CityTier',\n",
       " 'PreferredPaymentMode',\n",
       " 'Gender',\n",
       " 'PreferedOrderCat',\n",
       " 'MaritalStatus',\n",
       " 'SatisfactionScore',\n",
       " 'Complain']"
      ]
     },
     "execution_count": 35,
     "metadata": {},
     "output_type": "execute_result"
    }
   ],
   "source": [
    "cat_colls"
   ]
  },
  {
   "cell_type": "code",
   "execution_count": 36,
   "id": "c08e6959",
   "metadata": {},
   "outputs": [
    {
     "data": {
      "text/plain": [
       "<AxesSubplot:>"
      ]
     },
     "execution_count": 36,
     "metadata": {},
     "output_type": "execute_result"
    },
    {
     "data": {
      "image/png": "[encoded data removed]",
      "text/plain": [
       "<Figure size 1440x1440 with 2 Axes>"
      ]
     },
     "metadata": {
      "needs_background": "light"
     },
     "output_type": "display_data"
    }
   ],
   "source": [
    "cat_cols_corr = df[cat_colls].corr()\n",
    "plt.figure(figsize=(20,20))\n",
    "sns.heatmap(cat_cols_corr,  annot=True,cmap='Greens' )"
   ]
  },
  {
   "cell_type": "code",
   "execution_count": 37,
   "id": "1f85e6ce",
   "metadata": {},
   "outputs": [
    {
     "data": {
      "text/plain": [
       "<AxesSubplot:>"
      ]
     },
     "execution_count": 37,
     "metadata": {},
     "output_type": "execute_result"
    },
    {
     "data": {
      "image/png": "[encoded data removed]",
      "text/plain": [
       "<Figure size 1440x1440 with 2 Axes>"
      ]
     },
     "metadata": {
      "needs_background": "light"
     },
     "output_type": "display_data"
    }
   ],
   "source": [
    "con_colls_corr = df[con_colls].corr()\n",
    "plt.figure(figsize=(20,20))\n",
    "sns.heatmap(con_colls_corr,  annot=True,cmap='Greens' )"
   ]
  },
  {
   "cell_type": "code",
   "execution_count": 38,
   "id": "f17bb2b3",
   "metadata": {},
   "outputs": [
    {
     "data": {
      "text/plain": [
       "<AxesSubplot:>"
      ]
     },
     "execution_count": 38,
     "metadata": {},
     "output_type": "execute_result"
    },
    {
     "data": {
      "image/png": "[encoded data removed]",
      "text/plain": [
       "<Figure size 1440x1440 with 2 Axes>"
      ]
     },
     "metadata": {
      "needs_background": "light"
     },
     "output_type": "display_data"
    }
   ],
   "source": [
    "df.corr()\n",
    "plt.figure(figsize=(20,20))\n",
    "sns.heatmap(df.corr(),annot=True,cmap='Greens')"
   ]
  },
  {
   "cell_type": "code",
   "execution_count": 39,
   "id": "b15a5e2d",
   "metadata": {},
   "outputs": [
    {
     "data": {
      "text/plain": [
       "['PreferredLoginDevice',\n",
       " 'CityTier',\n",
       " 'PreferredPaymentMode',\n",
       " 'Gender',\n",
       " 'PreferedOrderCat',\n",
       " 'MaritalStatus',\n",
       " 'SatisfactionScore',\n",
       " 'Complain']"
      ]
     },
     "execution_count": 39,
     "metadata": {},
     "output_type": "execute_result"
    }
   ],
   "source": [
    "cat_colls"
   ]
  },
  {
   "cell_type": "code",
   "execution_count": 40,
   "id": "7951912c",
   "metadata": {},
   "outputs": [
    {
     "name": "stdout",
     "output_type": "stream",
     "text": [
      "Before ohe we have 20 features in train\n",
      "After ohe we have 34 features in train\n"
     ]
    }
   ],
   "source": [
    "cat_colls = ['PreferredLoginDevice','CityTier','PreferredPaymentMode','Gender','PreferedOrderCat','MaritalStatus','SatisfactionScore','Complain']\n",
    "\n",
    "print('Before ohe we have {} features in train'.format(df.shape[1]))\n",
    "\n",
    "df1 = pd.get_dummies(df, columns=cat_colls, drop_first=True)\n",
    "print('After ohe we have {} features in train'.format(df1.shape[1]))"
   ]
  },
  {
   "cell_type": "code",
   "execution_count": 41,
   "id": "7c853745",
   "metadata": {},
   "outputs": [],
   "source": [
    "pd.set_option(\"display.max_rows\",50)\n",
    "pd.set_option(\"display.max_columns\",50)"
   ]
  },
  {
   "cell_type": "code",
   "execution_count": 42,
   "id": "dd0bfb29",
   "metadata": {},
   "outputs": [
    {
     "data": {
      "text/html": [
       "<div>\n",
       "<style scoped>\n",
       "    .dataframe tbody tr th:only-of-type {\n",
       "        vertical-align: middle;\n",
       "    }\n",
       "\n",
       "    .dataframe tbody tr th {\n",
       "        vertical-align: top;\n",
       "    }\n",
       "\n",
       "    .dataframe thead th {\n",
       "        text-align: right;\n",
       "    }\n",
       "</style>\n",
       "<table border=\"1\" class=\"dataframe\">\n",
       "  <thead>\n",
       "    <tr style=\"text-align: right;\">\n",
       "      <th></th>\n",
       "      <th>CustomerID</th>\n",
       "      <th>Churn</th>\n",
       "      <th>Tenure</th>\n",
       "      <th>WarehouseToHome</th>\n",
       "      <th>HourSpendOnApp</th>\n",
       "      <th>NumberOfDeviceRegistered</th>\n",
       "      <th>NumberOfAddress</th>\n",
       "      <th>OrderAmountHikeFromlastYear</th>\n",
       "      <th>CouponUsed</th>\n",
       "      <th>OrderCount</th>\n",
       "      <th>DaySinceLastOrder</th>\n",
       "      <th>CashbackAmount</th>\n",
       "      <th>PreferredLoginDevice_Mobile Phone</th>\n",
       "      <th>CityTier_2</th>\n",
       "      <th>CityTier_3</th>\n",
       "      <th>PreferredPaymentMode_COD</th>\n",
       "      <th>PreferredPaymentMode_Cash on Delivery</th>\n",
       "      <th>PreferredPaymentMode_Credit Card</th>\n",
       "      <th>PreferredPaymentMode_Debit Card</th>\n",
       "      <th>PreferredPaymentMode_E wallet</th>\n",
       "      <th>PreferredPaymentMode_UPI</th>\n",
       "      <th>Gender_Male</th>\n",
       "      <th>PreferedOrderCat_Grocery</th>\n",
       "      <th>PreferedOrderCat_Laptop &amp; Accessory</th>\n",
       "      <th>PreferedOrderCat_Mobile</th>\n",
       "      <th>PreferedOrderCat_Mobile Phone</th>\n",
       "      <th>PreferedOrderCat_Others</th>\n",
       "      <th>MaritalStatus_Married</th>\n",
       "      <th>MaritalStatus_Single</th>\n",
       "      <th>SatisfactionScore_2</th>\n",
       "      <th>SatisfactionScore_3</th>\n",
       "      <th>SatisfactionScore_4</th>\n",
       "      <th>SatisfactionScore_5</th>\n",
       "      <th>Complain_1</th>\n",
       "    </tr>\n",
       "  </thead>\n",
       "  <tbody>\n",
       "    <tr>\n",
       "      <th>0</th>\n",
       "      <td>50001</td>\n",
       "      <td>1</td>\n",
       "      <td>4.0</td>\n",
       "      <td>6.0</td>\n",
       "      <td>3.0</td>\n",
       "      <td>3</td>\n",
       "      <td>9</td>\n",
       "      <td>11.0</td>\n",
       "      <td>1.0</td>\n",
       "      <td>1.0</td>\n",
       "      <td>5.0</td>\n",
       "      <td>160</td>\n",
       "      <td>1</td>\n",
       "      <td>0</td>\n",
       "      <td>1</td>\n",
       "      <td>0</td>\n",
       "      <td>0</td>\n",
       "      <td>0</td>\n",
       "      <td>1</td>\n",
       "      <td>0</td>\n",
       "      <td>0</td>\n",
       "      <td>0</td>\n",
       "      <td>0</td>\n",
       "      <td>1</td>\n",
       "      <td>0</td>\n",
       "      <td>0</td>\n",
       "      <td>0</td>\n",
       "      <td>0</td>\n",
       "      <td>1</td>\n",
       "      <td>1</td>\n",
       "      <td>0</td>\n",
       "      <td>0</td>\n",
       "      <td>0</td>\n",
       "      <td>1</td>\n",
       "    </tr>\n",
       "    <tr>\n",
       "      <th>1</th>\n",
       "      <td>50002</td>\n",
       "      <td>1</td>\n",
       "      <td>10.0</td>\n",
       "      <td>8.0</td>\n",
       "      <td>3.0</td>\n",
       "      <td>4</td>\n",
       "      <td>7</td>\n",
       "      <td>15.0</td>\n",
       "      <td>0.0</td>\n",
       "      <td>1.0</td>\n",
       "      <td>0.0</td>\n",
       "      <td>121</td>\n",
       "      <td>1</td>\n",
       "      <td>0</td>\n",
       "      <td>0</td>\n",
       "      <td>0</td>\n",
       "      <td>0</td>\n",
       "      <td>0</td>\n",
       "      <td>0</td>\n",
       "      <td>0</td>\n",
       "      <td>1</td>\n",
       "      <td>1</td>\n",
       "      <td>0</td>\n",
       "      <td>0</td>\n",
       "      <td>1</td>\n",
       "      <td>0</td>\n",
       "      <td>0</td>\n",
       "      <td>0</td>\n",
       "      <td>1</td>\n",
       "      <td>0</td>\n",
       "      <td>1</td>\n",
       "      <td>0</td>\n",
       "      <td>0</td>\n",
       "      <td>1</td>\n",
       "    </tr>\n",
       "    <tr>\n",
       "      <th>2</th>\n",
       "      <td>50003</td>\n",
       "      <td>1</td>\n",
       "      <td>10.0</td>\n",
       "      <td>30.0</td>\n",
       "      <td>2.0</td>\n",
       "      <td>4</td>\n",
       "      <td>6</td>\n",
       "      <td>14.0</td>\n",
       "      <td>0.0</td>\n",
       "      <td>1.0</td>\n",
       "      <td>3.0</td>\n",
       "      <td>120</td>\n",
       "      <td>1</td>\n",
       "      <td>0</td>\n",
       "      <td>0</td>\n",
       "      <td>0</td>\n",
       "      <td>0</td>\n",
       "      <td>0</td>\n",
       "      <td>1</td>\n",
       "      <td>0</td>\n",
       "      <td>0</td>\n",
       "      <td>1</td>\n",
       "      <td>0</td>\n",
       "      <td>0</td>\n",
       "      <td>1</td>\n",
       "      <td>0</td>\n",
       "      <td>0</td>\n",
       "      <td>0</td>\n",
       "      <td>1</td>\n",
       "      <td>0</td>\n",
       "      <td>1</td>\n",
       "      <td>0</td>\n",
       "      <td>0</td>\n",
       "      <td>1</td>\n",
       "    </tr>\n",
       "    <tr>\n",
       "      <th>3</th>\n",
       "      <td>50004</td>\n",
       "      <td>1</td>\n",
       "      <td>0.0</td>\n",
       "      <td>15.0</td>\n",
       "      <td>2.0</td>\n",
       "      <td>4</td>\n",
       "      <td>8</td>\n",
       "      <td>23.0</td>\n",
       "      <td>0.0</td>\n",
       "      <td>1.0</td>\n",
       "      <td>3.0</td>\n",
       "      <td>134</td>\n",
       "      <td>1</td>\n",
       "      <td>0</td>\n",
       "      <td>1</td>\n",
       "      <td>0</td>\n",
       "      <td>0</td>\n",
       "      <td>0</td>\n",
       "      <td>1</td>\n",
       "      <td>0</td>\n",
       "      <td>0</td>\n",
       "      <td>1</td>\n",
       "      <td>0</td>\n",
       "      <td>1</td>\n",
       "      <td>0</td>\n",
       "      <td>0</td>\n",
       "      <td>0</td>\n",
       "      <td>0</td>\n",
       "      <td>1</td>\n",
       "      <td>0</td>\n",
       "      <td>0</td>\n",
       "      <td>0</td>\n",
       "      <td>1</td>\n",
       "      <td>0</td>\n",
       "    </tr>\n",
       "    <tr>\n",
       "      <th>4</th>\n",
       "      <td>50005</td>\n",
       "      <td>1</td>\n",
       "      <td>0.0</td>\n",
       "      <td>12.0</td>\n",
       "      <td>3.0</td>\n",
       "      <td>3</td>\n",
       "      <td>3</td>\n",
       "      <td>11.0</td>\n",
       "      <td>1.0</td>\n",
       "      <td>1.0</td>\n",
       "      <td>3.0</td>\n",
       "      <td>130</td>\n",
       "      <td>1</td>\n",
       "      <td>0</td>\n",
       "      <td>0</td>\n",
       "      <td>0</td>\n",
       "      <td>0</td>\n",
       "      <td>0</td>\n",
       "      <td>0</td>\n",
       "      <td>0</td>\n",
       "      <td>0</td>\n",
       "      <td>1</td>\n",
       "      <td>0</td>\n",
       "      <td>0</td>\n",
       "      <td>1</td>\n",
       "      <td>0</td>\n",
       "      <td>0</td>\n",
       "      <td>0</td>\n",
       "      <td>1</td>\n",
       "      <td>0</td>\n",
       "      <td>0</td>\n",
       "      <td>0</td>\n",
       "      <td>1</td>\n",
       "      <td>0</td>\n",
       "    </tr>\n",
       "  </tbody>\n",
       "</table>\n",
       "</div>"
      ],
      "text/plain": [
       "   CustomerID  Churn  Tenure  WarehouseToHome  HourSpendOnApp  \\\n",
       "0       50001      1     4.0              6.0             3.0   \n",
       "1       50002      1    10.0              8.0             3.0   \n",
       "2       50003      1    10.0             30.0             2.0   \n",
       "3       50004      1     0.0             15.0             2.0   \n",
       "4       50005      1     0.0             12.0             3.0   \n",
       "\n",
       "   NumberOfDeviceRegistered  NumberOfAddress  OrderAmountHikeFromlastYear  \\\n",
       "0                         3                9                         11.0   \n",
       "1                         4                7                         15.0   \n",
       "2                         4                6                         14.0   \n",
       "3                         4                8                         23.0   \n",
       "4                         3                3                         11.0   \n",
       "\n",
       "   CouponUsed  OrderCount  DaySinceLastOrder  CashbackAmount  \\\n",
       "0         1.0         1.0                5.0             160   \n",
       "1         0.0         1.0                0.0             121   \n",
       "2         0.0         1.0                3.0             120   \n",
       "3         0.0         1.0                3.0             134   \n",
       "4         1.0         1.0                3.0             130   \n",
       "\n",
       "   PreferredLoginDevice_Mobile Phone  CityTier_2  CityTier_3  \\\n",
       "0                                  1           0           1   \n",
       "1                                  1           0           0   \n",
       "2                                  1           0           0   \n",
       "3                                  1           0           1   \n",
       "4                                  1           0           0   \n",
       "\n",
       "   PreferredPaymentMode_COD  PreferredPaymentMode_Cash on Delivery  \\\n",
       "0                         0                                      0   \n",
       "1                         0                                      0   \n",
       "2                         0                                      0   \n",
       "3                         0                                      0   \n",
       "4                         0                                      0   \n",
       "\n",
       "   PreferredPaymentMode_Credit Card  PreferredPaymentMode_Debit Card  \\\n",
       "0                                 0                                1   \n",
       "1                                 0                                0   \n",
       "2                                 0                                1   \n",
       "3                                 0                                1   \n",
       "4                                 0                                0   \n",
       "\n",
       "   PreferredPaymentMode_E wallet  PreferredPaymentMode_UPI  Gender_Male  \\\n",
       "0                              0                         0            0   \n",
       "1                              0                         1            1   \n",
       "2                              0                         0            1   \n",
       "3                              0                         0            1   \n",
       "4                              0                         0            1   \n",
       "\n",
       "   PreferedOrderCat_Grocery  PreferedOrderCat_Laptop & Accessory  \\\n",
       "0                         0                                    1   \n",
       "1                         0                                    0   \n",
       "2                         0                                    0   \n",
       "3                         0                                    1   \n",
       "4                         0                                    0   \n",
       "\n",
       "   PreferedOrderCat_Mobile  PreferedOrderCat_Mobile Phone  \\\n",
       "0                        0                              0   \n",
       "1                        1                              0   \n",
       "2                        1                              0   \n",
       "3                        0                              0   \n",
       "4                        1                              0   \n",
       "\n",
       "   PreferedOrderCat_Others  MaritalStatus_Married  MaritalStatus_Single  \\\n",
       "0                        0                      0                     1   \n",
       "1                        0                      0                     1   \n",
       "2                        0                      0                     1   \n",
       "3                        0                      0                     1   \n",
       "4                        0                      0                     1   \n",
       "\n",
       "   SatisfactionScore_2  SatisfactionScore_3  SatisfactionScore_4  \\\n",
       "0                    1                    0                    0   \n",
       "1                    0                    1                    0   \n",
       "2                    0                    1                    0   \n",
       "3                    0                    0                    0   \n",
       "4                    0                    0                    0   \n",
       "\n",
       "   SatisfactionScore_5  Complain_1  \n",
       "0                    0           1  \n",
       "1                    0           1  \n",
       "2                    0           1  \n",
       "3                    1           0  \n",
       "4                    1           0  "
      ]
     },
     "execution_count": 42,
     "metadata": {},
     "output_type": "execute_result"
    }
   ],
   "source": [
    "df1.head()"
   ]
  },
  {
   "cell_type": "code",
   "execution_count": 43,
   "id": "1060f5f5",
   "metadata": {},
   "outputs": [],
   "source": [
    "df1 = df1.drop(['CustomerID'],axis=1)"
   ]
  },
  {
   "cell_type": "code",
   "execution_count": 44,
   "id": "34e2aa33",
   "metadata": {},
   "outputs": [
    {
     "data": {
      "text/html": [
       "<div>\n",
       "<style scoped>\n",
       "    .dataframe tbody tr th:only-of-type {\n",
       "        vertical-align: middle;\n",
       "    }\n",
       "\n",
       "    .dataframe tbody tr th {\n",
       "        vertical-align: top;\n",
       "    }\n",
       "\n",
       "    .dataframe thead th {\n",
       "        text-align: right;\n",
       "    }\n",
       "</style>\n",
       "<table border=\"1\" class=\"dataframe\">\n",
       "  <thead>\n",
       "    <tr style=\"text-align: right;\">\n",
       "      <th></th>\n",
       "      <th>Churn</th>\n",
       "      <th>Tenure</th>\n",
       "      <th>WarehouseToHome</th>\n",
       "      <th>HourSpendOnApp</th>\n",
       "      <th>NumberOfDeviceRegistered</th>\n",
       "      <th>NumberOfAddress</th>\n",
       "      <th>OrderAmountHikeFromlastYear</th>\n",
       "      <th>CouponUsed</th>\n",
       "      <th>OrderCount</th>\n",
       "      <th>DaySinceLastOrder</th>\n",
       "      <th>CashbackAmount</th>\n",
       "      <th>PreferredLoginDevice_Mobile Phone</th>\n",
       "      <th>CityTier_2</th>\n",
       "      <th>CityTier_3</th>\n",
       "      <th>PreferredPaymentMode_COD</th>\n",
       "      <th>PreferredPaymentMode_Cash on Delivery</th>\n",
       "      <th>PreferredPaymentMode_Credit Card</th>\n",
       "      <th>PreferredPaymentMode_Debit Card</th>\n",
       "      <th>PreferredPaymentMode_E wallet</th>\n",
       "      <th>PreferredPaymentMode_UPI</th>\n",
       "      <th>Gender_Male</th>\n",
       "      <th>PreferedOrderCat_Grocery</th>\n",
       "      <th>PreferedOrderCat_Laptop &amp; Accessory</th>\n",
       "      <th>PreferedOrderCat_Mobile</th>\n",
       "      <th>PreferedOrderCat_Mobile Phone</th>\n",
       "      <th>PreferedOrderCat_Others</th>\n",
       "      <th>MaritalStatus_Married</th>\n",
       "      <th>MaritalStatus_Single</th>\n",
       "      <th>SatisfactionScore_2</th>\n",
       "      <th>SatisfactionScore_3</th>\n",
       "      <th>SatisfactionScore_4</th>\n",
       "      <th>SatisfactionScore_5</th>\n",
       "      <th>Complain_1</th>\n",
       "    </tr>\n",
       "  </thead>\n",
       "  <tbody>\n",
       "    <tr>\n",
       "      <th>0</th>\n",
       "      <td>1</td>\n",
       "      <td>4.0</td>\n",
       "      <td>6.0</td>\n",
       "      <td>3.0</td>\n",
       "      <td>3</td>\n",
       "      <td>9</td>\n",
       "      <td>11.0</td>\n",
       "      <td>1.0</td>\n",
       "      <td>1.0</td>\n",
       "      <td>5.0</td>\n",
       "      <td>160</td>\n",
       "      <td>1</td>\n",
       "      <td>0</td>\n",
       "      <td>1</td>\n",
       "      <td>0</td>\n",
       "      <td>0</td>\n",
       "      <td>0</td>\n",
       "      <td>1</td>\n",
       "      <td>0</td>\n",
       "      <td>0</td>\n",
       "      <td>0</td>\n",
       "      <td>0</td>\n",
       "      <td>1</td>\n",
       "      <td>0</td>\n",
       "      <td>0</td>\n",
       "      <td>0</td>\n",
       "      <td>0</td>\n",
       "      <td>1</td>\n",
       "      <td>1</td>\n",
       "      <td>0</td>\n",
       "      <td>0</td>\n",
       "      <td>0</td>\n",
       "      <td>1</td>\n",
       "    </tr>\n",
       "    <tr>\n",
       "      <th>1</th>\n",
       "      <td>1</td>\n",
       "      <td>10.0</td>\n",
       "      <td>8.0</td>\n",
       "      <td>3.0</td>\n",
       "      <td>4</td>\n",
       "      <td>7</td>\n",
       "      <td>15.0</td>\n",
       "      <td>0.0</td>\n",
       "      <td>1.0</td>\n",
       "      <td>0.0</td>\n",
       "      <td>121</td>\n",
       "      <td>1</td>\n",
       "      <td>0</td>\n",
       "      <td>0</td>\n",
       "      <td>0</td>\n",
       "      <td>0</td>\n",
       "      <td>0</td>\n",
       "      <td>0</td>\n",
       "      <td>0</td>\n",
       "      <td>1</td>\n",
       "      <td>1</td>\n",
       "      <td>0</td>\n",
       "      <td>0</td>\n",
       "      <td>1</td>\n",
       "      <td>0</td>\n",
       "      <td>0</td>\n",
       "      <td>0</td>\n",
       "      <td>1</td>\n",
       "      <td>0</td>\n",
       "      <td>1</td>\n",
       "      <td>0</td>\n",
       "      <td>0</td>\n",
       "      <td>1</td>\n",
       "    </tr>\n",
       "    <tr>\n",
       "      <th>2</th>\n",
       "      <td>1</td>\n",
       "      <td>10.0</td>\n",
       "      <td>30.0</td>\n",
       "      <td>2.0</td>\n",
       "      <td>4</td>\n",
       "      <td>6</td>\n",
       "      <td>14.0</td>\n",
       "      <td>0.0</td>\n",
       "      <td>1.0</td>\n",
       "      <td>3.0</td>\n",
       "      <td>120</td>\n",
       "      <td>1</td>\n",
       "      <td>0</td>\n",
       "      <td>0</td>\n",
       "      <td>0</td>\n",
       "      <td>0</td>\n",
       "      <td>0</td>\n",
       "      <td>1</td>\n",
       "      <td>0</td>\n",
       "      <td>0</td>\n",
       "      <td>1</td>\n",
       "      <td>0</td>\n",
       "      <td>0</td>\n",
       "      <td>1</td>\n",
       "      <td>0</td>\n",
       "      <td>0</td>\n",
       "      <td>0</td>\n",
       "      <td>1</td>\n",
       "      <td>0</td>\n",
       "      <td>1</td>\n",
       "      <td>0</td>\n",
       "      <td>0</td>\n",
       "      <td>1</td>\n",
       "    </tr>\n",
       "    <tr>\n",
       "      <th>3</th>\n",
       "      <td>1</td>\n",
       "      <td>0.0</td>\n",
       "      <td>15.0</td>\n",
       "      <td>2.0</td>\n",
       "      <td>4</td>\n",
       "      <td>8</td>\n",
       "      <td>23.0</td>\n",
       "      <td>0.0</td>\n",
       "      <td>1.0</td>\n",
       "      <td>3.0</td>\n",
       "      <td>134</td>\n",
       "      <td>1</td>\n",
       "      <td>0</td>\n",
       "      <td>1</td>\n",
       "      <td>0</td>\n",
       "      <td>0</td>\n",
       "      <td>0</td>\n",
       "      <td>1</td>\n",
       "      <td>0</td>\n",
       "      <td>0</td>\n",
       "      <td>1</td>\n",
       "      <td>0</td>\n",
       "      <td>1</td>\n",
       "      <td>0</td>\n",
       "      <td>0</td>\n",
       "      <td>0</td>\n",
       "      <td>0</td>\n",
       "      <td>1</td>\n",
       "      <td>0</td>\n",
       "      <td>0</td>\n",
       "      <td>0</td>\n",
       "      <td>1</td>\n",
       "      <td>0</td>\n",
       "    </tr>\n",
       "    <tr>\n",
       "      <th>4</th>\n",
       "      <td>1</td>\n",
       "      <td>0.0</td>\n",
       "      <td>12.0</td>\n",
       "      <td>3.0</td>\n",
       "      <td>3</td>\n",
       "      <td>3</td>\n",
       "      <td>11.0</td>\n",
       "      <td>1.0</td>\n",
       "      <td>1.0</td>\n",
       "      <td>3.0</td>\n",
       "      <td>130</td>\n",
       "      <td>1</td>\n",
       "      <td>0</td>\n",
       "      <td>0</td>\n",
       "      <td>0</td>\n",
       "      <td>0</td>\n",
       "      <td>0</td>\n",
       "      <td>0</td>\n",
       "      <td>0</td>\n",
       "      <td>0</td>\n",
       "      <td>1</td>\n",
       "      <td>0</td>\n",
       "      <td>0</td>\n",
       "      <td>1</td>\n",
       "      <td>0</td>\n",
       "      <td>0</td>\n",
       "      <td>0</td>\n",
       "      <td>1</td>\n",
       "      <td>0</td>\n",
       "      <td>0</td>\n",
       "      <td>0</td>\n",
       "      <td>1</td>\n",
       "      <td>0</td>\n",
       "    </tr>\n",
       "  </tbody>\n",
       "</table>\n",
       "</div>"
      ],
      "text/plain": [
       "   Churn  Tenure  WarehouseToHome  HourSpendOnApp  NumberOfDeviceRegistered  \\\n",
       "0      1     4.0              6.0             3.0                         3   \n",
       "1      1    10.0              8.0             3.0                         4   \n",
       "2      1    10.0             30.0             2.0                         4   \n",
       "3      1     0.0             15.0             2.0                         4   \n",
       "4      1     0.0             12.0             3.0                         3   \n",
       "\n",
       "   NumberOfAddress  OrderAmountHikeFromlastYear  CouponUsed  OrderCount  \\\n",
       "0                9                         11.0         1.0         1.0   \n",
       "1                7                         15.0         0.0         1.0   \n",
       "2                6                         14.0         0.0         1.0   \n",
       "3                8                         23.0         0.0         1.0   \n",
       "4                3                         11.0         1.0         1.0   \n",
       "\n",
       "   DaySinceLastOrder  CashbackAmount  PreferredLoginDevice_Mobile Phone  \\\n",
       "0                5.0             160                                  1   \n",
       "1                0.0             121                                  1   \n",
       "2                3.0             120                                  1   \n",
       "3                3.0             134                                  1   \n",
       "4                3.0             130                                  1   \n",
       "\n",
       "   CityTier_2  CityTier_3  PreferredPaymentMode_COD  \\\n",
       "0           0           1                         0   \n",
       "1           0           0                         0   \n",
       "2           0           0                         0   \n",
       "3           0           1                         0   \n",
       "4           0           0                         0   \n",
       "\n",
       "   PreferredPaymentMode_Cash on Delivery  PreferredPaymentMode_Credit Card  \\\n",
       "0                                      0                                 0   \n",
       "1                                      0                                 0   \n",
       "2                                      0                                 0   \n",
       "3                                      0                                 0   \n",
       "4                                      0                                 0   \n",
       "\n",
       "   PreferredPaymentMode_Debit Card  PreferredPaymentMode_E wallet  \\\n",
       "0                                1                              0   \n",
       "1                                0                              0   \n",
       "2                                1                              0   \n",
       "3                                1                              0   \n",
       "4                                0                              0   \n",
       "\n",
       "   PreferredPaymentMode_UPI  Gender_Male  PreferedOrderCat_Grocery  \\\n",
       "0                         0            0                         0   \n",
       "1                         1            1                         0   \n",
       "2                         0            1                         0   \n",
       "3                         0            1                         0   \n",
       "4                         0            1                         0   \n",
       "\n",
       "   PreferedOrderCat_Laptop & Accessory  PreferedOrderCat_Mobile  \\\n",
       "0                                    1                        0   \n",
       "1                                    0                        1   \n",
       "2                                    0                        1   \n",
       "3                                    1                        0   \n",
       "4                                    0                        1   \n",
       "\n",
       "   PreferedOrderCat_Mobile Phone  PreferedOrderCat_Others  \\\n",
       "0                              0                        0   \n",
       "1                              0                        0   \n",
       "2                              0                        0   \n",
       "3                              0                        0   \n",
       "4                              0                        0   \n",
       "\n",
       "   MaritalStatus_Married  MaritalStatus_Single  SatisfactionScore_2  \\\n",
       "0                      0                     1                    1   \n",
       "1                      0                     1                    0   \n",
       "2                      0                     1                    0   \n",
       "3                      0                     1                    0   \n",
       "4                      0                     1                    0   \n",
       "\n",
       "   SatisfactionScore_3  SatisfactionScore_4  SatisfactionScore_5  Complain_1  \n",
       "0                    0                    0                    0           1  \n",
       "1                    1                    0                    0           1  \n",
       "2                    1                    0                    0           1  \n",
       "3                    0                    0                    1           0  \n",
       "4                    0                    0                    1           0  "
      ]
     },
     "execution_count": 44,
     "metadata": {},
     "output_type": "execute_result"
    }
   ],
   "source": [
    "df1.head()"
   ]
  },
  {
   "cell_type": "code",
   "execution_count": 45,
   "id": "1b52a868",
   "metadata": {},
   "outputs": [],
   "source": [
    "var = ['Tenure','WarehouseToHome','HourSpendOnApp','NumberOfDeviceRegistered','NumberOfAddress','OrderAmountHikeFromlastYear',\n",
    "       'CouponUsed','OrderCount','DaySinceLastOrder','CashbackAmount']"
   ]
  },
  {
   "cell_type": "code",
   "execution_count": 46,
   "id": "b8a57e85",
   "metadata": {},
   "outputs": [],
   "source": [
    "from sklearn.model_selection import train_test_split\n",
    "y = df1.Churn\n",
    "X = df1.drop('Churn', axis=1)\n",
    "\n",
    "X_train, X_test, y_train, y_test = train_test_split(X, y, test_size=0.3, stratify = y, random_state=100)"
   ]
  },
  {
   "cell_type": "code",
   "execution_count": 47,
   "id": "1ca2e0d0",
   "metadata": {},
   "outputs": [
    {
     "data": {
      "text/plain": [
       "(3941, 32)"
      ]
     },
     "execution_count": 47,
     "metadata": {},
     "output_type": "execute_result"
    }
   ],
   "source": [
    "X_train.shape"
   ]
  },
  {
   "cell_type": "code",
   "execution_count": 48,
   "id": "69460d06",
   "metadata": {},
   "outputs": [
    {
     "data": {
      "text/plain": [
       "(1689, 32)"
      ]
     },
     "execution_count": 48,
     "metadata": {},
     "output_type": "execute_result"
    }
   ],
   "source": [
    "X_test.shape"
   ]
  },
  {
   "cell_type": "code",
   "execution_count": 49,
   "id": "aa057f40",
   "metadata": {},
   "outputs": [],
   "source": [
    "from sklearn.preprocessing import MinMaxScaler"
   ]
  },
  {
   "cell_type": "code",
   "execution_count": 50,
   "id": "16e85ea4",
   "metadata": {},
   "outputs": [],
   "source": [
    "scaler = MinMaxScaler()"
   ]
  },
  {
   "cell_type": "code",
   "execution_count": 51,
   "id": "fe93d06e",
   "metadata": {},
   "outputs": [],
   "source": [
    "\n",
    "X_train[var] = scaler.fit_transform(X_train[var])"
   ]
  },
  {
   "cell_type": "code",
   "execution_count": 52,
   "id": "7438ace9",
   "metadata": {},
   "outputs": [
    {
     "name": "stdout",
     "output_type": "stream",
     "text": [
      "('Tenure', 0.19438522751675064)\n",
      "('WarehouseToHome', 0.06715747674182652)\n",
      "('HourSpendOnApp', 0.0215878807098662)\n",
      "('NumberOfDeviceRegistered', 0.03800911706325848)\n",
      "('NumberOfAddress', 0.06822618982444632)\n",
      "('OrderAmountHikeFromlastYear', 0.05936295022764442)\n",
      "('CouponUsed', 0.027929037756667694)\n",
      "('OrderCount', 0.03325870802961361)\n",
      "('DaySinceLastOrder', 0.0638160165394523)\n",
      "('CashbackAmount', 0.08439172586037254)\n",
      "('PreferredLoginDevice_Mobile Phone', 0.017444006171990878)\n",
      "('CityTier_2', 0.0068758616181597565)\n",
      "('CityTier_3', 0.022298522416585097)\n",
      "('PreferredPaymentMode_COD', 0.012059033378161553)\n",
      "('PreferredPaymentMode_Cash on Delivery', 0.0036633920212851916)\n",
      "('PreferredPaymentMode_Credit Card', 0.01657704119186985)\n",
      "('PreferredPaymentMode_Debit Card', 0.013847675489863142)\n",
      "('PreferredPaymentMode_E wallet', 0.010029412598008389)\n",
      "('PreferredPaymentMode_UPI', 0.0074603044467728375)\n",
      "('Gender_Male', 0.018108898829414202)\n",
      "('PreferedOrderCat_Grocery', 0.003605338805713898)\n",
      "('PreferedOrderCat_Laptop & Accessory', 0.01846545738448441)\n",
      "('PreferedOrderCat_Mobile', 0.0078013252829590585)\n",
      "('PreferedOrderCat_Mobile Phone', 0.017059284800806897)\n",
      "('PreferedOrderCat_Others', 0.0031009559133889533)\n",
      "('MaritalStatus_Married', 0.015113042606562132)\n",
      "('MaritalStatus_Single', 0.02615048961813737)\n",
      "('SatisfactionScore_2', 0.005695999108034481)\n",
      "('SatisfactionScore_3', 0.01783892663402981)\n",
      "('SatisfactionScore_4', 0.016555247856842512)\n",
      "('SatisfactionScore_5', 0.013897491081792319)\n",
      "('Complain_1', 0.06822796247523857)\n"
     ]
    }
   ],
   "source": [
    "from sklearn.ensemble import RandomForestClassifier\n",
    "rf = RandomForestClassifier(n_estimators = 15 ).fit(X_train, y_train)\n",
    "\n",
    "feats = X_train.columns\n",
    "\n",
    "for feature in zip(feats, rf.feature_importances_):\n",
    "    print(feature)\n"
   ]
  },
  {
   "cell_type": "code",
   "execution_count": 53,
   "id": "d1428323",
   "metadata": {},
   "outputs": [],
   "source": [
    "cols_for_model = ['Tenure','WarehouseToHome','HourSpendOnApp','NumberOfDeviceRegistered','NumberOfAddress','OrderAmountHikeFromlastYear','CouponUsed','OrderCount','DaySinceLastOrder','CashbackAmount','PreferredLoginDevice_Mobile Phone','CityTier_3','PreferredPaymentMode_COD','PreferredPaymentMode_Credit Card','PreferredPaymentMode_Debit Card'\n",
    "                   ,'PreferredPaymentMode_E wallet','Gender_Male','PreferedOrderCat_Laptop & Accessory','PreferedOrderCat_Mobile Phone',\n",
    "                 'MaritalStatus_Married','MaritalStatus_Single','SatisfactionScore_3','SatisfactionScore_4','SatisfactionScore_5'\n",
    "                 ,'Complain_1']"
   ]
  },
  {
   "cell_type": "code",
   "execution_count": 54,
   "id": "a02c4de0",
   "metadata": {},
   "outputs": [
    {
     "data": {
      "text/plain": [
       "25"
      ]
     },
     "execution_count": 54,
     "metadata": {},
     "output_type": "execute_result"
    }
   ],
   "source": [
    "len(cols_for_model)"
   ]
  },
  {
   "cell_type": "code",
   "execution_count": 55,
   "id": "fc70da41",
   "metadata": {},
   "outputs": [
    {
     "data": {
      "text/plain": [
       "(5630, 25)"
      ]
     },
     "execution_count": 55,
     "metadata": {},
     "output_type": "execute_result"
    }
   ],
   "source": [
    "df2 = df1\n",
    "df1 = df2[cols_for_model]\n",
    "df1.shape"
   ]
  },
  {
   "cell_type": "code",
   "execution_count": 56,
   "id": "28687a63",
   "metadata": {},
   "outputs": [
    {
     "data": {
      "text/plain": [
       "Index(['Churn', 'Tenure', 'WarehouseToHome', 'HourSpendOnApp',\n",
       "       'NumberOfDeviceRegistered', 'NumberOfAddress',\n",
       "       'OrderAmountHikeFromlastYear', 'CouponUsed', 'OrderCount',\n",
       "       'DaySinceLastOrder', 'CashbackAmount',\n",
       "       'PreferredLoginDevice_Mobile Phone', 'CityTier_2', 'CityTier_3',\n",
       "       'PreferredPaymentMode_COD', 'PreferredPaymentMode_Cash on Delivery',\n",
       "       'PreferredPaymentMode_Credit Card', 'PreferredPaymentMode_Debit Card',\n",
       "       'PreferredPaymentMode_E wallet', 'PreferredPaymentMode_UPI',\n",
       "       'Gender_Male', 'PreferedOrderCat_Grocery',\n",
       "       'PreferedOrderCat_Laptop & Accessory', 'PreferedOrderCat_Mobile',\n",
       "       'PreferedOrderCat_Mobile Phone', 'PreferedOrderCat_Others',\n",
       "       'MaritalStatus_Married', 'MaritalStatus_Single', 'SatisfactionScore_2',\n",
       "       'SatisfactionScore_3', 'SatisfactionScore_4', 'SatisfactionScore_5',\n",
       "       'Complain_1'],\n",
       "      dtype='object')"
      ]
     },
     "execution_count": 56,
     "metadata": {},
     "output_type": "execute_result"
    }
   ],
   "source": [
    "df2.columns"
   ]
  },
  {
   "cell_type": "code",
   "execution_count": 57,
   "id": "553cbf34",
   "metadata": {},
   "outputs": [],
   "source": [
    "### Handling imbalanced data set"
   ]
  },
  {
   "cell_type": "code",
   "execution_count": 58,
   "id": "f39b531c",
   "metadata": {},
   "outputs": [
    {
     "name": "stdout",
     "output_type": "stream",
     "text": [
      "0    4682\n",
      "1     948\n",
      "Name: Churn, dtype: int64\n"
     ]
    },
    {
     "data": {
      "text/html": [
       "<div>\n",
       "<style scoped>\n",
       "    .dataframe tbody tr th:only-of-type {\n",
       "        vertical-align: middle;\n",
       "    }\n",
       "\n",
       "    .dataframe tbody tr th {\n",
       "        vertical-align: top;\n",
       "    }\n",
       "\n",
       "    .dataframe thead th {\n",
       "        text-align: right;\n",
       "    }\n",
       "</style>\n",
       "<table border=\"1\" class=\"dataframe\">\n",
       "  <thead>\n",
       "    <tr style=\"text-align: right;\">\n",
       "      <th></th>\n",
       "      <th>index</th>\n",
       "      <th>Churn</th>\n",
       "    </tr>\n",
       "  </thead>\n",
       "  <tbody>\n",
       "    <tr>\n",
       "      <th>0</th>\n",
       "      <td>0</td>\n",
       "      <td>0.831616</td>\n",
       "    </tr>\n",
       "    <tr>\n",
       "      <th>1</th>\n",
       "      <td>1</td>\n",
       "      <td>0.168384</td>\n",
       "    </tr>\n",
       "  </tbody>\n",
       "</table>\n",
       "</div>"
      ],
      "text/plain": [
       "   index     Churn\n",
       "0      0  0.831616\n",
       "1      1  0.168384"
      ]
     },
     "execution_count": 58,
     "metadata": {},
     "output_type": "execute_result"
    }
   ],
   "source": [
    "print(df2.Churn.value_counts())\n",
    "df2.Churn.value_counts(normalize = True).reset_index()"
   ]
  },
  {
   "cell_type": "code",
   "execution_count": 59,
   "id": "05208e13",
   "metadata": {},
   "outputs": [
    {
     "data": {
      "text/plain": [
       "Text(0.5, 1.0, 'Class Distributions \\n (0: No Claim || 1: Claim)')"
      ]
     },
     "execution_count": 59,
     "metadata": {},
     "output_type": "execute_result"
    },
    {
     "data": {
      "image/png": "[encoded data removed]",
      "text/plain": [
       "<Figure size 432x288 with 1 Axes>"
      ]
     },
     "metadata": {
      "needs_background": "light"
     },
     "output_type": "display_data"
    }
   ],
   "source": [
    "colors = [\"#0101DF\", \"#DF0101\"]\n",
    "\n",
    "sns.countplot('Churn', data=df2, palette=colors)\n",
    "plt.title('Class Distributions \\n (0: No Claim || 1: Claim)', fontsize=14)"
   ]
  },
  {
   "cell_type": "markdown",
   "id": "6ce8e6c1",
   "metadata": {},
   "source": [
    "We can see that claims that have been filed is only 3.6%. Therefore this is highly imbalanced. Why is it important to handle imbalanced classes.\n",
    "\n",
    "Challenges related to imbalanced dataset\n",
    "\n",
    "Biased predictions Misleading accuracy How do we handle imbalanced class Since we understand now that imbalanced class has to be taken care then next question is HOW?\n",
    "\n",
    "We can handle imbalanced classes by balancing the classes by increasing minority or decreasing majority.\n",
    "\n",
    "We can do that by following few techniques\n",
    "\n",
    "Random Under-Sampling Random Over-Sampling SMOTE - Synthetic Minority Oversampling Technique ADASYN - Adaptive Synthetic Sampling Method SMOTETomek - Over-sampling followed by under-sampling"
   ]
  },
  {
   "cell_type": "markdown",
   "id": "be9202c3",
   "metadata": {},
   "source": [
    "When to Use resampling methods\n",
    "-- Use resampling methods on your training set, never on your test set!"
   ]
  },
  {
   "cell_type": "code",
   "execution_count": 60,
   "id": "b8e13c8b",
   "metadata": {},
   "outputs": [],
   "source": [
    "from sklearn.model_selection import train_test_split\n",
    "y = df2.Churn\n",
    "X = df2.drop('Churn', axis=1)\n",
    "\n",
    "X_train, X_test, y_train, y_test = train_test_split(X, y, test_size=0.3, stratify = y, random_state=56)"
   ]
  },
  {
   "cell_type": "code",
   "execution_count": 61,
   "id": "10c2960c",
   "metadata": {},
   "outputs": [
    {
     "name": "stdout",
     "output_type": "stream",
     "text": [
      "0    3277\n",
      "1     664\n",
      "Name: Churn, dtype: int64\n"
     ]
    },
    {
     "data": {
      "text/html": [
       "<div>\n",
       "<style scoped>\n",
       "    .dataframe tbody tr th:only-of-type {\n",
       "        vertical-align: middle;\n",
       "    }\n",
       "\n",
       "    .dataframe tbody tr th {\n",
       "        vertical-align: top;\n",
       "    }\n",
       "\n",
       "    .dataframe thead th {\n",
       "        text-align: right;\n",
       "    }\n",
       "</style>\n",
       "<table border=\"1\" class=\"dataframe\">\n",
       "  <thead>\n",
       "    <tr style=\"text-align: right;\">\n",
       "      <th></th>\n",
       "      <th>index</th>\n",
       "      <th>Churn</th>\n",
       "    </tr>\n",
       "  </thead>\n",
       "  <tbody>\n",
       "    <tr>\n",
       "      <th>0</th>\n",
       "      <td>0</td>\n",
       "      <td>0.831515</td>\n",
       "    </tr>\n",
       "    <tr>\n",
       "      <th>1</th>\n",
       "      <td>1</td>\n",
       "      <td>0.168485</td>\n",
       "    </tr>\n",
       "  </tbody>\n",
       "</table>\n",
       "</div>"
      ],
      "text/plain": [
       "   index     Churn\n",
       "0      0  0.831515\n",
       "1      1  0.168485"
      ]
     },
     "execution_count": 61,
     "metadata": {},
     "output_type": "execute_result"
    }
   ],
   "source": [
    "print(y_train.value_counts())\n",
    "y_train.value_counts(normalize = True).reset_index()"
   ]
  },
  {
   "cell_type": "code",
   "execution_count": 62,
   "id": "e2a3263f",
   "metadata": {},
   "outputs": [
    {
     "name": "stdout",
     "output_type": "stream",
     "text": [
      "0    1405\n",
      "1     284\n",
      "Name: Churn, dtype: int64\n"
     ]
    },
    {
     "data": {
      "text/html": [
       "<div>\n",
       "<style scoped>\n",
       "    .dataframe tbody tr th:only-of-type {\n",
       "        vertical-align: middle;\n",
       "    }\n",
       "\n",
       "    .dataframe tbody tr th {\n",
       "        vertical-align: top;\n",
       "    }\n",
       "\n",
       "    .dataframe thead th {\n",
       "        text-align: right;\n",
       "    }\n",
       "</style>\n",
       "<table border=\"1\" class=\"dataframe\">\n",
       "  <thead>\n",
       "    <tr style=\"text-align: right;\">\n",
       "      <th></th>\n",
       "      <th>index</th>\n",
       "      <th>Churn</th>\n",
       "    </tr>\n",
       "  </thead>\n",
       "  <tbody>\n",
       "    <tr>\n",
       "      <th>0</th>\n",
       "      <td>0</td>\n",
       "      <td>0.831853</td>\n",
       "    </tr>\n",
       "    <tr>\n",
       "      <th>1</th>\n",
       "      <td>1</td>\n",
       "      <td>0.168147</td>\n",
       "    </tr>\n",
       "  </tbody>\n",
       "</table>\n",
       "</div>"
      ],
      "text/plain": [
       "   index     Churn\n",
       "0      0  0.831853\n",
       "1      1  0.168147"
      ]
     },
     "execution_count": 62,
     "metadata": {},
     "output_type": "execute_result"
    }
   ],
   "source": [
    "print(y_test.value_counts())\n",
    "y_test.value_counts(normalize = True).reset_index()"
   ]
  },
  {
   "cell_type": "code",
   "execution_count": 63,
   "id": "acdc26e8",
   "metadata": {},
   "outputs": [],
   "source": [
    "import warnings\n",
    "warnings.filterwarnings(\"ignore\")"
   ]
  },
  {
   "cell_type": "markdown",
   "id": "9da67bbd",
   "metadata": {},
   "source": [
    "Accuracy Paradox\n",
    "\n",
    "Accuracy paradox talks about a situation where even you if you don't build a model then also your accuracy would be really high. Lets take our dataset and understand this - So we have 96% of cases where claims were not filed.\n",
    "\n",
    "Now try to create a confusion matrix and add zeroes to predicted classes. Therefore, we have only actual numbers. Now try to calculate accuracy metric. You will still find that you have an accuracy of 96%. Lets see if we face this problem with any of our model.\n",
    "\n",
    "Evaluation Metric\n",
    "\n",
    "Accuracy = TN+TP / TN+FP+FN+TP Precision = TP / TP+FP Recall = TP / TP+FN F1 Score = 2 x (precision x recall) / (precision + recall) In this problem we will use recall as evaluation metric because we would like to capture the performace where we will be rightly predicting positive classes"
   ]
  },
  {
   "cell_type": "code",
   "execution_count": 64,
   "id": "4ef53fe3",
   "metadata": {},
   "outputs": [],
   "source": [
    "from collections import Counter\n",
    "from sklearn.linear_model import LogisticRegression\n",
    "from sklearn.metrics import precision_score, recall_score, confusion_matrix, classification_report, accuracy_score, f1_score"
   ]
  },
  {
   "cell_type": "code",
   "execution_count": 65,
   "id": "1f4fd7ad",
   "metadata": {},
   "outputs": [
    {
     "data": {
      "text/html": [
       "<style>#sk-container-id-1 {color: black;background-color: white;}#sk-container-id-1 pre{padding: 0;}#sk-container-id-1 div.sk-toggleable {background-color: white;}#sk-container-id-1 label.sk-toggleable__label {cursor: pointer;display: block;width: 100%;margin-bottom: 0;padding: 0.3em;box-sizing: border-box;text-align: center;}#sk-container-id-1 label.sk-toggleable__label-arrow:before {content: \"▸\";float: left;margin-right: 0.25em;color: #696969;}#sk-container-id-1 label.sk-toggleable__label-arrow:hover:before {color: black;}#sk-container-id-1 div.sk-estimator:hover label.sk-toggleable__label-arrow:before {color: black;}#sk-container-id-1 div.sk-toggleable__content {max-height: 0;max-width: 0;overflow: hidden;text-align: left;background-color: #f0f8ff;}#sk-container-id-1 div.sk-toggleable__content pre {margin: 0.2em;color: black;border-radius: 0.25em;background-color: #f0f8ff;}#sk-container-id-1 input.sk-toggleable__control:checked~div.sk-toggleable__content {max-height: 200px;max-width: 100%;overflow: auto;}#sk-container-id-1 input.sk-toggleable__control:checked~label.sk-toggleable__label-arrow:before {content: \"▾\";}#sk-container-id-1 div.sk-estimator input.sk-toggleable__control:checked~label.sk-toggleable__label {background-color: #d4ebff;}#sk-container-id-1 div.sk-label input.sk-toggleable__control:checked~label.sk-toggleable__label {background-color: #d4ebff;}#sk-container-id-1 input.sk-hidden--visually {border: 0;clip: rect(1px 1px 1px 1px);clip: rect(1px, 1px, 1px, 1px);height: 1px;margin: -1px;overflow: hidden;padding: 0;position: absolute;width: 1px;}#sk-container-id-1 div.sk-estimator {font-family: monospace;background-color: #f0f8ff;border: 1px dotted black;border-radius: 0.25em;box-sizing: border-box;margin-bottom: 0.5em;}#sk-container-id-1 div.sk-estimator:hover {background-color: #d4ebff;}#sk-container-id-1 div.sk-parallel-item::after {content: \"\";width: 100%;border-bottom: 1px solid gray;flex-grow: 1;}#sk-container-id-1 div.sk-label:hover label.sk-toggleable__label {background-color: #d4ebff;}#sk-container-id-1 div.sk-serial::before {content: \"\";position: absolute;border-left: 1px solid gray;box-sizing: border-box;top: 0;bottom: 0;left: 50%;z-index: 0;}#sk-container-id-1 div.sk-serial {display: flex;flex-direction: column;align-items: center;background-color: white;padding-right: 0.2em;padding-left: 0.2em;position: relative;}#sk-container-id-1 div.sk-item {position: relative;z-index: 1;}#sk-container-id-1 div.sk-parallel {display: flex;align-items: stretch;justify-content: center;background-color: white;position: relative;}#sk-container-id-1 div.sk-item::before, #sk-container-id-1 div.sk-parallel-item::before {content: \"\";position: absolute;border-left: 1px solid gray;box-sizing: border-box;top: 0;bottom: 0;left: 50%;z-index: -1;}#sk-container-id-1 div.sk-parallel-item {display: flex;flex-direction: column;z-index: 1;position: relative;background-color: white;}#sk-container-id-1 div.sk-parallel-item:first-child::after {align-self: flex-end;width: 50%;}#sk-container-id-1 div.sk-parallel-item:last-child::after {align-self: flex-start;width: 50%;}#sk-container-id-1 div.sk-parallel-item:only-child::after {width: 0;}#sk-container-id-1 div.sk-dashed-wrapped {border: 1px dashed gray;margin: 0 0.4em 0.5em 0.4em;box-sizing: border-box;padding-bottom: 0.4em;background-color: white;}#sk-container-id-1 div.sk-label label {font-family: monospace;font-weight: bold;display: inline-block;line-height: 1.2em;}#sk-container-id-1 div.sk-label-container {text-align: center;}#sk-container-id-1 div.sk-container {/* jupyter's `normalize.less` sets `[hidden] { display: none; }` but bootstrap.min.css set `[hidden] { display: none !important; }` so we also need the `!important` here to be able to override the default hidden behavior on the sphinx rendered scikit-learn.org. See: https://github.com/scikit-learn/scikit-learn/issues/21755 */display: inline-block !important;position: relative;}#sk-container-id-1 div.sk-text-repr-fallback {display: none;}</style><div id=\"sk-container-id-1\" class=\"sk-top-container\"><div class=\"sk-text-repr-fallback\"><pre>LogisticRegression()</pre><b>In a Jupyter environment, please rerun this cell to show the HTML representation or trust the notebook. <br />On GitHub, the HTML representation is unable to render, please try loading this page with nbviewer.org.</b></div><div class=\"sk-container\" hidden><div class=\"sk-item\"><div class=\"sk-estimator sk-toggleable\"><input class=\"sk-toggleable__control sk-hidden--visually\" id=\"sk-estimator-id-1\" type=\"checkbox\" checked><label for=\"sk-estimator-id-1\" class=\"sk-toggleable__label sk-toggleable__label-arrow\">LogisticRegression</label><div class=\"sk-toggleable__content\"><pre>LogisticRegression()</pre></div></div></div></div></div>"
      ],
      "text/plain": [
       "LogisticRegression()"
      ]
     },
     "execution_count": 65,
     "metadata": {},
     "output_type": "execute_result"
    }
   ],
   "source": [
    "lreg = LogisticRegression()\n",
    "lreg.fit(X_train, y_train)"
   ]
  },
  {
   "cell_type": "code",
   "execution_count": 66,
   "id": "36714167",
   "metadata": {},
   "outputs": [],
   "source": [
    "y_pred = lreg.predict(X_test)"
   ]
  },
  {
   "cell_type": "code",
   "execution_count": 67,
   "id": "a207e9b6",
   "metadata": {},
   "outputs": [
    {
     "name": "stdout",
     "output_type": "stream",
     "text": [
      "Accuracy:  0.8928359976317347\n",
      "F1 score:  0.6090712742980562\n",
      "Recall:  0.4964788732394366\n",
      "Precision:  0.7877094972067039\n",
      "\n",
      " clasification report:\n",
      "               precision    recall  f1-score   support\n",
      "\n",
      "           0       0.91      0.97      0.94      1405\n",
      "           1       0.79      0.50      0.61       284\n",
      "\n",
      "    accuracy                           0.89      1689\n",
      "   macro avg       0.85      0.73      0.77      1689\n",
      "weighted avg       0.89      0.89      0.88      1689\n",
      "\n",
      "\n",
      " confussion matrix:\n",
      " [[1367   38]\n",
      " [ 143  141]]\n"
     ]
    }
   ],
   "source": [
    "print ('Accuracy: ', accuracy_score(y_test, y_pred))\n",
    "print ('F1 score: ', f1_score(y_test, y_pred))\n",
    "print ('Recall: ', recall_score(y_test, y_pred))\n",
    "print ('Precision: ', precision_score(y_test, y_pred))\n",
    "print ('\\n clasification report:\\n', classification_report(y_test,y_pred))\n",
    "print ('\\n confussion matrix:\\n',confusion_matrix(y_test, y_pred))"
   ]
  },
  {
   "cell_type": "code",
   "execution_count": 68,
   "id": "dd7bb142",
   "metadata": {},
   "outputs": [],
   "source": [
    "### Dealing with Class Imbalance using SMOTE (Synthetic Minority Oversampling Technique)"
   ]
  },
  {
   "cell_type": "code",
   "execution_count": 69,
   "id": "9cbef1c7",
   "metadata": {},
   "outputs": [],
   "source": [
    "# Imporing SMOTE\n",
    "from imblearn.over_sampling import SMOTE\n",
    "\n",
    "# Instantiating SMOTE\n",
    "smt = SMOTE(random_state=42)\n",
    "\n",
    "# Fittign SMOTE to the train set\n",
    "X_train, y_train = smt.fit_resample(X_train, y_train)"
   ]
  },
  {
   "cell_type": "code",
   "execution_count": 70,
   "id": "6862aabd",
   "metadata": {},
   "outputs": [
    {
     "data": {
      "text/plain": [
       "(6554, 32)"
      ]
     },
     "execution_count": 70,
     "metadata": {},
     "output_type": "execute_result"
    }
   ],
   "source": [
    "X_train.shape"
   ]
  },
  {
   "cell_type": "code",
   "execution_count": 71,
   "id": "d0c055d8",
   "metadata": {},
   "outputs": [],
   "source": [
    "### Scaling numeric features"
   ]
  },
  {
   "cell_type": "markdown",
   "id": "ad1b64c1",
   "metadata": {},
   "source": [
    "During EDA we have observed few outliers in numeric features. SO lets use standard scaler for scaling"
   ]
  },
  {
   "cell_type": "code",
   "execution_count": 72,
   "id": "f7a8275c",
   "metadata": {},
   "outputs": [],
   "source": [
    "# Standardization method\n",
    "from sklearn.preprocessing import StandardScaler\n",
    "\n",
    "# Instantiate the Scaler\n",
    "scaler = StandardScaler()"
   ]
  },
  {
   "cell_type": "code",
   "execution_count": 73,
   "id": "694d54bb",
   "metadata": {},
   "outputs": [
    {
     "data": {
      "text/html": [
       "<div>\n",
       "<style scoped>\n",
       "    .dataframe tbody tr th:only-of-type {\n",
       "        vertical-align: middle;\n",
       "    }\n",
       "\n",
       "    .dataframe tbody tr th {\n",
       "        vertical-align: top;\n",
       "    }\n",
       "\n",
       "    .dataframe thead th {\n",
       "        text-align: right;\n",
       "    }\n",
       "</style>\n",
       "<table border=\"1\" class=\"dataframe\">\n",
       "  <thead>\n",
       "    <tr style=\"text-align: right;\">\n",
       "      <th></th>\n",
       "      <th>Tenure</th>\n",
       "      <th>WarehouseToHome</th>\n",
       "      <th>HourSpendOnApp</th>\n",
       "      <th>NumberOfDeviceRegistered</th>\n",
       "      <th>NumberOfAddress</th>\n",
       "      <th>OrderAmountHikeFromlastYear</th>\n",
       "      <th>CouponUsed</th>\n",
       "      <th>OrderCount</th>\n",
       "      <th>DaySinceLastOrder</th>\n",
       "      <th>CashbackAmount</th>\n",
       "      <th>PreferredLoginDevice_Mobile Phone</th>\n",
       "      <th>CityTier_2</th>\n",
       "      <th>CityTier_3</th>\n",
       "      <th>PreferredPaymentMode_COD</th>\n",
       "      <th>PreferredPaymentMode_Cash on Delivery</th>\n",
       "      <th>PreferredPaymentMode_Credit Card</th>\n",
       "      <th>PreferredPaymentMode_Debit Card</th>\n",
       "      <th>PreferredPaymentMode_E wallet</th>\n",
       "      <th>PreferredPaymentMode_UPI</th>\n",
       "      <th>Gender_Male</th>\n",
       "      <th>PreferedOrderCat_Grocery</th>\n",
       "      <th>PreferedOrderCat_Laptop &amp; Accessory</th>\n",
       "      <th>PreferedOrderCat_Mobile</th>\n",
       "      <th>PreferedOrderCat_Mobile Phone</th>\n",
       "      <th>PreferedOrderCat_Others</th>\n",
       "      <th>MaritalStatus_Married</th>\n",
       "      <th>MaritalStatus_Single</th>\n",
       "      <th>SatisfactionScore_2</th>\n",
       "      <th>SatisfactionScore_3</th>\n",
       "      <th>SatisfactionScore_4</th>\n",
       "      <th>SatisfactionScore_5</th>\n",
       "      <th>Complain_1</th>\n",
       "    </tr>\n",
       "  </thead>\n",
       "  <tbody>\n",
       "    <tr>\n",
       "      <th>0</th>\n",
       "      <td>29.0</td>\n",
       "      <td>9.0</td>\n",
       "      <td>3.0</td>\n",
       "      <td>5</td>\n",
       "      <td>9</td>\n",
       "      <td>16.0</td>\n",
       "      <td>3.0</td>\n",
       "      <td>7.0</td>\n",
       "      <td>3.0</td>\n",
       "      <td>293</td>\n",
       "      <td>0</td>\n",
       "      <td>0</td>\n",
       "      <td>0</td>\n",
       "      <td>0</td>\n",
       "      <td>0</td>\n",
       "      <td>1</td>\n",
       "      <td>0</td>\n",
       "      <td>0</td>\n",
       "      <td>0</td>\n",
       "      <td>1</td>\n",
       "      <td>1</td>\n",
       "      <td>0</td>\n",
       "      <td>0</td>\n",
       "      <td>0</td>\n",
       "      <td>0</td>\n",
       "      <td>0</td>\n",
       "      <td>1</td>\n",
       "      <td>0</td>\n",
       "      <td>0</td>\n",
       "      <td>0</td>\n",
       "      <td>1</td>\n",
       "      <td>0</td>\n",
       "    </tr>\n",
       "    <tr>\n",
       "      <th>1</th>\n",
       "      <td>11.0</td>\n",
       "      <td>10.0</td>\n",
       "      <td>3.0</td>\n",
       "      <td>4</td>\n",
       "      <td>4</td>\n",
       "      <td>13.0</td>\n",
       "      <td>1.0</td>\n",
       "      <td>2.0</td>\n",
       "      <td>4.0</td>\n",
       "      <td>199</td>\n",
       "      <td>1</td>\n",
       "      <td>0</td>\n",
       "      <td>1</td>\n",
       "      <td>0</td>\n",
       "      <td>0</td>\n",
       "      <td>0</td>\n",
       "      <td>1</td>\n",
       "      <td>0</td>\n",
       "      <td>0</td>\n",
       "      <td>1</td>\n",
       "      <td>0</td>\n",
       "      <td>0</td>\n",
       "      <td>0</td>\n",
       "      <td>0</td>\n",
       "      <td>0</td>\n",
       "      <td>0</td>\n",
       "      <td>1</td>\n",
       "      <td>0</td>\n",
       "      <td>0</td>\n",
       "      <td>0</td>\n",
       "      <td>0</td>\n",
       "      <td>0</td>\n",
       "    </tr>\n",
       "    <tr>\n",
       "      <th>2</th>\n",
       "      <td>21.0</td>\n",
       "      <td>9.0</td>\n",
       "      <td>3.0</td>\n",
       "      <td>2</td>\n",
       "      <td>8</td>\n",
       "      <td>15.0</td>\n",
       "      <td>2.0</td>\n",
       "      <td>2.0</td>\n",
       "      <td>3.0</td>\n",
       "      <td>285</td>\n",
       "      <td>1</td>\n",
       "      <td>0</td>\n",
       "      <td>1</td>\n",
       "      <td>0</td>\n",
       "      <td>0</td>\n",
       "      <td>0</td>\n",
       "      <td>1</td>\n",
       "      <td>0</td>\n",
       "      <td>0</td>\n",
       "      <td>0</td>\n",
       "      <td>1</td>\n",
       "      <td>0</td>\n",
       "      <td>0</td>\n",
       "      <td>0</td>\n",
       "      <td>0</td>\n",
       "      <td>1</td>\n",
       "      <td>0</td>\n",
       "      <td>0</td>\n",
       "      <td>0</td>\n",
       "      <td>1</td>\n",
       "      <td>0</td>\n",
       "      <td>0</td>\n",
       "    </tr>\n",
       "    <tr>\n",
       "      <th>3</th>\n",
       "      <td>14.0</td>\n",
       "      <td>7.0</td>\n",
       "      <td>4.0</td>\n",
       "      <td>5</td>\n",
       "      <td>3</td>\n",
       "      <td>23.0</td>\n",
       "      <td>6.0</td>\n",
       "      <td>3.0</td>\n",
       "      <td>12.0</td>\n",
       "      <td>260</td>\n",
       "      <td>0</td>\n",
       "      <td>0</td>\n",
       "      <td>0</td>\n",
       "      <td>0</td>\n",
       "      <td>0</td>\n",
       "      <td>0</td>\n",
       "      <td>1</td>\n",
       "      <td>0</td>\n",
       "      <td>0</td>\n",
       "      <td>1</td>\n",
       "      <td>1</td>\n",
       "      <td>0</td>\n",
       "      <td>0</td>\n",
       "      <td>0</td>\n",
       "      <td>0</td>\n",
       "      <td>1</td>\n",
       "      <td>0</td>\n",
       "      <td>0</td>\n",
       "      <td>0</td>\n",
       "      <td>1</td>\n",
       "      <td>0</td>\n",
       "      <td>0</td>\n",
       "    </tr>\n",
       "    <tr>\n",
       "      <th>4</th>\n",
       "      <td>21.0</td>\n",
       "      <td>6.0</td>\n",
       "      <td>2.0</td>\n",
       "      <td>1</td>\n",
       "      <td>3</td>\n",
       "      <td>22.0</td>\n",
       "      <td>2.0</td>\n",
       "      <td>2.0</td>\n",
       "      <td>1.0</td>\n",
       "      <td>269</td>\n",
       "      <td>0</td>\n",
       "      <td>0</td>\n",
       "      <td>0</td>\n",
       "      <td>0</td>\n",
       "      <td>0</td>\n",
       "      <td>1</td>\n",
       "      <td>0</td>\n",
       "      <td>0</td>\n",
       "      <td>0</td>\n",
       "      <td>1</td>\n",
       "      <td>1</td>\n",
       "      <td>0</td>\n",
       "      <td>0</td>\n",
       "      <td>0</td>\n",
       "      <td>0</td>\n",
       "      <td>0</td>\n",
       "      <td>1</td>\n",
       "      <td>0</td>\n",
       "      <td>0</td>\n",
       "      <td>0</td>\n",
       "      <td>0</td>\n",
       "      <td>0</td>\n",
       "    </tr>\n",
       "  </tbody>\n",
       "</table>\n",
       "</div>"
      ],
      "text/plain": [
       "   Tenure  WarehouseToHome  HourSpendOnApp  NumberOfDeviceRegistered  \\\n",
       "0    29.0              9.0             3.0                         5   \n",
       "1    11.0             10.0             3.0                         4   \n",
       "2    21.0              9.0             3.0                         2   \n",
       "3    14.0              7.0             4.0                         5   \n",
       "4    21.0              6.0             2.0                         1   \n",
       "\n",
       "   NumberOfAddress  OrderAmountHikeFromlastYear  CouponUsed  OrderCount  \\\n",
       "0                9                         16.0         3.0         7.0   \n",
       "1                4                         13.0         1.0         2.0   \n",
       "2                8                         15.0         2.0         2.0   \n",
       "3                3                         23.0         6.0         3.0   \n",
       "4                3                         22.0         2.0         2.0   \n",
       "\n",
       "   DaySinceLastOrder  CashbackAmount  PreferredLoginDevice_Mobile Phone  \\\n",
       "0                3.0             293                                  0   \n",
       "1                4.0             199                                  1   \n",
       "2                3.0             285                                  1   \n",
       "3               12.0             260                                  0   \n",
       "4                1.0             269                                  0   \n",
       "\n",
       "   CityTier_2  CityTier_3  PreferredPaymentMode_COD  \\\n",
       "0           0           0                         0   \n",
       "1           0           1                         0   \n",
       "2           0           1                         0   \n",
       "3           0           0                         0   \n",
       "4           0           0                         0   \n",
       "\n",
       "   PreferredPaymentMode_Cash on Delivery  PreferredPaymentMode_Credit Card  \\\n",
       "0                                      0                                 1   \n",
       "1                                      0                                 0   \n",
       "2                                      0                                 0   \n",
       "3                                      0                                 0   \n",
       "4                                      0                                 1   \n",
       "\n",
       "   PreferredPaymentMode_Debit Card  PreferredPaymentMode_E wallet  \\\n",
       "0                                0                              0   \n",
       "1                                1                              0   \n",
       "2                                1                              0   \n",
       "3                                1                              0   \n",
       "4                                0                              0   \n",
       "\n",
       "   PreferredPaymentMode_UPI  Gender_Male  PreferedOrderCat_Grocery  \\\n",
       "0                         0            1                         1   \n",
       "1                         0            1                         0   \n",
       "2                         0            0                         1   \n",
       "3                         0            1                         1   \n",
       "4                         0            1                         1   \n",
       "\n",
       "   PreferedOrderCat_Laptop & Accessory  PreferedOrderCat_Mobile  \\\n",
       "0                                    0                        0   \n",
       "1                                    0                        0   \n",
       "2                                    0                        0   \n",
       "3                                    0                        0   \n",
       "4                                    0                        0   \n",
       "\n",
       "   PreferedOrderCat_Mobile Phone  PreferedOrderCat_Others  \\\n",
       "0                              0                        0   \n",
       "1                              0                        0   \n",
       "2                              0                        0   \n",
       "3                              0                        0   \n",
       "4                              0                        0   \n",
       "\n",
       "   MaritalStatus_Married  MaritalStatus_Single  SatisfactionScore_2  \\\n",
       "0                      0                     1                    0   \n",
       "1                      0                     1                    0   \n",
       "2                      1                     0                    0   \n",
       "3                      1                     0                    0   \n",
       "4                      0                     1                    0   \n",
       "\n",
       "   SatisfactionScore_3  SatisfactionScore_4  SatisfactionScore_5  Complain_1  \n",
       "0                    0                    0                    1           0  \n",
       "1                    0                    0                    0           0  \n",
       "2                    0                    1                    0           0  \n",
       "3                    0                    1                    0           0  \n",
       "4                    0                    0                    0           0  "
      ]
     },
     "execution_count": 73,
     "metadata": {},
     "output_type": "execute_result"
    }
   ],
   "source": [
    "X_train.head()"
   ]
  },
  {
   "cell_type": "code",
   "execution_count": 74,
   "id": "94543286",
   "metadata": {},
   "outputs": [
    {
     "name": "stdout",
     "output_type": "stream",
     "text": [
      "Total scalable columns:  32\n"
     ]
    }
   ],
   "source": [
    "cols_scale = X_train.columns.to_list()\n",
    "print(\"Total scalable columns: \", len(cols_scale))"
   ]
  },
  {
   "cell_type": "code",
   "execution_count": 75,
   "id": "9cae09fd",
   "metadata": {},
   "outputs": [],
   "source": [
    "# Fit the data into scaler and transform\n",
    "X_train[cols_scale] = scaler.fit_transform(X_train[cols_scale])\n",
    "\n",
    "# Transform the test set\n",
    "X_test[cols_scale] = scaler.transform(X_test[cols_scale])"
   ]
  },
  {
   "cell_type": "code",
   "execution_count": 76,
   "id": "3a00e8c2",
   "metadata": {},
   "outputs": [
    {
     "data": {
      "text/html": [
       "<div>\n",
       "<style scoped>\n",
       "    .dataframe tbody tr th:only-of-type {\n",
       "        vertical-align: middle;\n",
       "    }\n",
       "\n",
       "    .dataframe tbody tr th {\n",
       "        vertical-align: top;\n",
       "    }\n",
       "\n",
       "    .dataframe thead th {\n",
       "        text-align: right;\n",
       "    }\n",
       "</style>\n",
       "<table border=\"1\" class=\"dataframe\">\n",
       "  <thead>\n",
       "    <tr style=\"text-align: right;\">\n",
       "      <th></th>\n",
       "      <th>Tenure</th>\n",
       "      <th>WarehouseToHome</th>\n",
       "      <th>HourSpendOnApp</th>\n",
       "      <th>NumberOfDeviceRegistered</th>\n",
       "      <th>NumberOfAddress</th>\n",
       "      <th>OrderAmountHikeFromlastYear</th>\n",
       "      <th>CouponUsed</th>\n",
       "      <th>OrderCount</th>\n",
       "      <th>DaySinceLastOrder</th>\n",
       "      <th>CashbackAmount</th>\n",
       "      <th>PreferredLoginDevice_Mobile Phone</th>\n",
       "      <th>CityTier_2</th>\n",
       "      <th>CityTier_3</th>\n",
       "      <th>PreferredPaymentMode_COD</th>\n",
       "      <th>PreferredPaymentMode_Cash on Delivery</th>\n",
       "      <th>PreferredPaymentMode_Credit Card</th>\n",
       "      <th>PreferredPaymentMode_Debit Card</th>\n",
       "      <th>PreferredPaymentMode_E wallet</th>\n",
       "      <th>PreferredPaymentMode_UPI</th>\n",
       "      <th>Gender_Male</th>\n",
       "      <th>PreferedOrderCat_Grocery</th>\n",
       "      <th>PreferedOrderCat_Laptop &amp; Accessory</th>\n",
       "      <th>PreferedOrderCat_Mobile</th>\n",
       "      <th>PreferedOrderCat_Mobile Phone</th>\n",
       "      <th>PreferedOrderCat_Others</th>\n",
       "      <th>MaritalStatus_Married</th>\n",
       "      <th>MaritalStatus_Single</th>\n",
       "      <th>SatisfactionScore_2</th>\n",
       "      <th>SatisfactionScore_3</th>\n",
       "      <th>SatisfactionScore_4</th>\n",
       "      <th>SatisfactionScore_5</th>\n",
       "      <th>Complain_1</th>\n",
       "    </tr>\n",
       "  </thead>\n",
       "  <tbody>\n",
       "    <tr>\n",
       "      <th>0</th>\n",
       "      <td>2.735618</td>\n",
       "      <td>-0.889081</td>\n",
       "      <td>0.085014</td>\n",
       "      <td>1.349186</td>\n",
       "      <td>1.925356</td>\n",
       "      <td>0.087213</td>\n",
       "      <td>0.784122</td>\n",
       "      <td>1.541755</td>\n",
       "      <td>-0.287111</td>\n",
       "      <td>2.691922</td>\n",
       "      <td>-1.274244</td>\n",
       "      <td>-0.19242</td>\n",
       "      <td>-0.601909</td>\n",
       "      <td>-0.231362</td>\n",
       "      <td>-0.129439</td>\n",
       "      <td>2.061941</td>\n",
       "      <td>-0.676805</td>\n",
       "      <td>-0.292026</td>\n",
       "      <td>-0.246352</td>\n",
       "      <td>0.905845</td>\n",
       "      <td>4.518661</td>\n",
       "      <td>-0.604026</td>\n",
       "      <td>-0.458143</td>\n",
       "      <td>-0.606144</td>\n",
       "      <td>-0.192846</td>\n",
       "      <td>-0.788337</td>\n",
       "      <td>1.468166</td>\n",
       "      <td>-0.261669</td>\n",
       "      <td>-0.568306</td>\n",
       "      <td>-0.404608</td>\n",
       "      <td>2.329268</td>\n",
       "      <td>-0.665804</td>\n",
       "    </tr>\n",
       "    <tr>\n",
       "      <th>1</th>\n",
       "      <td>0.447791</td>\n",
       "      <td>-0.768380</td>\n",
       "      <td>0.085014</td>\n",
       "      <td>0.316659</td>\n",
       "      <td>-0.054247</td>\n",
       "      <td>-0.749623</td>\n",
       "      <td>-0.396228</td>\n",
       "      <td>-0.318863</td>\n",
       "      <td>0.004622</td>\n",
       "      <td>0.645778</td>\n",
       "      <td>0.784779</td>\n",
       "      <td>-0.19242</td>\n",
       "      <td>1.661380</td>\n",
       "      <td>-0.231362</td>\n",
       "      <td>-0.129439</td>\n",
       "      <td>-0.484980</td>\n",
       "      <td>1.477531</td>\n",
       "      <td>-0.292026</td>\n",
       "      <td>-0.246352</td>\n",
       "      <td>0.905845</td>\n",
       "      <td>-0.221304</td>\n",
       "      <td>-0.604026</td>\n",
       "      <td>-0.458143</td>\n",
       "      <td>-0.606144</td>\n",
       "      <td>-0.192846</td>\n",
       "      <td>-0.788337</td>\n",
       "      <td>1.468166</td>\n",
       "      <td>-0.261669</td>\n",
       "      <td>-0.568306</td>\n",
       "      <td>-0.404608</td>\n",
       "      <td>-0.429319</td>\n",
       "      <td>-0.665804</td>\n",
       "    </tr>\n",
       "    <tr>\n",
       "      <th>2</th>\n",
       "      <td>1.718806</td>\n",
       "      <td>-0.889081</td>\n",
       "      <td>0.085014</td>\n",
       "      <td>-1.748396</td>\n",
       "      <td>1.529435</td>\n",
       "      <td>-0.191732</td>\n",
       "      <td>0.193947</td>\n",
       "      <td>-0.318863</td>\n",
       "      <td>-0.287111</td>\n",
       "      <td>2.517782</td>\n",
       "      <td>0.784779</td>\n",
       "      <td>-0.19242</td>\n",
       "      <td>1.661380</td>\n",
       "      <td>-0.231362</td>\n",
       "      <td>-0.129439</td>\n",
       "      <td>-0.484980</td>\n",
       "      <td>1.477531</td>\n",
       "      <td>-0.292026</td>\n",
       "      <td>-0.246352</td>\n",
       "      <td>-1.103941</td>\n",
       "      <td>4.518661</td>\n",
       "      <td>-0.604026</td>\n",
       "      <td>-0.458143</td>\n",
       "      <td>-0.606144</td>\n",
       "      <td>-0.192846</td>\n",
       "      <td>1.268494</td>\n",
       "      <td>-0.681122</td>\n",
       "      <td>-0.261669</td>\n",
       "      <td>-0.568306</td>\n",
       "      <td>2.471530</td>\n",
       "      <td>-0.429319</td>\n",
       "      <td>-0.665804</td>\n",
       "    </tr>\n",
       "    <tr>\n",
       "      <th>3</th>\n",
       "      <td>0.829095</td>\n",
       "      <td>-1.130483</td>\n",
       "      <td>1.589418</td>\n",
       "      <td>1.349186</td>\n",
       "      <td>-0.450168</td>\n",
       "      <td>2.039832</td>\n",
       "      <td>2.554646</td>\n",
       "      <td>0.053261</td>\n",
       "      <td>2.338484</td>\n",
       "      <td>1.973595</td>\n",
       "      <td>-1.274244</td>\n",
       "      <td>-0.19242</td>\n",
       "      <td>-0.601909</td>\n",
       "      <td>-0.231362</td>\n",
       "      <td>-0.129439</td>\n",
       "      <td>-0.484980</td>\n",
       "      <td>1.477531</td>\n",
       "      <td>-0.292026</td>\n",
       "      <td>-0.246352</td>\n",
       "      <td>0.905845</td>\n",
       "      <td>4.518661</td>\n",
       "      <td>-0.604026</td>\n",
       "      <td>-0.458143</td>\n",
       "      <td>-0.606144</td>\n",
       "      <td>-0.192846</td>\n",
       "      <td>1.268494</td>\n",
       "      <td>-0.681122</td>\n",
       "      <td>-0.261669</td>\n",
       "      <td>-0.568306</td>\n",
       "      <td>2.471530</td>\n",
       "      <td>-0.429319</td>\n",
       "      <td>-0.665804</td>\n",
       "    </tr>\n",
       "    <tr>\n",
       "      <th>4</th>\n",
       "      <td>1.718806</td>\n",
       "      <td>-1.251183</td>\n",
       "      <td>-1.419390</td>\n",
       "      <td>-2.780924</td>\n",
       "      <td>-0.450168</td>\n",
       "      <td>1.760887</td>\n",
       "      <td>0.193947</td>\n",
       "      <td>-0.318863</td>\n",
       "      <td>-0.870577</td>\n",
       "      <td>2.169502</td>\n",
       "      <td>-1.274244</td>\n",
       "      <td>-0.19242</td>\n",
       "      <td>-0.601909</td>\n",
       "      <td>-0.231362</td>\n",
       "      <td>-0.129439</td>\n",
       "      <td>2.061941</td>\n",
       "      <td>-0.676805</td>\n",
       "      <td>-0.292026</td>\n",
       "      <td>-0.246352</td>\n",
       "      <td>0.905845</td>\n",
       "      <td>4.518661</td>\n",
       "      <td>-0.604026</td>\n",
       "      <td>-0.458143</td>\n",
       "      <td>-0.606144</td>\n",
       "      <td>-0.192846</td>\n",
       "      <td>-0.788337</td>\n",
       "      <td>1.468166</td>\n",
       "      <td>-0.261669</td>\n",
       "      <td>-0.568306</td>\n",
       "      <td>-0.404608</td>\n",
       "      <td>-0.429319</td>\n",
       "      <td>-0.665804</td>\n",
       "    </tr>\n",
       "  </tbody>\n",
       "</table>\n",
       "</div>"
      ],
      "text/plain": [
       "     Tenure  WarehouseToHome  HourSpendOnApp  NumberOfDeviceRegistered  \\\n",
       "0  2.735618        -0.889081        0.085014                  1.349186   \n",
       "1  0.447791        -0.768380        0.085014                  0.316659   \n",
       "2  1.718806        -0.889081        0.085014                 -1.748396   \n",
       "3  0.829095        -1.130483        1.589418                  1.349186   \n",
       "4  1.718806        -1.251183       -1.419390                 -2.780924   \n",
       "\n",
       "   NumberOfAddress  OrderAmountHikeFromlastYear  CouponUsed  OrderCount  \\\n",
       "0         1.925356                     0.087213    0.784122    1.541755   \n",
       "1        -0.054247                    -0.749623   -0.396228   -0.318863   \n",
       "2         1.529435                    -0.191732    0.193947   -0.318863   \n",
       "3        -0.450168                     2.039832    2.554646    0.053261   \n",
       "4        -0.450168                     1.760887    0.193947   -0.318863   \n",
       "\n",
       "   DaySinceLastOrder  CashbackAmount  PreferredLoginDevice_Mobile Phone  \\\n",
       "0          -0.287111        2.691922                          -1.274244   \n",
       "1           0.004622        0.645778                           0.784779   \n",
       "2          -0.287111        2.517782                           0.784779   \n",
       "3           2.338484        1.973595                          -1.274244   \n",
       "4          -0.870577        2.169502                          -1.274244   \n",
       "\n",
       "   CityTier_2  CityTier_3  PreferredPaymentMode_COD  \\\n",
       "0    -0.19242   -0.601909                 -0.231362   \n",
       "1    -0.19242    1.661380                 -0.231362   \n",
       "2    -0.19242    1.661380                 -0.231362   \n",
       "3    -0.19242   -0.601909                 -0.231362   \n",
       "4    -0.19242   -0.601909                 -0.231362   \n",
       "\n",
       "   PreferredPaymentMode_Cash on Delivery  PreferredPaymentMode_Credit Card  \\\n",
       "0                              -0.129439                          2.061941   \n",
       "1                              -0.129439                         -0.484980   \n",
       "2                              -0.129439                         -0.484980   \n",
       "3                              -0.129439                         -0.484980   \n",
       "4                              -0.129439                          2.061941   \n",
       "\n",
       "   PreferredPaymentMode_Debit Card  PreferredPaymentMode_E wallet  \\\n",
       "0                        -0.676805                      -0.292026   \n",
       "1                         1.477531                      -0.292026   \n",
       "2                         1.477531                      -0.292026   \n",
       "3                         1.477531                      -0.292026   \n",
       "4                        -0.676805                      -0.292026   \n",
       "\n",
       "   PreferredPaymentMode_UPI  Gender_Male  PreferedOrderCat_Grocery  \\\n",
       "0                 -0.246352     0.905845                  4.518661   \n",
       "1                 -0.246352     0.905845                 -0.221304   \n",
       "2                 -0.246352    -1.103941                  4.518661   \n",
       "3                 -0.246352     0.905845                  4.518661   \n",
       "4                 -0.246352     0.905845                  4.518661   \n",
       "\n",
       "   PreferedOrderCat_Laptop & Accessory  PreferedOrderCat_Mobile  \\\n",
       "0                            -0.604026                -0.458143   \n",
       "1                            -0.604026                -0.458143   \n",
       "2                            -0.604026                -0.458143   \n",
       "3                            -0.604026                -0.458143   \n",
       "4                            -0.604026                -0.458143   \n",
       "\n",
       "   PreferedOrderCat_Mobile Phone  PreferedOrderCat_Others  \\\n",
       "0                      -0.606144                -0.192846   \n",
       "1                      -0.606144                -0.192846   \n",
       "2                      -0.606144                -0.192846   \n",
       "3                      -0.606144                -0.192846   \n",
       "4                      -0.606144                -0.192846   \n",
       "\n",
       "   MaritalStatus_Married  MaritalStatus_Single  SatisfactionScore_2  \\\n",
       "0              -0.788337              1.468166            -0.261669   \n",
       "1              -0.788337              1.468166            -0.261669   \n",
       "2               1.268494             -0.681122            -0.261669   \n",
       "3               1.268494             -0.681122            -0.261669   \n",
       "4              -0.788337              1.468166            -0.261669   \n",
       "\n",
       "   SatisfactionScore_3  SatisfactionScore_4  SatisfactionScore_5  Complain_1  \n",
       "0            -0.568306            -0.404608             2.329268   -0.665804  \n",
       "1            -0.568306            -0.404608            -0.429319   -0.665804  \n",
       "2            -0.568306             2.471530            -0.429319   -0.665804  \n",
       "3            -0.568306             2.471530            -0.429319   -0.665804  \n",
       "4            -0.568306            -0.404608            -0.429319   -0.665804  "
      ]
     },
     "execution_count": 76,
     "metadata": {},
     "output_type": "execute_result"
    }
   ],
   "source": [
    "X_train.head()"
   ]
  },
  {
   "cell_type": "code",
   "execution_count": 77,
   "id": "0ccdc805",
   "metadata": {},
   "outputs": [
    {
     "data": {
      "text/html": [
       "<div>\n",
       "<style scoped>\n",
       "    .dataframe tbody tr th:only-of-type {\n",
       "        vertical-align: middle;\n",
       "    }\n",
       "\n",
       "    .dataframe tbody tr th {\n",
       "        vertical-align: top;\n",
       "    }\n",
       "\n",
       "    .dataframe thead th {\n",
       "        text-align: right;\n",
       "    }\n",
       "</style>\n",
       "<table border=\"1\" class=\"dataframe\">\n",
       "  <thead>\n",
       "    <tr style=\"text-align: right;\">\n",
       "      <th></th>\n",
       "      <th>count</th>\n",
       "      <th>mean</th>\n",
       "      <th>std</th>\n",
       "      <th>min</th>\n",
       "      <th>25%</th>\n",
       "      <th>50%</th>\n",
       "      <th>75%</th>\n",
       "      <th>max</th>\n",
       "    </tr>\n",
       "  </thead>\n",
       "  <tbody>\n",
       "    <tr>\n",
       "      <th>Tenure</th>\n",
       "      <td>6554.0</td>\n",
       "      <td>1.540998e-16</td>\n",
       "      <td>1.000076</td>\n",
       "      <td>-0.950326</td>\n",
       "      <td>-0.823224</td>\n",
       "      <td>-0.314818</td>\n",
       "      <td>0.559899</td>\n",
       "      <td>6.802867</td>\n",
       "    </tr>\n",
       "    <tr>\n",
       "      <th>WarehouseToHome</th>\n",
       "      <td>6554.0</td>\n",
       "      <td>8.195856e-16</td>\n",
       "      <td>1.000076</td>\n",
       "      <td>-1.371884</td>\n",
       "      <td>-0.889081</td>\n",
       "      <td>-0.164876</td>\n",
       "      <td>0.613332</td>\n",
       "      <td>2.369843</td>\n",
       "    </tr>\n",
       "    <tr>\n",
       "      <th>HourSpendOnApp</th>\n",
       "      <td>6554.0</td>\n",
       "      <td>1.118015e-16</td>\n",
       "      <td>1.000076</td>\n",
       "      <td>-4.428197</td>\n",
       "      <td>-0.757254</td>\n",
       "      <td>0.085014</td>\n",
       "      <td>0.122658</td>\n",
       "      <td>3.093822</td>\n",
       "    </tr>\n",
       "    <tr>\n",
       "      <th>NumberOfDeviceRegistered</th>\n",
       "      <td>6554.0</td>\n",
       "      <td>3.099951e-17</td>\n",
       "      <td>1.000076</td>\n",
       "      <td>-2.780924</td>\n",
       "      <td>-0.715869</td>\n",
       "      <td>0.316659</td>\n",
       "      <td>0.316659</td>\n",
       "      <td>2.381713</td>\n",
       "    </tr>\n",
       "    <tr>\n",
       "      <th>NumberOfAddress</th>\n",
       "      <td>6554.0</td>\n",
       "      <td>9.497878e-16</td>\n",
       "      <td>1.000076</td>\n",
       "      <td>-1.242009</td>\n",
       "      <td>-0.846089</td>\n",
       "      <td>-0.450168</td>\n",
       "      <td>0.737594</td>\n",
       "      <td>7.072324</td>\n",
       "    </tr>\n",
       "    <tr>\n",
       "      <th>OrderAmountHikeFromlastYear</th>\n",
       "      <td>6554.0</td>\n",
       "      <td>1.627750e-16</td>\n",
       "      <td>1.000076</td>\n",
       "      <td>-1.307515</td>\n",
       "      <td>-0.749623</td>\n",
       "      <td>-0.191732</td>\n",
       "      <td>0.645104</td>\n",
       "      <td>2.876669</td>\n",
       "    </tr>\n",
       "    <tr>\n",
       "      <th>CouponUsed</th>\n",
       "      <td>6554.0</td>\n",
       "      <td>8.361568e-16</td>\n",
       "      <td>1.000076</td>\n",
       "      <td>-0.986403</td>\n",
       "      <td>-0.396228</td>\n",
       "      <td>-0.396228</td>\n",
       "      <td>0.193947</td>\n",
       "      <td>8.456395</td>\n",
       "    </tr>\n",
       "    <tr>\n",
       "      <th>OrderCount</th>\n",
       "      <td>6554.0</td>\n",
       "      <td>-5.689935e-16</td>\n",
       "      <td>1.000076</td>\n",
       "      <td>-0.690986</td>\n",
       "      <td>-0.690986</td>\n",
       "      <td>-0.318863</td>\n",
       "      <td>0.053261</td>\n",
       "      <td>4.890867</td>\n",
       "    </tr>\n",
       "    <tr>\n",
       "      <th>DaySinceLastOrder</th>\n",
       "      <td>6554.0</td>\n",
       "      <td>4.277086e-16</td>\n",
       "      <td>1.000076</td>\n",
       "      <td>-1.162310</td>\n",
       "      <td>-0.824554</td>\n",
       "      <td>-0.287111</td>\n",
       "      <td>0.715088</td>\n",
       "      <td>12.257398</td>\n",
       "    </tr>\n",
       "    <tr>\n",
       "      <th>CashbackAmount</th>\n",
       "      <td>6554.0</td>\n",
       "      <td>-1.373101e-15</td>\n",
       "      <td>1.000076</td>\n",
       "      <td>-3.685954</td>\n",
       "      <td>-0.638504</td>\n",
       "      <td>-0.333759</td>\n",
       "      <td>0.384568</td>\n",
       "      <td>3.388482</td>\n",
       "    </tr>\n",
       "    <tr>\n",
       "      <th>PreferredLoginDevice_Mobile Phone</th>\n",
       "      <td>6554.0</td>\n",
       "      <td>-7.066568e-15</td>\n",
       "      <td>1.000076</td>\n",
       "      <td>-1.274244</td>\n",
       "      <td>-1.274244</td>\n",
       "      <td>0.784779</td>\n",
       "      <td>0.784779</td>\n",
       "      <td>0.784779</td>\n",
       "    </tr>\n",
       "    <tr>\n",
       "      <th>CityTier_2</th>\n",
       "      <td>6554.0</td>\n",
       "      <td>-4.172746e-15</td>\n",
       "      <td>1.000076</td>\n",
       "      <td>-0.192420</td>\n",
       "      <td>-0.192420</td>\n",
       "      <td>-0.192420</td>\n",
       "      <td>-0.192420</td>\n",
       "      <td>5.196975</td>\n",
       "    </tr>\n",
       "    <tr>\n",
       "      <th>CityTier_3</th>\n",
       "      <td>6554.0</td>\n",
       "      <td>-1.638739e-16</td>\n",
       "      <td>1.000076</td>\n",
       "      <td>-0.601909</td>\n",
       "      <td>-0.601909</td>\n",
       "      <td>-0.601909</td>\n",
       "      <td>1.661380</td>\n",
       "      <td>1.661380</td>\n",
       "    </tr>\n",
       "    <tr>\n",
       "      <th>PreferredPaymentMode_COD</th>\n",
       "      <td>6554.0</td>\n",
       "      <td>-6.861039e-15</td>\n",
       "      <td>1.000076</td>\n",
       "      <td>-0.231362</td>\n",
       "      <td>-0.231362</td>\n",
       "      <td>-0.231362</td>\n",
       "      <td>-0.231362</td>\n",
       "      <td>4.322231</td>\n",
       "    </tr>\n",
       "    <tr>\n",
       "      <th>PreferredPaymentMode_Cash on Delivery</th>\n",
       "      <td>6554.0</td>\n",
       "      <td>3.461570e-15</td>\n",
       "      <td>1.000076</td>\n",
       "      <td>-0.129439</td>\n",
       "      <td>-0.129439</td>\n",
       "      <td>-0.129439</td>\n",
       "      <td>-0.129439</td>\n",
       "      <td>7.725619</td>\n",
       "    </tr>\n",
       "    <tr>\n",
       "      <th>PreferredPaymentMode_Credit Card</th>\n",
       "      <td>6554.0</td>\n",
       "      <td>1.405926e-14</td>\n",
       "      <td>1.000076</td>\n",
       "      <td>-0.484980</td>\n",
       "      <td>-0.484980</td>\n",
       "      <td>-0.484980</td>\n",
       "      <td>-0.484980</td>\n",
       "      <td>2.061941</td>\n",
       "    </tr>\n",
       "    <tr>\n",
       "      <th>PreferredPaymentMode_Debit Card</th>\n",
       "      <td>6554.0</td>\n",
       "      <td>-2.998754e-15</td>\n",
       "      <td>1.000076</td>\n",
       "      <td>-0.676805</td>\n",
       "      <td>-0.676805</td>\n",
       "      <td>-0.676805</td>\n",
       "      <td>1.477531</td>\n",
       "      <td>1.477531</td>\n",
       "    </tr>\n",
       "    <tr>\n",
       "      <th>PreferredPaymentMode_E wallet</th>\n",
       "      <td>6554.0</td>\n",
       "      <td>9.455529e-16</td>\n",
       "      <td>1.000076</td>\n",
       "      <td>-0.292026</td>\n",
       "      <td>-0.292026</td>\n",
       "      <td>-0.292026</td>\n",
       "      <td>-0.292026</td>\n",
       "      <td>3.424356</td>\n",
       "    </tr>\n",
       "    <tr>\n",
       "      <th>PreferredPaymentMode_UPI</th>\n",
       "      <td>6554.0</td>\n",
       "      <td>-5.766003e-15</td>\n",
       "      <td>1.000076</td>\n",
       "      <td>-0.246352</td>\n",
       "      <td>-0.246352</td>\n",
       "      <td>-0.246352</td>\n",
       "      <td>-0.246352</td>\n",
       "      <td>4.059228</td>\n",
       "    </tr>\n",
       "    <tr>\n",
       "      <th>Gender_Male</th>\n",
       "      <td>6554.0</td>\n",
       "      <td>-3.055908e-15</td>\n",
       "      <td>1.000076</td>\n",
       "      <td>-1.103941</td>\n",
       "      <td>-1.103941</td>\n",
       "      <td>0.905845</td>\n",
       "      <td>0.905845</td>\n",
       "      <td>0.905845</td>\n",
       "    </tr>\n",
       "    <tr>\n",
       "      <th>PreferedOrderCat_Grocery</th>\n",
       "      <td>6554.0</td>\n",
       "      <td>-1.029225e-14</td>\n",
       "      <td>1.000076</td>\n",
       "      <td>-0.221304</td>\n",
       "      <td>-0.221304</td>\n",
       "      <td>-0.221304</td>\n",
       "      <td>-0.221304</td>\n",
       "      <td>4.518661</td>\n",
       "    </tr>\n",
       "    <tr>\n",
       "      <th>PreferedOrderCat_Laptop &amp; Accessory</th>\n",
       "      <td>6554.0</td>\n",
       "      <td>7.682391e-15</td>\n",
       "      <td>1.000076</td>\n",
       "      <td>-0.604026</td>\n",
       "      <td>-0.604026</td>\n",
       "      <td>-0.604026</td>\n",
       "      <td>1.655557</td>\n",
       "      <td>1.655557</td>\n",
       "    </tr>\n",
       "    <tr>\n",
       "      <th>PreferedOrderCat_Mobile</th>\n",
       "      <td>6554.0</td>\n",
       "      <td>5.390748e-15</td>\n",
       "      <td>1.000076</td>\n",
       "      <td>-0.458143</td>\n",
       "      <td>-0.458143</td>\n",
       "      <td>-0.458143</td>\n",
       "      <td>-0.458143</td>\n",
       "      <td>2.182726</td>\n",
       "    </tr>\n",
       "    <tr>\n",
       "      <th>PreferedOrderCat_Mobile Phone</th>\n",
       "      <td>6554.0</td>\n",
       "      <td>2.367482e-15</td>\n",
       "      <td>1.000076</td>\n",
       "      <td>-0.606144</td>\n",
       "      <td>-0.606144</td>\n",
       "      <td>-0.606144</td>\n",
       "      <td>1.649772</td>\n",
       "      <td>1.649772</td>\n",
       "    </tr>\n",
       "    <tr>\n",
       "      <th>PreferedOrderCat_Others</th>\n",
       "      <td>6554.0</td>\n",
       "      <td>-3.827983e-15</td>\n",
       "      <td>1.000076</td>\n",
       "      <td>-0.192846</td>\n",
       "      <td>-0.192846</td>\n",
       "      <td>-0.192846</td>\n",
       "      <td>-0.192846</td>\n",
       "      <td>5.185495</td>\n",
       "    </tr>\n",
       "    <tr>\n",
       "      <th>MaritalStatus_Married</th>\n",
       "      <td>6554.0</td>\n",
       "      <td>5.306033e-15</td>\n",
       "      <td>1.000076</td>\n",
       "      <td>-0.788337</td>\n",
       "      <td>-0.788337</td>\n",
       "      <td>-0.788337</td>\n",
       "      <td>1.268494</td>\n",
       "      <td>1.268494</td>\n",
       "    </tr>\n",
       "    <tr>\n",
       "      <th>MaritalStatus_Single</th>\n",
       "      <td>6554.0</td>\n",
       "      <td>1.119506e-15</td>\n",
       "      <td>1.000076</td>\n",
       "      <td>-0.681122</td>\n",
       "      <td>-0.681122</td>\n",
       "      <td>-0.681122</td>\n",
       "      <td>1.468166</td>\n",
       "      <td>1.468166</td>\n",
       "    </tr>\n",
       "    <tr>\n",
       "      <th>SatisfactionScore_2</th>\n",
       "      <td>6554.0</td>\n",
       "      <td>-2.463547e-15</td>\n",
       "      <td>1.000076</td>\n",
       "      <td>-0.261669</td>\n",
       "      <td>-0.261669</td>\n",
       "      <td>-0.261669</td>\n",
       "      <td>-0.261669</td>\n",
       "      <td>3.821618</td>\n",
       "    </tr>\n",
       "    <tr>\n",
       "      <th>SatisfactionScore_3</th>\n",
       "      <td>6554.0</td>\n",
       "      <td>2.040988e-15</td>\n",
       "      <td>1.000076</td>\n",
       "      <td>-0.568306</td>\n",
       "      <td>-0.568306</td>\n",
       "      <td>-0.568306</td>\n",
       "      <td>-0.568306</td>\n",
       "      <td>1.759616</td>\n",
       "    </tr>\n",
       "    <tr>\n",
       "      <th>SatisfactionScore_4</th>\n",
       "      <td>6554.0</td>\n",
       "      <td>-2.474422e-15</td>\n",
       "      <td>1.000076</td>\n",
       "      <td>-0.404608</td>\n",
       "      <td>-0.404608</td>\n",
       "      <td>-0.404608</td>\n",
       "      <td>-0.404608</td>\n",
       "      <td>2.471530</td>\n",
       "    </tr>\n",
       "    <tr>\n",
       "      <th>SatisfactionScore_5</th>\n",
       "      <td>6554.0</td>\n",
       "      <td>-5.093813e-15</td>\n",
       "      <td>1.000076</td>\n",
       "      <td>-0.429319</td>\n",
       "      <td>-0.429319</td>\n",
       "      <td>-0.429319</td>\n",
       "      <td>-0.429319</td>\n",
       "      <td>2.329268</td>\n",
       "    </tr>\n",
       "    <tr>\n",
       "      <th>Complain_1</th>\n",
       "      <td>6554.0</td>\n",
       "      <td>2.996620e-15</td>\n",
       "      <td>1.000076</td>\n",
       "      <td>-0.665804</td>\n",
       "      <td>-0.665804</td>\n",
       "      <td>-0.665804</td>\n",
       "      <td>1.501944</td>\n",
       "      <td>1.501944</td>\n",
       "    </tr>\n",
       "  </tbody>\n",
       "</table>\n",
       "</div>"
      ],
      "text/plain": [
       "                                        count          mean       std  \\\n",
       "Tenure                                 6554.0  1.540998e-16  1.000076   \n",
       "WarehouseToHome                        6554.0  8.195856e-16  1.000076   \n",
       "HourSpendOnApp                         6554.0  1.118015e-16  1.000076   \n",
       "NumberOfDeviceRegistered               6554.0  3.099951e-17  1.000076   \n",
       "NumberOfAddress                        6554.0  9.497878e-16  1.000076   \n",
       "OrderAmountHikeFromlastYear            6554.0  1.627750e-16  1.000076   \n",
       "CouponUsed                             6554.0  8.361568e-16  1.000076   \n",
       "OrderCount                             6554.0 -5.689935e-16  1.000076   \n",
       "DaySinceLastOrder                      6554.0  4.277086e-16  1.000076   \n",
       "CashbackAmount                         6554.0 -1.373101e-15  1.000076   \n",
       "PreferredLoginDevice_Mobile Phone      6554.0 -7.066568e-15  1.000076   \n",
       "CityTier_2                             6554.0 -4.172746e-15  1.000076   \n",
       "CityTier_3                             6554.0 -1.638739e-16  1.000076   \n",
       "PreferredPaymentMode_COD               6554.0 -6.861039e-15  1.000076   \n",
       "PreferredPaymentMode_Cash on Delivery  6554.0  3.461570e-15  1.000076   \n",
       "PreferredPaymentMode_Credit Card       6554.0  1.405926e-14  1.000076   \n",
       "PreferredPaymentMode_Debit Card        6554.0 -2.998754e-15  1.000076   \n",
       "PreferredPaymentMode_E wallet          6554.0  9.455529e-16  1.000076   \n",
       "PreferredPaymentMode_UPI               6554.0 -5.766003e-15  1.000076   \n",
       "Gender_Male                            6554.0 -3.055908e-15  1.000076   \n",
       "PreferedOrderCat_Grocery               6554.0 -1.029225e-14  1.000076   \n",
       "PreferedOrderCat_Laptop & Accessory    6554.0  7.682391e-15  1.000076   \n",
       "PreferedOrderCat_Mobile                6554.0  5.390748e-15  1.000076   \n",
       "PreferedOrderCat_Mobile Phone          6554.0  2.367482e-15  1.000076   \n",
       "PreferedOrderCat_Others                6554.0 -3.827983e-15  1.000076   \n",
       "MaritalStatus_Married                  6554.0  5.306033e-15  1.000076   \n",
       "MaritalStatus_Single                   6554.0  1.119506e-15  1.000076   \n",
       "SatisfactionScore_2                    6554.0 -2.463547e-15  1.000076   \n",
       "SatisfactionScore_3                    6554.0  2.040988e-15  1.000076   \n",
       "SatisfactionScore_4                    6554.0 -2.474422e-15  1.000076   \n",
       "SatisfactionScore_5                    6554.0 -5.093813e-15  1.000076   \n",
       "Complain_1                             6554.0  2.996620e-15  1.000076   \n",
       "\n",
       "                                            min       25%       50%       75%  \\\n",
       "Tenure                                -0.950326 -0.823224 -0.314818  0.559899   \n",
       "WarehouseToHome                       -1.371884 -0.889081 -0.164876  0.613332   \n",
       "HourSpendOnApp                        -4.428197 -0.757254  0.085014  0.122658   \n",
       "NumberOfDeviceRegistered              -2.780924 -0.715869  0.316659  0.316659   \n",
       "NumberOfAddress                       -1.242009 -0.846089 -0.450168  0.737594   \n",
       "OrderAmountHikeFromlastYear           -1.307515 -0.749623 -0.191732  0.645104   \n",
       "CouponUsed                            -0.986403 -0.396228 -0.396228  0.193947   \n",
       "OrderCount                            -0.690986 -0.690986 -0.318863  0.053261   \n",
       "DaySinceLastOrder                     -1.162310 -0.824554 -0.287111  0.715088   \n",
       "CashbackAmount                        -3.685954 -0.638504 -0.333759  0.384568   \n",
       "PreferredLoginDevice_Mobile Phone     -1.274244 -1.274244  0.784779  0.784779   \n",
       "CityTier_2                            -0.192420 -0.192420 -0.192420 -0.192420   \n",
       "CityTier_3                            -0.601909 -0.601909 -0.601909  1.661380   \n",
       "PreferredPaymentMode_COD              -0.231362 -0.231362 -0.231362 -0.231362   \n",
       "PreferredPaymentMode_Cash on Delivery -0.129439 -0.129439 -0.129439 -0.129439   \n",
       "PreferredPaymentMode_Credit Card      -0.484980 -0.484980 -0.484980 -0.484980   \n",
       "PreferredPaymentMode_Debit Card       -0.676805 -0.676805 -0.676805  1.477531   \n",
       "PreferredPaymentMode_E wallet         -0.292026 -0.292026 -0.292026 -0.292026   \n",
       "PreferredPaymentMode_UPI              -0.246352 -0.246352 -0.246352 -0.246352   \n",
       "Gender_Male                           -1.103941 -1.103941  0.905845  0.905845   \n",
       "PreferedOrderCat_Grocery              -0.221304 -0.221304 -0.221304 -0.221304   \n",
       "PreferedOrderCat_Laptop & Accessory   -0.604026 -0.604026 -0.604026  1.655557   \n",
       "PreferedOrderCat_Mobile               -0.458143 -0.458143 -0.458143 -0.458143   \n",
       "PreferedOrderCat_Mobile Phone         -0.606144 -0.606144 -0.606144  1.649772   \n",
       "PreferedOrderCat_Others               -0.192846 -0.192846 -0.192846 -0.192846   \n",
       "MaritalStatus_Married                 -0.788337 -0.788337 -0.788337  1.268494   \n",
       "MaritalStatus_Single                  -0.681122 -0.681122 -0.681122  1.468166   \n",
       "SatisfactionScore_2                   -0.261669 -0.261669 -0.261669 -0.261669   \n",
       "SatisfactionScore_3                   -0.568306 -0.568306 -0.568306 -0.568306   \n",
       "SatisfactionScore_4                   -0.404608 -0.404608 -0.404608 -0.404608   \n",
       "SatisfactionScore_5                   -0.429319 -0.429319 -0.429319 -0.429319   \n",
       "Complain_1                            -0.665804 -0.665804 -0.665804  1.501944   \n",
       "\n",
       "                                             max  \n",
       "Tenure                                  6.802867  \n",
       "WarehouseToHome                         2.369843  \n",
       "HourSpendOnApp                          3.093822  \n",
       "NumberOfDeviceRegistered                2.381713  \n",
       "NumberOfAddress                         7.072324  \n",
       "OrderAmountHikeFromlastYear             2.876669  \n",
       "CouponUsed                              8.456395  \n",
       "OrderCount                              4.890867  \n",
       "DaySinceLastOrder                      12.257398  \n",
       "CashbackAmount                          3.388482  \n",
       "PreferredLoginDevice_Mobile Phone       0.784779  \n",
       "CityTier_2                              5.196975  \n",
       "CityTier_3                              1.661380  \n",
       "PreferredPaymentMode_COD                4.322231  \n",
       "PreferredPaymentMode_Cash on Delivery   7.725619  \n",
       "PreferredPaymentMode_Credit Card        2.061941  \n",
       "PreferredPaymentMode_Debit Card         1.477531  \n",
       "PreferredPaymentMode_E wallet           3.424356  \n",
       "PreferredPaymentMode_UPI                4.059228  \n",
       "Gender_Male                             0.905845  \n",
       "PreferedOrderCat_Grocery                4.518661  \n",
       "PreferedOrderCat_Laptop & Accessory     1.655557  \n",
       "PreferedOrderCat_Mobile                 2.182726  \n",
       "PreferedOrderCat_Mobile Phone           1.649772  \n",
       "PreferedOrderCat_Others                 5.185495  \n",
       "MaritalStatus_Married                   1.268494  \n",
       "MaritalStatus_Single                    1.468166  \n",
       "SatisfactionScore_2                     3.821618  \n",
       "SatisfactionScore_3                     1.759616  \n",
       "SatisfactionScore_4                     2.471530  \n",
       "SatisfactionScore_5                     2.329268  \n",
       "Complain_1                              1.501944  "
      ]
     },
     "execution_count": 77,
     "metadata": {},
     "output_type": "execute_result"
    }
   ],
   "source": [
    "X_train.describe().T"
   ]
  },
  {
   "cell_type": "code",
   "execution_count": 78,
   "id": "770f0b77",
   "metadata": {},
   "outputs": [
    {
     "data": {
      "text/html": [
       "<style>#sk-container-id-2 {color: black;background-color: white;}#sk-container-id-2 pre{padding: 0;}#sk-container-id-2 div.sk-toggleable {background-color: white;}#sk-container-id-2 label.sk-toggleable__label {cursor: pointer;display: block;width: 100%;margin-bottom: 0;padding: 0.3em;box-sizing: border-box;text-align: center;}#sk-container-id-2 label.sk-toggleable__label-arrow:before {content: \"▸\";float: left;margin-right: 0.25em;color: #696969;}#sk-container-id-2 label.sk-toggleable__label-arrow:hover:before {color: black;}#sk-container-id-2 div.sk-estimator:hover label.sk-toggleable__label-arrow:before {color: black;}#sk-container-id-2 div.sk-toggleable__content {max-height: 0;max-width: 0;overflow: hidden;text-align: left;background-color: #f0f8ff;}#sk-container-id-2 div.sk-toggleable__content pre {margin: 0.2em;color: black;border-radius: 0.25em;background-color: #f0f8ff;}#sk-container-id-2 input.sk-toggleable__control:checked~div.sk-toggleable__content {max-height: 200px;max-width: 100%;overflow: auto;}#sk-container-id-2 input.sk-toggleable__control:checked~label.sk-toggleable__label-arrow:before {content: \"▾\";}#sk-container-id-2 div.sk-estimator input.sk-toggleable__control:checked~label.sk-toggleable__label {background-color: #d4ebff;}#sk-container-id-2 div.sk-label input.sk-toggleable__control:checked~label.sk-toggleable__label {background-color: #d4ebff;}#sk-container-id-2 input.sk-hidden--visually {border: 0;clip: rect(1px 1px 1px 1px);clip: rect(1px, 1px, 1px, 1px);height: 1px;margin: -1px;overflow: hidden;padding: 0;position: absolute;width: 1px;}#sk-container-id-2 div.sk-estimator {font-family: monospace;background-color: #f0f8ff;border: 1px dotted black;border-radius: 0.25em;box-sizing: border-box;margin-bottom: 0.5em;}#sk-container-id-2 div.sk-estimator:hover {background-color: #d4ebff;}#sk-container-id-2 div.sk-parallel-item::after {content: \"\";width: 100%;border-bottom: 1px solid gray;flex-grow: 1;}#sk-container-id-2 div.sk-label:hover label.sk-toggleable__label {background-color: #d4ebff;}#sk-container-id-2 div.sk-serial::before {content: \"\";position: absolute;border-left: 1px solid gray;box-sizing: border-box;top: 0;bottom: 0;left: 50%;z-index: 0;}#sk-container-id-2 div.sk-serial {display: flex;flex-direction: column;align-items: center;background-color: white;padding-right: 0.2em;padding-left: 0.2em;position: relative;}#sk-container-id-2 div.sk-item {position: relative;z-index: 1;}#sk-container-id-2 div.sk-parallel {display: flex;align-items: stretch;justify-content: center;background-color: white;position: relative;}#sk-container-id-2 div.sk-item::before, #sk-container-id-2 div.sk-parallel-item::before {content: \"\";position: absolute;border-left: 1px solid gray;box-sizing: border-box;top: 0;bottom: 0;left: 50%;z-index: -1;}#sk-container-id-2 div.sk-parallel-item {display: flex;flex-direction: column;z-index: 1;position: relative;background-color: white;}#sk-container-id-2 div.sk-parallel-item:first-child::after {align-self: flex-end;width: 50%;}#sk-container-id-2 div.sk-parallel-item:last-child::after {align-self: flex-start;width: 50%;}#sk-container-id-2 div.sk-parallel-item:only-child::after {width: 0;}#sk-container-id-2 div.sk-dashed-wrapped {border: 1px dashed gray;margin: 0 0.4em 0.5em 0.4em;box-sizing: border-box;padding-bottom: 0.4em;background-color: white;}#sk-container-id-2 div.sk-label label {font-family: monospace;font-weight: bold;display: inline-block;line-height: 1.2em;}#sk-container-id-2 div.sk-label-container {text-align: center;}#sk-container-id-2 div.sk-container {/* jupyter's `normalize.less` sets `[hidden] { display: none; }` but bootstrap.min.css set `[hidden] { display: none !important; }` so we also need the `!important` here to be able to override the default hidden behavior on the sphinx rendered scikit-learn.org. See: https://github.com/scikit-learn/scikit-learn/issues/21755 */display: inline-block !important;position: relative;}#sk-container-id-2 div.sk-text-repr-fallback {display: none;}</style><div id=\"sk-container-id-2\" class=\"sk-top-container\"><div class=\"sk-text-repr-fallback\"><pre>PCA(random_state=100, svd_solver=&#x27;randomized&#x27;)</pre><b>In a Jupyter environment, please rerun this cell to show the HTML representation or trust the notebook. <br />On GitHub, the HTML representation is unable to render, please try loading this page with nbviewer.org.</b></div><div class=\"sk-container\" hidden><div class=\"sk-item\"><div class=\"sk-estimator sk-toggleable\"><input class=\"sk-toggleable__control sk-hidden--visually\" id=\"sk-estimator-id-2\" type=\"checkbox\" checked><label for=\"sk-estimator-id-2\" class=\"sk-toggleable__label sk-toggleable__label-arrow\">PCA</label><div class=\"sk-toggleable__content\"><pre>PCA(random_state=100, svd_solver=&#x27;randomized&#x27;)</pre></div></div></div></div></div>"
      ],
      "text/plain": [
       "PCA(random_state=100, svd_solver='randomized')"
      ]
     },
     "execution_count": 78,
     "metadata": {},
     "output_type": "execute_result"
    }
   ],
   "source": [
    "#Import PCA\n",
    "from sklearn.decomposition import PCA\n",
    "\n",
    "# Instantiate PCA\n",
    "pca = PCA(svd_solver='randomized', random_state=100)\n",
    "\n",
    "# Fit train set on PCA\n",
    "pca.fit(X_train)"
   ]
  },
  {
   "cell_type": "code",
   "execution_count": 79,
   "id": "53652220",
   "metadata": {},
   "outputs": [
    {
     "data": {
      "text/plain": [
       "array([[ 0.29718204, -0.03988241,  0.09560955, ...,  0.03345162,\n",
       "         0.01939027, -0.03852897],\n",
       "       [ 0.23012376, -0.02652785, -0.39218111, ...,  0.08263331,\n",
       "        -0.05645786, -0.02496889],\n",
       "       [ 0.10817775, -0.04294356,  0.04442606, ..., -0.00769318,\n",
       "         0.02561919,  0.01410374],\n",
       "       ...,\n",
       "       [-0.00937868,  0.04252963,  0.02714786, ..., -0.09340323,\n",
       "        -0.07916752, -0.02885679],\n",
       "       [-0.05416071,  0.00324219, -0.00530977, ..., -0.14762309,\n",
       "        -0.15547809, -0.01089304],\n",
       "       [-0.01661501, -0.00994464,  0.09038467, ...,  0.01465533,\n",
       "         0.01129009,  0.02001093]])"
      ]
     },
     "execution_count": 79,
     "metadata": {},
     "output_type": "execute_result"
    }
   ],
   "source": [
    "# Looking at the Principal components\n",
    "pca.components_"
   ]
  },
  {
   "cell_type": "code",
   "execution_count": 80,
   "id": "f863d68b",
   "metadata": {},
   "outputs": [
    {
     "name": "stdout",
     "output_type": "stream",
     "text": [
      "[ 10.6112  17.0437  22.7673  27.8743  32.3463  36.6352  40.7543  44.7552\n",
      "  48.4954  52.155   55.6525  59.0461  62.4188  65.6711  68.8954  72.009\n",
      "  74.9484  77.8719  80.6396  83.2595  85.5507  87.681   89.6802  91.5337\n",
      "  93.2449  94.7812  96.1955  97.4148  98.2963  99.1166  99.7196 100.    ]\n"
     ]
    }
   ],
   "source": [
    "# Cumuliative varinace of the principal components.\n",
    "variance_cumu = np.round(np.cumsum(pca.explained_variance_ratio_)*100, decimals=4)\n",
    "print(variance_cumu)"
   ]
  },
  {
   "cell_type": "code",
   "execution_count": 81,
   "id": "4bb2b258",
   "metadata": {},
   "outputs": [
    {
     "data": {
      "image/png": "[encoded data removed]",
      "text/plain": [
       "<Figure size 864x576 with 1 Axes>"
      ]
     },
     "metadata": {
      "needs_background": "light"
     },
     "output_type": "display_data"
    }
   ],
   "source": [
    "#Making the screeplot - plotting the cumulative variance against the number of components\n",
    "%matplotlib inline\n",
    "fig = plt.figure(figsize = (12,8))\n",
    "plt.plot(np.cumsum(pca.explained_variance_ratio_))\n",
    "plt.xlabel('number of components')\n",
    "plt.ylabel('cumulative explained variance')\n",
    "plt.show()"
   ]
  },
  {
   "cell_type": "code",
   "execution_count": 82,
   "id": "11d9daed",
   "metadata": {},
   "outputs": [],
   "source": [
    "from sklearn.decomposition import IncrementalPCA\n",
    "pca_final = IncrementalPCA(n_components = 20) # since more than 90% variance is decsribed\n",
    "\n",
    "X_train_pca = pca_final.fit_transform(X_train)"
   ]
  },
  {
   "cell_type": "code",
   "execution_count": 83,
   "id": "f41dcd7e",
   "metadata": {},
   "outputs": [
    {
     "name": "stdout",
     "output_type": "stream",
     "text": [
      "Size of earlier dataset was : (6554, 32)\n",
      "Size of dataset after PCA is: (6554, 20)\n"
     ]
    }
   ],
   "source": [
    "print(\"Size of earlier dataset was :\",X_train.shape)\n",
    "print(\"Size of dataset after PCA is:\", X_train_pca.shape)"
   ]
  },
  {
   "cell_type": "code",
   "execution_count": 84,
   "id": "495f2184",
   "metadata": {},
   "outputs": [
    {
     "name": "stdout",
     "output_type": "stream",
     "text": [
      "max positive corr: 0.012 , min negative corr:  -0.009\n"
     ]
    }
   ],
   "source": [
    "#creating correlation matrix for the given data\n",
    "corrmat = np.corrcoef(X_train_pca.transpose())\n",
    "\n",
    "#Make a diagonal matrix with diagonal entry of Matrix corrmat\n",
    "p = np.diagflat(corrmat.diagonal())\n",
    "\n",
    "# subtract diagonal entries making all diagonals 0\n",
    "corrmat_diag_zero = corrmat - p\n",
    "print(\"max positive corr:\",round(corrmat_diag_zero.max(),3), \", min negative corr: \", round(corrmat_diag_zero.min(),3))"
   ]
  },
  {
   "cell_type": "markdown",
   "id": "f26d8995",
   "metadata": {},
   "source": [
    "We can see from the above calculations that the correlation among the attributes is almost 0, we can proceed with these principal components.\n",
    "\n",
    "Applying transformation on the test set\n",
    "\n",
    "We are only doing Transform in the test set not the Fit-Transform. Because the Fitting is already done on the train set. So, we just have to do the transformation with the already fitted data on the train set."
   ]
  },
  {
   "cell_type": "code",
   "execution_count": 85,
   "id": "ae79c880",
   "metadata": {},
   "outputs": [
    {
     "data": {
      "text/plain": [
       "(1689, 20)"
      ]
     },
     "execution_count": 85,
     "metadata": {},
     "output_type": "execute_result"
    }
   ],
   "source": [
    "X_test_pca = pca_final.transform(X_test)\n",
    "X_test_pca.shape"
   ]
  },
  {
   "cell_type": "markdown",
   "id": "55a6641c",
   "metadata": {},
   "source": [
    "Model Building\n",
    "\n",
    "Lets start model building with logistic regression"
   ]
  },
  {
   "cell_type": "code",
   "execution_count": 86,
   "id": "f0f54f79",
   "metadata": {},
   "outputs": [
    {
     "data": {
      "text/html": [
       "<style>#sk-container-id-3 {color: black;background-color: white;}#sk-container-id-3 pre{padding: 0;}#sk-container-id-3 div.sk-toggleable {background-color: white;}#sk-container-id-3 label.sk-toggleable__label {cursor: pointer;display: block;width: 100%;margin-bottom: 0;padding: 0.3em;box-sizing: border-box;text-align: center;}#sk-container-id-3 label.sk-toggleable__label-arrow:before {content: \"▸\";float: left;margin-right: 0.25em;color: #696969;}#sk-container-id-3 label.sk-toggleable__label-arrow:hover:before {color: black;}#sk-container-id-3 div.sk-estimator:hover label.sk-toggleable__label-arrow:before {color: black;}#sk-container-id-3 div.sk-toggleable__content {max-height: 0;max-width: 0;overflow: hidden;text-align: left;background-color: #f0f8ff;}#sk-container-id-3 div.sk-toggleable__content pre {margin: 0.2em;color: black;border-radius: 0.25em;background-color: #f0f8ff;}#sk-container-id-3 input.sk-toggleable__control:checked~div.sk-toggleable__content {max-height: 200px;max-width: 100%;overflow: auto;}#sk-container-id-3 input.sk-toggleable__control:checked~label.sk-toggleable__label-arrow:before {content: \"▾\";}#sk-container-id-3 div.sk-estimator input.sk-toggleable__control:checked~label.sk-toggleable__label {background-color: #d4ebff;}#sk-container-id-3 div.sk-label input.sk-toggleable__control:checked~label.sk-toggleable__label {background-color: #d4ebff;}#sk-container-id-3 input.sk-hidden--visually {border: 0;clip: rect(1px 1px 1px 1px);clip: rect(1px, 1px, 1px, 1px);height: 1px;margin: -1px;overflow: hidden;padding: 0;position: absolute;width: 1px;}#sk-container-id-3 div.sk-estimator {font-family: monospace;background-color: #f0f8ff;border: 1px dotted black;border-radius: 0.25em;box-sizing: border-box;margin-bottom: 0.5em;}#sk-container-id-3 div.sk-estimator:hover {background-color: #d4ebff;}#sk-container-id-3 div.sk-parallel-item::after {content: \"\";width: 100%;border-bottom: 1px solid gray;flex-grow: 1;}#sk-container-id-3 div.sk-label:hover label.sk-toggleable__label {background-color: #d4ebff;}#sk-container-id-3 div.sk-serial::before {content: \"\";position: absolute;border-left: 1px solid gray;box-sizing: border-box;top: 0;bottom: 0;left: 50%;z-index: 0;}#sk-container-id-3 div.sk-serial {display: flex;flex-direction: column;align-items: center;background-color: white;padding-right: 0.2em;padding-left: 0.2em;position: relative;}#sk-container-id-3 div.sk-item {position: relative;z-index: 1;}#sk-container-id-3 div.sk-parallel {display: flex;align-items: stretch;justify-content: center;background-color: white;position: relative;}#sk-container-id-3 div.sk-item::before, #sk-container-id-3 div.sk-parallel-item::before {content: \"\";position: absolute;border-left: 1px solid gray;box-sizing: border-box;top: 0;bottom: 0;left: 50%;z-index: -1;}#sk-container-id-3 div.sk-parallel-item {display: flex;flex-direction: column;z-index: 1;position: relative;background-color: white;}#sk-container-id-3 div.sk-parallel-item:first-child::after {align-self: flex-end;width: 50%;}#sk-container-id-3 div.sk-parallel-item:last-child::after {align-self: flex-start;width: 50%;}#sk-container-id-3 div.sk-parallel-item:only-child::after {width: 0;}#sk-container-id-3 div.sk-dashed-wrapped {border: 1px dashed gray;margin: 0 0.4em 0.5em 0.4em;box-sizing: border-box;padding-bottom: 0.4em;background-color: white;}#sk-container-id-3 div.sk-label label {font-family: monospace;font-weight: bold;display: inline-block;line-height: 1.2em;}#sk-container-id-3 div.sk-label-container {text-align: center;}#sk-container-id-3 div.sk-container {/* jupyter's `normalize.less` sets `[hidden] { display: none; }` but bootstrap.min.css set `[hidden] { display: none !important; }` so we also need the `!important` here to be able to override the default hidden behavior on the sphinx rendered scikit-learn.org. See: https://github.com/scikit-learn/scikit-learn/issues/21755 */display: inline-block !important;position: relative;}#sk-container-id-3 div.sk-text-repr-fallback {display: none;}</style><div id=\"sk-container-id-3\" class=\"sk-top-container\"><div class=\"sk-text-repr-fallback\"><pre>LogisticRegression(class_weight=&#x27;balanced&#x27;)</pre><b>In a Jupyter environment, please rerun this cell to show the HTML representation or trust the notebook. <br />On GitHub, the HTML representation is unable to render, please try loading this page with nbviewer.org.</b></div><div class=\"sk-container\" hidden><div class=\"sk-item\"><div class=\"sk-estimator sk-toggleable\"><input class=\"sk-toggleable__control sk-hidden--visually\" id=\"sk-estimator-id-3\" type=\"checkbox\" checked><label for=\"sk-estimator-id-3\" class=\"sk-toggleable__label sk-toggleable__label-arrow\">LogisticRegression</label><div class=\"sk-toggleable__content\"><pre>LogisticRegression(class_weight=&#x27;balanced&#x27;)</pre></div></div></div></div></div>"
      ],
      "text/plain": [
       "LogisticRegression(class_weight='balanced')"
      ]
     },
     "execution_count": 86,
     "metadata": {},
     "output_type": "execute_result"
    }
   ],
   "source": [
    "# Importing scikit logistic regression module\n",
    "\n",
    "from sklearn.linear_model import LogisticRegression\n",
    "\n",
    "# default solver is very slow so changed to 'lbfgs'\n",
    "logreg = LogisticRegression(solver = 'lbfgs',class_weight=\"balanced\")\n",
    "\n",
    "# Training the model on the data\n",
    "logreg.fit(X_train_pca, y_train)"
   ]
  },
  {
   "cell_type": "code",
   "execution_count": 87,
   "id": "65b05ce7",
   "metadata": {},
   "outputs": [],
   "source": [
    "# Impoting metrics\n",
    "from sklearn import metrics\n",
    "from sklearn.metrics import confusion_matrix"
   ]
  },
  {
   "cell_type": "code",
   "execution_count": 88,
   "id": "89dcd151",
   "metadata": {},
   "outputs": [
    {
     "name": "stdout",
     "output_type": "stream",
     "text": [
      "confusoin matrix \t\n",
      " [[1106  299]\n",
      " [  92  192]]\n",
      "sensitivity \t 0.68\n",
      "specificity \t 0.79\n",
      "area under the curve \t 0.73\n"
     ]
    }
   ],
   "source": [
    "#prediction on test data\n",
    "y_pred = logreg.predict(X_test_pca)\n",
    "\n",
    "#create confusion matrix\n",
    "cm = confusion_matrix(y_test,y_pred)\n",
    "print(\"confusoin matrix \\t\\n\",cm)\n",
    "\n",
    "#checking sesitivity \n",
    "print(\"sensitivity \\t\", (cm[1,1]/(cm[1,0]+cm[1,1])).round(2))\n",
    "\n",
    "\n",
    "#checking  specificity\n",
    "print(\"specificity \\t\", (cm[0,0]/(cm[0,0]+cm[0,1])).round(2))\n",
    "\n",
    "#check area under the curve\n",
    "from sklearn.metrics import roc_auc_score\n",
    "print(\"area under the curve \\t\",round(roc_auc_score(y_test,y_pred),2))"
   ]
  },
  {
   "cell_type": "markdown",
   "id": "0f0bae99",
   "metadata": {},
   "source": [
    "Tuning hyperparameter C\n",
    "\n",
    "C is the the inverse of regularization strength in Logistic Regression. Higher values of C correspond to less regularization."
   ]
  },
  {
   "cell_type": "code",
   "execution_count": 89,
   "id": "cea89434",
   "metadata": {},
   "outputs": [],
   "source": [
    "# Importing libraries for cross validation\n",
    "from sklearn.model_selection import KFold, StratifiedKFold\n",
    "from sklearn.model_selection import cross_val_score\n",
    "from sklearn.model_selection import GridSearchCV"
   ]
  },
  {
   "cell_type": "code",
   "execution_count": 90,
   "id": "5ec43ee7",
   "metadata": {},
   "outputs": [
    {
     "name": "stdout",
     "output_type": "stream",
     "text": [
      "Fitting 5 folds for each of 6 candidates, totalling 30 fits\n"
     ]
    },
    {
     "data": {
      "text/html": [
       "<style>#sk-container-id-4 {color: black;background-color: white;}#sk-container-id-4 pre{padding: 0;}#sk-container-id-4 div.sk-toggleable {background-color: white;}#sk-container-id-4 label.sk-toggleable__label {cursor: pointer;display: block;width: 100%;margin-bottom: 0;padding: 0.3em;box-sizing: border-box;text-align: center;}#sk-container-id-4 label.sk-toggleable__label-arrow:before {content: \"▸\";float: left;margin-right: 0.25em;color: #696969;}#sk-container-id-4 label.sk-toggleable__label-arrow:hover:before {color: black;}#sk-container-id-4 div.sk-estimator:hover label.sk-toggleable__label-arrow:before {color: black;}#sk-container-id-4 div.sk-toggleable__content {max-height: 0;max-width: 0;overflow: hidden;text-align: left;background-color: #f0f8ff;}#sk-container-id-4 div.sk-toggleable__content pre {margin: 0.2em;color: black;border-radius: 0.25em;background-color: #f0f8ff;}#sk-container-id-4 input.sk-toggleable__control:checked~div.sk-toggleable__content {max-height: 200px;max-width: 100%;overflow: auto;}#sk-container-id-4 input.sk-toggleable__control:checked~label.sk-toggleable__label-arrow:before {content: \"▾\";}#sk-container-id-4 div.sk-estimator input.sk-toggleable__control:checked~label.sk-toggleable__label {background-color: #d4ebff;}#sk-container-id-4 div.sk-label input.sk-toggleable__control:checked~label.sk-toggleable__label {background-color: #d4ebff;}#sk-container-id-4 input.sk-hidden--visually {border: 0;clip: rect(1px 1px 1px 1px);clip: rect(1px, 1px, 1px, 1px);height: 1px;margin: -1px;overflow: hidden;padding: 0;position: absolute;width: 1px;}#sk-container-id-4 div.sk-estimator {font-family: monospace;background-color: #f0f8ff;border: 1px dotted black;border-radius: 0.25em;box-sizing: border-box;margin-bottom: 0.5em;}#sk-container-id-4 div.sk-estimator:hover {background-color: #d4ebff;}#sk-container-id-4 div.sk-parallel-item::after {content: \"\";width: 100%;border-bottom: 1px solid gray;flex-grow: 1;}#sk-container-id-4 div.sk-label:hover label.sk-toggleable__label {background-color: #d4ebff;}#sk-container-id-4 div.sk-serial::before {content: \"\";position: absolute;border-left: 1px solid gray;box-sizing: border-box;top: 0;bottom: 0;left: 50%;z-index: 0;}#sk-container-id-4 div.sk-serial {display: flex;flex-direction: column;align-items: center;background-color: white;padding-right: 0.2em;padding-left: 0.2em;position: relative;}#sk-container-id-4 div.sk-item {position: relative;z-index: 1;}#sk-container-id-4 div.sk-parallel {display: flex;align-items: stretch;justify-content: center;background-color: white;position: relative;}#sk-container-id-4 div.sk-item::before, #sk-container-id-4 div.sk-parallel-item::before {content: \"\";position: absolute;border-left: 1px solid gray;box-sizing: border-box;top: 0;bottom: 0;left: 50%;z-index: -1;}#sk-container-id-4 div.sk-parallel-item {display: flex;flex-direction: column;z-index: 1;position: relative;background-color: white;}#sk-container-id-4 div.sk-parallel-item:first-child::after {align-self: flex-end;width: 50%;}#sk-container-id-4 div.sk-parallel-item:last-child::after {align-self: flex-start;width: 50%;}#sk-container-id-4 div.sk-parallel-item:only-child::after {width: 0;}#sk-container-id-4 div.sk-dashed-wrapped {border: 1px dashed gray;margin: 0 0.4em 0.5em 0.4em;box-sizing: border-box;padding-bottom: 0.4em;background-color: white;}#sk-container-id-4 div.sk-label label {font-family: monospace;font-weight: bold;display: inline-block;line-height: 1.2em;}#sk-container-id-4 div.sk-label-container {text-align: center;}#sk-container-id-4 div.sk-container {/* jupyter's `normalize.less` sets `[hidden] { display: none; }` but bootstrap.min.css set `[hidden] { display: none !important; }` so we also need the `!important` here to be able to override the default hidden behavior on the sphinx rendered scikit-learn.org. See: https://github.com/scikit-learn/scikit-learn/issues/21755 */display: inline-block !important;position: relative;}#sk-container-id-4 div.sk-text-repr-fallback {display: none;}</style><div id=\"sk-container-id-4\" class=\"sk-top-container\"><div class=\"sk-text-repr-fallback\"><pre>GridSearchCV(cv=StratifiedKFold(n_splits=5, random_state=4, shuffle=True),\n",
       "             estimator=LogisticRegression(),\n",
       "             param_grid={&#x27;C&#x27;: [0.01, 0.1, 1, 10, 100, 1000]},\n",
       "             return_train_score=True, scoring=&#x27;roc_auc&#x27;, verbose=1)</pre><b>In a Jupyter environment, please rerun this cell to show the HTML representation or trust the notebook. <br />On GitHub, the HTML representation is unable to render, please try loading this page with nbviewer.org.</b></div><div class=\"sk-container\" hidden><div class=\"sk-item sk-dashed-wrapped\"><div class=\"sk-label-container\"><div class=\"sk-label sk-toggleable\"><input class=\"sk-toggleable__control sk-hidden--visually\" id=\"sk-estimator-id-4\" type=\"checkbox\" ><label for=\"sk-estimator-id-4\" class=\"sk-toggleable__label sk-toggleable__label-arrow\">GridSearchCV</label><div class=\"sk-toggleable__content\"><pre>GridSearchCV(cv=StratifiedKFold(n_splits=5, random_state=4, shuffle=True),\n",
       "             estimator=LogisticRegression(),\n",
       "             param_grid={&#x27;C&#x27;: [0.01, 0.1, 1, 10, 100, 1000]},\n",
       "             return_train_score=True, scoring=&#x27;roc_auc&#x27;, verbose=1)</pre></div></div></div><div class=\"sk-parallel\"><div class=\"sk-parallel-item\"><div class=\"sk-item\"><div class=\"sk-label-container\"><div class=\"sk-label sk-toggleable\"><input class=\"sk-toggleable__control sk-hidden--visually\" id=\"sk-estimator-id-5\" type=\"checkbox\" ><label for=\"sk-estimator-id-5\" class=\"sk-toggleable__label sk-toggleable__label-arrow\">estimator: LogisticRegression</label><div class=\"sk-toggleable__content\"><pre>LogisticRegression()</pre></div></div></div><div class=\"sk-serial\"><div class=\"sk-item\"><div class=\"sk-estimator sk-toggleable\"><input class=\"sk-toggleable__control sk-hidden--visually\" id=\"sk-estimator-id-6\" type=\"checkbox\" ><label for=\"sk-estimator-id-6\" class=\"sk-toggleable__label sk-toggleable__label-arrow\">LogisticRegression</label><div class=\"sk-toggleable__content\"><pre>LogisticRegression()</pre></div></div></div></div></div></div></div></div></div></div>"
      ],
      "text/plain": [
       "GridSearchCV(cv=StratifiedKFold(n_splits=5, random_state=4, shuffle=True),\n",
       "             estimator=LogisticRegression(),\n",
       "             param_grid={'C': [0.01, 0.1, 1, 10, 100, 1000]},\n",
       "             return_train_score=True, scoring='roc_auc', verbose=1)"
      ]
     },
     "execution_count": 90,
     "metadata": {},
     "output_type": "execute_result"
    }
   ],
   "source": [
    "# Creating StratifiedKFold object with 5 splits\n",
    "folds = StratifiedKFold(n_splits=5, shuffle=True, random_state=4)\n",
    "\n",
    "# Specify params\n",
    "params = {\"C\": [0.01, 0.1, 1, 10, 100, 1000]}\n",
    "\n",
    "# GridSearch\n",
    "model_cv = GridSearchCV(estimator = LogisticRegression(),\n",
    "                        param_grid = params, \n",
    "                        scoring= 'roc_auc', \n",
    "                        cv = folds, \n",
    "                        verbose = 1,\n",
    "                        return_train_score=True) \n",
    "\n",
    "# Fit the model\n",
    "model_cv.fit(X_train_pca, y_train)"
   ]
  },
  {
   "cell_type": "code",
   "execution_count": 91,
   "id": "fbbe6e0d",
   "metadata": {},
   "outputs": [
    {
     "data": {
      "text/html": [
       "<div>\n",
       "<style scoped>\n",
       "    .dataframe tbody tr th:only-of-type {\n",
       "        vertical-align: middle;\n",
       "    }\n",
       "\n",
       "    .dataframe tbody tr th {\n",
       "        vertical-align: top;\n",
       "    }\n",
       "\n",
       "    .dataframe thead th {\n",
       "        text-align: right;\n",
       "    }\n",
       "</style>\n",
       "<table border=\"1\" class=\"dataframe\">\n",
       "  <thead>\n",
       "    <tr style=\"text-align: right;\">\n",
       "      <th></th>\n",
       "      <th>mean_fit_time</th>\n",
       "      <th>std_fit_time</th>\n",
       "      <th>mean_score_time</th>\n",
       "      <th>std_score_time</th>\n",
       "      <th>param_C</th>\n",
       "      <th>params</th>\n",
       "      <th>split0_test_score</th>\n",
       "      <th>split1_test_score</th>\n",
       "      <th>split2_test_score</th>\n",
       "      <th>split3_test_score</th>\n",
       "      <th>split4_test_score</th>\n",
       "      <th>mean_test_score</th>\n",
       "      <th>std_test_score</th>\n",
       "      <th>rank_test_score</th>\n",
       "      <th>split0_train_score</th>\n",
       "      <th>split1_train_score</th>\n",
       "      <th>split2_train_score</th>\n",
       "      <th>split3_train_score</th>\n",
       "      <th>split4_train_score</th>\n",
       "      <th>mean_train_score</th>\n",
       "      <th>std_train_score</th>\n",
       "    </tr>\n",
       "  </thead>\n",
       "  <tbody>\n",
       "    <tr>\n",
       "      <th>0</th>\n",
       "      <td>0.004195</td>\n",
       "      <td>0.006774</td>\n",
       "      <td>0.000000</td>\n",
       "      <td>0.000000</td>\n",
       "      <td>0.01</td>\n",
       "      <td>{'C': 0.01}</td>\n",
       "      <td>0.869736</td>\n",
       "      <td>0.863073</td>\n",
       "      <td>0.885108</td>\n",
       "      <td>0.876492</td>\n",
       "      <td>0.874912</td>\n",
       "      <td>0.873864</td>\n",
       "      <td>0.007320</td>\n",
       "      <td>6</td>\n",
       "      <td>0.877007</td>\n",
       "      <td>0.878959</td>\n",
       "      <td>0.873248</td>\n",
       "      <td>0.875294</td>\n",
       "      <td>0.875855</td>\n",
       "      <td>0.876073</td>\n",
       "      <td>0.001889</td>\n",
       "    </tr>\n",
       "    <tr>\n",
       "      <th>1</th>\n",
       "      <td>0.009493</td>\n",
       "      <td>0.006666</td>\n",
       "      <td>0.003125</td>\n",
       "      <td>0.006250</td>\n",
       "      <td>0.1</td>\n",
       "      <td>{'C': 0.1}</td>\n",
       "      <td>0.870469</td>\n",
       "      <td>0.863424</td>\n",
       "      <td>0.885336</td>\n",
       "      <td>0.876766</td>\n",
       "      <td>0.875478</td>\n",
       "      <td>0.874295</td>\n",
       "      <td>0.007242</td>\n",
       "      <td>5</td>\n",
       "      <td>0.877371</td>\n",
       "      <td>0.879467</td>\n",
       "      <td>0.873778</td>\n",
       "      <td>0.875686</td>\n",
       "      <td>0.876254</td>\n",
       "      <td>0.876511</td>\n",
       "      <td>0.001881</td>\n",
       "    </tr>\n",
       "    <tr>\n",
       "      <th>2</th>\n",
       "      <td>0.006328</td>\n",
       "      <td>0.005903</td>\n",
       "      <td>0.003124</td>\n",
       "      <td>0.006249</td>\n",
       "      <td>1</td>\n",
       "      <td>{'C': 1}</td>\n",
       "      <td>0.870490</td>\n",
       "      <td>0.863349</td>\n",
       "      <td>0.885389</td>\n",
       "      <td>0.876801</td>\n",
       "      <td>0.875534</td>\n",
       "      <td>0.874313</td>\n",
       "      <td>0.007283</td>\n",
       "      <td>4</td>\n",
       "      <td>0.877396</td>\n",
       "      <td>0.879479</td>\n",
       "      <td>0.873824</td>\n",
       "      <td>0.875723</td>\n",
       "      <td>0.876274</td>\n",
       "      <td>0.876539</td>\n",
       "      <td>0.001870</td>\n",
       "    </tr>\n",
       "    <tr>\n",
       "      <th>3</th>\n",
       "      <td>0.003125</td>\n",
       "      <td>0.006249</td>\n",
       "      <td>0.003125</td>\n",
       "      <td>0.006249</td>\n",
       "      <td>10</td>\n",
       "      <td>{'C': 10}</td>\n",
       "      <td>0.870508</td>\n",
       "      <td>0.863317</td>\n",
       "      <td>0.885398</td>\n",
       "      <td>0.876815</td>\n",
       "      <td>0.875529</td>\n",
       "      <td>0.874314</td>\n",
       "      <td>0.007294</td>\n",
       "      <td>3</td>\n",
       "      <td>0.877399</td>\n",
       "      <td>0.879485</td>\n",
       "      <td>0.873824</td>\n",
       "      <td>0.875727</td>\n",
       "      <td>0.876284</td>\n",
       "      <td>0.876544</td>\n",
       "      <td>0.001872</td>\n",
       "    </tr>\n",
       "    <tr>\n",
       "      <th>4</th>\n",
       "      <td>0.009453</td>\n",
       "      <td>0.007719</td>\n",
       "      <td>0.003124</td>\n",
       "      <td>0.006249</td>\n",
       "      <td>100</td>\n",
       "      <td>{'C': 100}</td>\n",
       "      <td>0.870501</td>\n",
       "      <td>0.863336</td>\n",
       "      <td>0.885394</td>\n",
       "      <td>0.876820</td>\n",
       "      <td>0.875529</td>\n",
       "      <td>0.874316</td>\n",
       "      <td>0.007288</td>\n",
       "      <td>2</td>\n",
       "      <td>0.877399</td>\n",
       "      <td>0.879485</td>\n",
       "      <td>0.873823</td>\n",
       "      <td>0.875729</td>\n",
       "      <td>0.876285</td>\n",
       "      <td>0.876544</td>\n",
       "      <td>0.001872</td>\n",
       "    </tr>\n",
       "    <tr>\n",
       "      <th>5</th>\n",
       "      <td>0.009374</td>\n",
       "      <td>0.007654</td>\n",
       "      <td>0.000000</td>\n",
       "      <td>0.000000</td>\n",
       "      <td>1000</td>\n",
       "      <td>{'C': 1000}</td>\n",
       "      <td>0.870504</td>\n",
       "      <td>0.863340</td>\n",
       "      <td>0.885394</td>\n",
       "      <td>0.876822</td>\n",
       "      <td>0.875527</td>\n",
       "      <td>0.874317</td>\n",
       "      <td>0.007287</td>\n",
       "      <td>1</td>\n",
       "      <td>0.877399</td>\n",
       "      <td>0.879486</td>\n",
       "      <td>0.873823</td>\n",
       "      <td>0.875729</td>\n",
       "      <td>0.876285</td>\n",
       "      <td>0.876544</td>\n",
       "      <td>0.001872</td>\n",
       "    </tr>\n",
       "  </tbody>\n",
       "</table>\n",
       "</div>"
      ],
      "text/plain": [
       "   mean_fit_time  std_fit_time  mean_score_time  std_score_time param_C  \\\n",
       "0       0.004195      0.006774         0.000000        0.000000    0.01   \n",
       "1       0.009493      0.006666         0.003125        0.006250     0.1   \n",
       "2       0.006328      0.005903         0.003124        0.006249       1   \n",
       "3       0.003125      0.006249         0.003125        0.006249      10   \n",
       "4       0.009453      0.007719         0.003124        0.006249     100   \n",
       "5       0.009374      0.007654         0.000000        0.000000    1000   \n",
       "\n",
       "        params  split0_test_score  split1_test_score  split2_test_score  \\\n",
       "0  {'C': 0.01}           0.869736           0.863073           0.885108   \n",
       "1   {'C': 0.1}           0.870469           0.863424           0.885336   \n",
       "2     {'C': 1}           0.870490           0.863349           0.885389   \n",
       "3    {'C': 10}           0.870508           0.863317           0.885398   \n",
       "4   {'C': 100}           0.870501           0.863336           0.885394   \n",
       "5  {'C': 1000}           0.870504           0.863340           0.885394   \n",
       "\n",
       "   split3_test_score  split4_test_score  mean_test_score  std_test_score  \\\n",
       "0           0.876492           0.874912         0.873864        0.007320   \n",
       "1           0.876766           0.875478         0.874295        0.007242   \n",
       "2           0.876801           0.875534         0.874313        0.007283   \n",
       "3           0.876815           0.875529         0.874314        0.007294   \n",
       "4           0.876820           0.875529         0.874316        0.007288   \n",
       "5           0.876822           0.875527         0.874317        0.007287   \n",
       "\n",
       "   rank_test_score  split0_train_score  split1_train_score  \\\n",
       "0                6            0.877007            0.878959   \n",
       "1                5            0.877371            0.879467   \n",
       "2                4            0.877396            0.879479   \n",
       "3                3            0.877399            0.879485   \n",
       "4                2            0.877399            0.879485   \n",
       "5                1            0.877399            0.879486   \n",
       "\n",
       "   split2_train_score  split3_train_score  split4_train_score  \\\n",
       "0            0.873248            0.875294            0.875855   \n",
       "1            0.873778            0.875686            0.876254   \n",
       "2            0.873824            0.875723            0.876274   \n",
       "3            0.873824            0.875727            0.876284   \n",
       "4            0.873823            0.875729            0.876285   \n",
       "5            0.873823            0.875729            0.876285   \n",
       "\n",
       "   mean_train_score  std_train_score  \n",
       "0          0.876073         0.001889  \n",
       "1          0.876511         0.001881  \n",
       "2          0.876539         0.001870  \n",
       "3          0.876544         0.001872  \n",
       "4          0.876544         0.001872  \n",
       "5          0.876544         0.001872  "
      ]
     },
     "execution_count": 91,
     "metadata": {},
     "output_type": "execute_result"
    }
   ],
   "source": [
    "# results of grid search CV\n",
    "cv_results = pd.DataFrame(model_cv.cv_results_)\n",
    "cv_results"
   ]
  },
  {
   "cell_type": "code",
   "execution_count": 92,
   "id": "4eb8db62",
   "metadata": {},
   "outputs": [
    {
     "data": {
      "image/png": "[encoded data removed]",
      "text/plain": [
       "<Figure size 576x432 with 1 Axes>"
      ]
     },
     "metadata": {
      "needs_background": "light"
     },
     "output_type": "display_data"
    }
   ],
   "source": [
    " # plotting C versus train and validation scores\n",
    "\n",
    "plt.figure(figsize=(8, 6))\n",
    "plt.plot(cv_results['param_C'], cv_results['mean_test_score'])\n",
    "plt.plot(cv_results['param_C'], cv_results['mean_train_score'])\n",
    "plt.xlabel('C')\n",
    "plt.ylabel('sensitivity')\n",
    "plt.legend(['test result', 'train result'], loc='best')\n",
    "plt.xscale('log')"
   ]
  },
  {
   "cell_type": "code",
   "execution_count": 93,
   "id": "1c68dc9b",
   "metadata": {},
   "outputs": [
    {
     "name": "stdout",
     "output_type": "stream",
     "text": [
      " The highest test sensitivity is 0.874317385137315 at C = 1000\n"
     ]
    }
   ],
   "source": [
    "# Best score with best C\n",
    "best_score = model_cv.best_score_\n",
    "best_C = model_cv.best_params_['C']\n",
    "\n",
    "print(\" The highest test sensitivity is {0} at C = {1}\".format(best_score, best_C))"
   ]
  },
  {
   "cell_type": "code",
   "execution_count": 94,
   "id": "13f6ce3b",
   "metadata": {},
   "outputs": [],
   "source": [
    "# Lets build model with optimum parameter\n",
    "\n",
    "# Instantiate the model with best C\n",
    "logistic_pca = LogisticRegression(C=best_C)\n",
    "\n",
    "# Fit the model on the train set\n",
    "log_pca_model = logistic_pca.fit(X_train_pca, y_train)"
   ]
  },
  {
   "cell_type": "code",
   "execution_count": 95,
   "id": "2a879a8c",
   "metadata": {},
   "outputs": [],
   "source": [
    "# Predictions on the train set\n",
    "y_train_pred = log_pca_model.predict(X_train_pca)"
   ]
  },
  {
   "cell_type": "code",
   "execution_count": 96,
   "id": "ef4df6c4",
   "metadata": {},
   "outputs": [
    {
     "data": {
      "text/plain": [
       "<sklearn.metrics._plot.confusion_matrix.ConfusionMatrixDisplay at 0x240f49d8280>"
      ]
     },
     "execution_count": 96,
     "metadata": {},
     "output_type": "execute_result"
    },
    {
     "data": {
      "image/png": "[encoded data removed]",
      "text/plain": [
       "<Figure size 432x288 with 2 Axes>"
      ]
     },
     "metadata": {
      "needs_background": "light"
     },
     "output_type": "display_data"
    }
   ],
   "source": [
    "## Confusion Matrix.\n",
    "\n",
    "actual = np.random.binomial(1,.9,size = 1000)\n",
    "predicted = np.random.binomial(1,.9,size = 1000)\n",
    "\n",
    "confusion_matrix = metrics.confusion_matrix(y_train, y_train_pred)\n",
    "confusion_matrix\n",
    "\n",
    "cm_display = metrics.ConfusionMatrixDisplay(confusion_matrix = confusion_matrix, display_labels = [False, True])\n",
    "cm_display.plot() "
   ]
  },
  {
   "cell_type": "code",
   "execution_count": 97,
   "id": "37885087",
   "metadata": {},
   "outputs": [],
   "source": [
    "TP = confusion_matrix[1,1] # true positive \n",
    "TN = confusion_matrix[0,0] # true negatives\n",
    "FP = confusion_matrix[0,1] # false positives\n",
    "FN = confusion_matrix[1,0] # false negatives"
   ]
  },
  {
   "cell_type": "code",
   "execution_count": 98,
   "id": "350bafb2",
   "metadata": {},
   "outputs": [
    {
     "name": "stdout",
     "output_type": "stream",
     "text": [
      "Accuracy:- 0.7889838266707354\n",
      "Sensitivity:- 0.8034787915776624\n",
      "Specificity:- 0.7744888617638084\n",
      "Recall:- 0.8034787915776624\n",
      "AUC:    \t 0.88\n"
     ]
    }
   ],
   "source": [
    "# Accuracy\n",
    "print(\"Accuracy:-\",metrics.accuracy_score(y_train, y_train_pred))\n",
    "\n",
    "# Sensitivity\n",
    "print(\"Sensitivity:-\",TP / float(TP+FN))\n",
    "\n",
    "# Specificity\n",
    "print(\"Specificity:-\", TN / float(TN+FP))\n",
    "\n",
    "# Recall\n",
    "print(\"Recall:-\" , TP/float(TP+FN))\n",
    "\n",
    "# check area under curve\n",
    "y_pred_prob = log_pca_model.predict_proba(X_train_pca)[:, 1]\n",
    "print(\"AUC:    \\t\", round(roc_auc_score(y_train, y_pred_prob),2))"
   ]
  },
  {
   "cell_type": "markdown",
   "id": "58f32616",
   "metadata": {},
   "source": [
    "Prediction on Test DataSet"
   ]
  },
  {
   "cell_type": "code",
   "execution_count": 99,
   "id": "5a5e9458",
   "metadata": {},
   "outputs": [],
   "source": [
    "y_test_pred = log_pca_model.predict(X_test_pca)"
   ]
  },
  {
   "cell_type": "code",
   "execution_count": 100,
   "id": "18a7497c",
   "metadata": {},
   "outputs": [
    {
     "data": {
      "text/plain": [
       "<sklearn.metrics._plot.confusion_matrix.ConfusionMatrixDisplay at 0x240f37a3fa0>"
      ]
     },
     "execution_count": 100,
     "metadata": {},
     "output_type": "execute_result"
    },
    {
     "data": {
      "image/png": "[encoded data removed]",
      "text/plain": [
       "<Figure size 432x288 with 2 Axes>"
      ]
     },
     "metadata": {
      "needs_background": "light"
     },
     "output_type": "display_data"
    }
   ],
   "source": [
    "# Confusion matrix\n",
    "actual = np.random.binomial(1,.9,size = 1000)\n",
    "predicted = np.random.binomial(1,.9,size = 1000)\n",
    "\n",
    "confusion = metrics.confusion_matrix(y_test, y_test_pred)\n",
    "\n",
    "cm_display = metrics.ConfusionMatrixDisplay(confusion_matrix = confusion_matrix, display_labels = [False, True])\n",
    "cm_display.plot()"
   ]
  },
  {
   "cell_type": "code",
   "execution_count": 101,
   "id": "b6753295",
   "metadata": {},
   "outputs": [
    {
     "name": "stdout",
     "output_type": "stream",
     "text": [
      "Accuracy:-    \t 0.77\n",
      "Sensitivity:-  \t 0.8\n",
      "Specificity:-  \t 0.77\n",
      "Recall:-    \t 0.8\n",
      "AUC:-    \t 0.81\n"
     ]
    }
   ],
   "source": [
    "# Accuracy\n",
    "print(\"Accuracy:-    \\t\",round(metrics.accuracy_score(y_test, y_test_pred),2))\n",
    "\n",
    "# Sensitivity\n",
    "print(\"Sensitivity:-  \\t\",round(TP / float(TP+FN),2))\n",
    "\n",
    "# Specificity\n",
    "print(\"Specificity:-  \\t\", round(TN / float(TN+FP),2))\n",
    "\n",
    "# Recall\n",
    "print(\"Recall:-    \\t\" , round(TP/float(TP+FN),2))\n",
    "\n",
    "# check area under curve\n",
    "y_pred_prob = log_pca_model.predict_proba(X_test_pca)[:, 1]\n",
    "print(\"AUC:-    \\t\", round(roc_auc_score(y_test, y_pred_prob),2))"
   ]
  },
  {
   "cell_type": "markdown",
   "id": "c3e156d0",
   "metadata": {},
   "source": [
    "From the above result we can see that the test and train results are pretty good.\n",
    "\n",
    "To improve on the model lets build a Decision tree"
   ]
  },
  {
   "cell_type": "code",
   "execution_count": 102,
   "id": "e249aa65",
   "metadata": {},
   "outputs": [],
   "source": [
    "### Decision Tree with PCA"
   ]
  },
  {
   "cell_type": "code",
   "execution_count": 103,
   "id": "55a8a394",
   "metadata": {},
   "outputs": [
    {
     "name": "stdout",
     "output_type": "stream",
     "text": [
      "Fitting 5 folds for each of 8 candidates, totalling 40 fits\n"
     ]
    },
    {
     "data": {
      "text/html": [
       "<style>#sk-container-id-5 {color: black;background-color: white;}#sk-container-id-5 pre{padding: 0;}#sk-container-id-5 div.sk-toggleable {background-color: white;}#sk-container-id-5 label.sk-toggleable__label {cursor: pointer;display: block;width: 100%;margin-bottom: 0;padding: 0.3em;box-sizing: border-box;text-align: center;}#sk-container-id-5 label.sk-toggleable__label-arrow:before {content: \"▸\";float: left;margin-right: 0.25em;color: #696969;}#sk-container-id-5 label.sk-toggleable__label-arrow:hover:before {color: black;}#sk-container-id-5 div.sk-estimator:hover label.sk-toggleable__label-arrow:before {color: black;}#sk-container-id-5 div.sk-toggleable__content {max-height: 0;max-width: 0;overflow: hidden;text-align: left;background-color: #f0f8ff;}#sk-container-id-5 div.sk-toggleable__content pre {margin: 0.2em;color: black;border-radius: 0.25em;background-color: #f0f8ff;}#sk-container-id-5 input.sk-toggleable__control:checked~div.sk-toggleable__content {max-height: 200px;max-width: 100%;overflow: auto;}#sk-container-id-5 input.sk-toggleable__control:checked~label.sk-toggleable__label-arrow:before {content: \"▾\";}#sk-container-id-5 div.sk-estimator input.sk-toggleable__control:checked~label.sk-toggleable__label {background-color: #d4ebff;}#sk-container-id-5 div.sk-label input.sk-toggleable__control:checked~label.sk-toggleable__label {background-color: #d4ebff;}#sk-container-id-5 input.sk-hidden--visually {border: 0;clip: rect(1px 1px 1px 1px);clip: rect(1px, 1px, 1px, 1px);height: 1px;margin: -1px;overflow: hidden;padding: 0;position: absolute;width: 1px;}#sk-container-id-5 div.sk-estimator {font-family: monospace;background-color: #f0f8ff;border: 1px dotted black;border-radius: 0.25em;box-sizing: border-box;margin-bottom: 0.5em;}#sk-container-id-5 div.sk-estimator:hover {background-color: #d4ebff;}#sk-container-id-5 div.sk-parallel-item::after {content: \"\";width: 100%;border-bottom: 1px solid gray;flex-grow: 1;}#sk-container-id-5 div.sk-label:hover label.sk-toggleable__label {background-color: #d4ebff;}#sk-container-id-5 div.sk-serial::before {content: \"\";position: absolute;border-left: 1px solid gray;box-sizing: border-box;top: 0;bottom: 0;left: 50%;z-index: 0;}#sk-container-id-5 div.sk-serial {display: flex;flex-direction: column;align-items: center;background-color: white;padding-right: 0.2em;padding-left: 0.2em;position: relative;}#sk-container-id-5 div.sk-item {position: relative;z-index: 1;}#sk-container-id-5 div.sk-parallel {display: flex;align-items: stretch;justify-content: center;background-color: white;position: relative;}#sk-container-id-5 div.sk-item::before, #sk-container-id-5 div.sk-parallel-item::before {content: \"\";position: absolute;border-left: 1px solid gray;box-sizing: border-box;top: 0;bottom: 0;left: 50%;z-index: -1;}#sk-container-id-5 div.sk-parallel-item {display: flex;flex-direction: column;z-index: 1;position: relative;background-color: white;}#sk-container-id-5 div.sk-parallel-item:first-child::after {align-self: flex-end;width: 50%;}#sk-container-id-5 div.sk-parallel-item:last-child::after {align-self: flex-start;width: 50%;}#sk-container-id-5 div.sk-parallel-item:only-child::after {width: 0;}#sk-container-id-5 div.sk-dashed-wrapped {border: 1px dashed gray;margin: 0 0.4em 0.5em 0.4em;box-sizing: border-box;padding-bottom: 0.4em;background-color: white;}#sk-container-id-5 div.sk-label label {font-family: monospace;font-weight: bold;display: inline-block;line-height: 1.2em;}#sk-container-id-5 div.sk-label-container {text-align: center;}#sk-container-id-5 div.sk-container {/* jupyter's `normalize.less` sets `[hidden] { display: none; }` but bootstrap.min.css set `[hidden] { display: none !important; }` so we also need the `!important` here to be able to override the default hidden behavior on the sphinx rendered scikit-learn.org. See: https://github.com/scikit-learn/scikit-learn/issues/21755 */display: inline-block !important;position: relative;}#sk-container-id-5 div.sk-text-repr-fallback {display: none;}</style><div id=\"sk-container-id-5\" class=\"sk-top-container\"><div class=\"sk-text-repr-fallback\"><pre>GridSearchCV(cv=5, estimator=DecisionTreeClassifier(),\n",
       "             param_grid={&#x27;max_depth&#x27;: range(5, 15, 5),\n",
       "                         &#x27;min_samples_leaf&#x27;: range(50, 150, 50),\n",
       "                         &#x27;min_samples_split&#x27;: range(50, 150, 50)},\n",
       "             scoring=&#x27;recall&#x27;, verbose=1)</pre><b>In a Jupyter environment, please rerun this cell to show the HTML representation or trust the notebook. <br />On GitHub, the HTML representation is unable to render, please try loading this page with nbviewer.org.</b></div><div class=\"sk-container\" hidden><div class=\"sk-item sk-dashed-wrapped\"><div class=\"sk-label-container\"><div class=\"sk-label sk-toggleable\"><input class=\"sk-toggleable__control sk-hidden--visually\" id=\"sk-estimator-id-7\" type=\"checkbox\" ><label for=\"sk-estimator-id-7\" class=\"sk-toggleable__label sk-toggleable__label-arrow\">GridSearchCV</label><div class=\"sk-toggleable__content\"><pre>GridSearchCV(cv=5, estimator=DecisionTreeClassifier(),\n",
       "             param_grid={&#x27;max_depth&#x27;: range(5, 15, 5),\n",
       "                         &#x27;min_samples_leaf&#x27;: range(50, 150, 50),\n",
       "                         &#x27;min_samples_split&#x27;: range(50, 150, 50)},\n",
       "             scoring=&#x27;recall&#x27;, verbose=1)</pre></div></div></div><div class=\"sk-parallel\"><div class=\"sk-parallel-item\"><div class=\"sk-item\"><div class=\"sk-label-container\"><div class=\"sk-label sk-toggleable\"><input class=\"sk-toggleable__control sk-hidden--visually\" id=\"sk-estimator-id-8\" type=\"checkbox\" ><label for=\"sk-estimator-id-8\" class=\"sk-toggleable__label sk-toggleable__label-arrow\">estimator: DecisionTreeClassifier</label><div class=\"sk-toggleable__content\"><pre>DecisionTreeClassifier()</pre></div></div></div><div class=\"sk-serial\"><div class=\"sk-item\"><div class=\"sk-estimator sk-toggleable\"><input class=\"sk-toggleable__control sk-hidden--visually\" id=\"sk-estimator-id-9\" type=\"checkbox\" ><label for=\"sk-estimator-id-9\" class=\"sk-toggleable__label sk-toggleable__label-arrow\">DecisionTreeClassifier</label><div class=\"sk-toggleable__content\"><pre>DecisionTreeClassifier()</pre></div></div></div></div></div></div></div></div></div></div>"
      ],
      "text/plain": [
       "GridSearchCV(cv=5, estimator=DecisionTreeClassifier(),\n",
       "             param_grid={'max_depth': range(5, 15, 5),\n",
       "                         'min_samples_leaf': range(50, 150, 50),\n",
       "                         'min_samples_split': range(50, 150, 50)},\n",
       "             scoring='recall', verbose=1)"
      ]
     },
     "execution_count": 103,
     "metadata": {},
     "output_type": "execute_result"
    }
   ],
   "source": [
    "# Importing decision tree classifier\n",
    "from sklearn.tree import DecisionTreeClassifier\n",
    "\n",
    "# Create the parameter grid \n",
    "param_grid = {\n",
    "    'max_depth': range(5, 15, 5),\n",
    "    'min_samples_leaf': range(50, 150, 50),\n",
    "    'min_samples_split': range(50, 150, 50),\n",
    "}\n",
    "\n",
    "\n",
    "# Instantiate the grid search model for best results.\n",
    "dtree = DecisionTreeClassifier()\n",
    "\n",
    "grid_search = GridSearchCV(estimator = dtree, \n",
    "                           param_grid = param_grid, \n",
    "                           scoring= 'recall',\n",
    "                           cv = 5, \n",
    "                           verbose = 1)\n",
    "\n",
    "# Fit the grid search to the data\n",
    "grid_search.fit(X_train_pca,y_train)"
   ]
  },
  {
   "cell_type": "code",
   "execution_count": 104,
   "id": "03f947e4",
   "metadata": {},
   "outputs": [
    {
     "data": {
      "text/html": [
       "<div>\n",
       "<style scoped>\n",
       "    .dataframe tbody tr th:only-of-type {\n",
       "        vertical-align: middle;\n",
       "    }\n",
       "\n",
       "    .dataframe tbody tr th {\n",
       "        vertical-align: top;\n",
       "    }\n",
       "\n",
       "    .dataframe thead th {\n",
       "        text-align: right;\n",
       "    }\n",
       "</style>\n",
       "<table border=\"1\" class=\"dataframe\">\n",
       "  <thead>\n",
       "    <tr style=\"text-align: right;\">\n",
       "      <th></th>\n",
       "      <th>mean_fit_time</th>\n",
       "      <th>std_fit_time</th>\n",
       "      <th>mean_score_time</th>\n",
       "      <th>std_score_time</th>\n",
       "      <th>param_max_depth</th>\n",
       "      <th>param_min_samples_leaf</th>\n",
       "      <th>param_min_samples_split</th>\n",
       "      <th>params</th>\n",
       "      <th>split0_test_score</th>\n",
       "      <th>split1_test_score</th>\n",
       "      <th>split2_test_score</th>\n",
       "      <th>split3_test_score</th>\n",
       "      <th>split4_test_score</th>\n",
       "      <th>mean_test_score</th>\n",
       "      <th>std_test_score</th>\n",
       "      <th>rank_test_score</th>\n",
       "    </tr>\n",
       "  </thead>\n",
       "  <tbody>\n",
       "    <tr>\n",
       "      <th>0</th>\n",
       "      <td>0.056788</td>\n",
       "      <td>0.007777</td>\n",
       "      <td>0.000000</td>\n",
       "      <td>0.000000</td>\n",
       "      <td>5</td>\n",
       "      <td>50</td>\n",
       "      <td>50</td>\n",
       "      <td>{'max_depth': 5, 'min_samples_leaf': 50, 'min_...</td>\n",
       "      <td>0.447328</td>\n",
       "      <td>0.851908</td>\n",
       "      <td>0.855183</td>\n",
       "      <td>0.836890</td>\n",
       "      <td>0.853435</td>\n",
       "      <td>0.768949</td>\n",
       "      <td>0.160942</td>\n",
       "      <td>3</td>\n",
       "    </tr>\n",
       "    <tr>\n",
       "      <th>1</th>\n",
       "      <td>0.055905</td>\n",
       "      <td>0.006996</td>\n",
       "      <td>0.000720</td>\n",
       "      <td>0.001439</td>\n",
       "      <td>5</td>\n",
       "      <td>50</td>\n",
       "      <td>100</td>\n",
       "      <td>{'max_depth': 5, 'min_samples_leaf': 50, 'min_...</td>\n",
       "      <td>0.447328</td>\n",
       "      <td>0.851908</td>\n",
       "      <td>0.855183</td>\n",
       "      <td>0.836890</td>\n",
       "      <td>0.853435</td>\n",
       "      <td>0.768949</td>\n",
       "      <td>0.160942</td>\n",
       "      <td>3</td>\n",
       "    </tr>\n",
       "    <tr>\n",
       "      <th>2</th>\n",
       "      <td>0.053390</td>\n",
       "      <td>0.013205</td>\n",
       "      <td>0.000000</td>\n",
       "      <td>0.000000</td>\n",
       "      <td>5</td>\n",
       "      <td>100</td>\n",
       "      <td>50</td>\n",
       "      <td>{'max_depth': 5, 'min_samples_leaf': 100, 'min...</td>\n",
       "      <td>0.506870</td>\n",
       "      <td>0.865649</td>\n",
       "      <td>0.890244</td>\n",
       "      <td>0.836890</td>\n",
       "      <td>0.841221</td>\n",
       "      <td>0.788175</td>\n",
       "      <td>0.141943</td>\n",
       "      <td>1</td>\n",
       "    </tr>\n",
       "    <tr>\n",
       "      <th>3</th>\n",
       "      <td>0.050251</td>\n",
       "      <td>0.006444</td>\n",
       "      <td>0.005846</td>\n",
       "      <td>0.007190</td>\n",
       "      <td>5</td>\n",
       "      <td>100</td>\n",
       "      <td>100</td>\n",
       "      <td>{'max_depth': 5, 'min_samples_leaf': 100, 'min...</td>\n",
       "      <td>0.506870</td>\n",
       "      <td>0.865649</td>\n",
       "      <td>0.890244</td>\n",
       "      <td>0.836890</td>\n",
       "      <td>0.841221</td>\n",
       "      <td>0.788175</td>\n",
       "      <td>0.141943</td>\n",
       "      <td>1</td>\n",
       "    </tr>\n",
       "    <tr>\n",
       "      <th>4</th>\n",
       "      <td>0.072830</td>\n",
       "      <td>0.008242</td>\n",
       "      <td>0.003124</td>\n",
       "      <td>0.006249</td>\n",
       "      <td>10</td>\n",
       "      <td>50</td>\n",
       "      <td>50</td>\n",
       "      <td>{'max_depth': 10, 'min_samples_leaf': 50, 'min...</td>\n",
       "      <td>0.483969</td>\n",
       "      <td>0.801527</td>\n",
       "      <td>0.824695</td>\n",
       "      <td>0.830793</td>\n",
       "      <td>0.813740</td>\n",
       "      <td>0.750945</td>\n",
       "      <td>0.133860</td>\n",
       "      <td>7</td>\n",
       "    </tr>\n",
       "    <tr>\n",
       "      <th>5</th>\n",
       "      <td>0.081012</td>\n",
       "      <td>0.021475</td>\n",
       "      <td>0.004041</td>\n",
       "      <td>0.006055</td>\n",
       "      <td>10</td>\n",
       "      <td>50</td>\n",
       "      <td>100</td>\n",
       "      <td>{'max_depth': 10, 'min_samples_leaf': 50, 'min...</td>\n",
       "      <td>0.480916</td>\n",
       "      <td>0.801527</td>\n",
       "      <td>0.824695</td>\n",
       "      <td>0.830793</td>\n",
       "      <td>0.813740</td>\n",
       "      <td>0.750334</td>\n",
       "      <td>0.135078</td>\n",
       "      <td>8</td>\n",
       "    </tr>\n",
       "    <tr>\n",
       "      <th>6</th>\n",
       "      <td>0.059552</td>\n",
       "      <td>0.006344</td>\n",
       "      <td>0.003125</td>\n",
       "      <td>0.006250</td>\n",
       "      <td>10</td>\n",
       "      <td>100</td>\n",
       "      <td>50</td>\n",
       "      <td>{'max_depth': 10, 'min_samples_leaf': 100, 'mi...</td>\n",
       "      <td>0.450382</td>\n",
       "      <td>0.835115</td>\n",
       "      <td>0.862805</td>\n",
       "      <td>0.827744</td>\n",
       "      <td>0.798473</td>\n",
       "      <td>0.754904</td>\n",
       "      <td>0.153632</td>\n",
       "      <td>5</td>\n",
       "    </tr>\n",
       "    <tr>\n",
       "      <th>7</th>\n",
       "      <td>0.059733</td>\n",
       "      <td>0.006152</td>\n",
       "      <td>0.000000</td>\n",
       "      <td>0.000000</td>\n",
       "      <td>10</td>\n",
       "      <td>100</td>\n",
       "      <td>100</td>\n",
       "      <td>{'max_depth': 10, 'min_samples_leaf': 100, 'mi...</td>\n",
       "      <td>0.450382</td>\n",
       "      <td>0.835115</td>\n",
       "      <td>0.862805</td>\n",
       "      <td>0.827744</td>\n",
       "      <td>0.798473</td>\n",
       "      <td>0.754904</td>\n",
       "      <td>0.153632</td>\n",
       "      <td>5</td>\n",
       "    </tr>\n",
       "  </tbody>\n",
       "</table>\n",
       "</div>"
      ],
      "text/plain": [
       "   mean_fit_time  std_fit_time  mean_score_time  std_score_time  \\\n",
       "0       0.056788      0.007777         0.000000        0.000000   \n",
       "1       0.055905      0.006996         0.000720        0.001439   \n",
       "2       0.053390      0.013205         0.000000        0.000000   \n",
       "3       0.050251      0.006444         0.005846        0.007190   \n",
       "4       0.072830      0.008242         0.003124        0.006249   \n",
       "5       0.081012      0.021475         0.004041        0.006055   \n",
       "6       0.059552      0.006344         0.003125        0.006250   \n",
       "7       0.059733      0.006152         0.000000        0.000000   \n",
       "\n",
       "  param_max_depth param_min_samples_leaf param_min_samples_split  \\\n",
       "0               5                     50                      50   \n",
       "1               5                     50                     100   \n",
       "2               5                    100                      50   \n",
       "3               5                    100                     100   \n",
       "4              10                     50                      50   \n",
       "5              10                     50                     100   \n",
       "6              10                    100                      50   \n",
       "7              10                    100                     100   \n",
       "\n",
       "                                              params  split0_test_score  \\\n",
       "0  {'max_depth': 5, 'min_samples_leaf': 50, 'min_...           0.447328   \n",
       "1  {'max_depth': 5, 'min_samples_leaf': 50, 'min_...           0.447328   \n",
       "2  {'max_depth': 5, 'min_samples_leaf': 100, 'min...           0.506870   \n",
       "3  {'max_depth': 5, 'min_samples_leaf': 100, 'min...           0.506870   \n",
       "4  {'max_depth': 10, 'min_samples_leaf': 50, 'min...           0.483969   \n",
       "5  {'max_depth': 10, 'min_samples_leaf': 50, 'min...           0.480916   \n",
       "6  {'max_depth': 10, 'min_samples_leaf': 100, 'mi...           0.450382   \n",
       "7  {'max_depth': 10, 'min_samples_leaf': 100, 'mi...           0.450382   \n",
       "\n",
       "   split1_test_score  split2_test_score  split3_test_score  split4_test_score  \\\n",
       "0           0.851908           0.855183           0.836890           0.853435   \n",
       "1           0.851908           0.855183           0.836890           0.853435   \n",
       "2           0.865649           0.890244           0.836890           0.841221   \n",
       "3           0.865649           0.890244           0.836890           0.841221   \n",
       "4           0.801527           0.824695           0.830793           0.813740   \n",
       "5           0.801527           0.824695           0.830793           0.813740   \n",
       "6           0.835115           0.862805           0.827744           0.798473   \n",
       "7           0.835115           0.862805           0.827744           0.798473   \n",
       "\n",
       "   mean_test_score  std_test_score  rank_test_score  \n",
       "0         0.768949        0.160942                3  \n",
       "1         0.768949        0.160942                3  \n",
       "2         0.788175        0.141943                1  \n",
       "3         0.788175        0.141943                1  \n",
       "4         0.750945        0.133860                7  \n",
       "5         0.750334        0.135078                8  \n",
       "6         0.754904        0.153632                5  \n",
       "7         0.754904        0.153632                5  "
      ]
     },
     "execution_count": 104,
     "metadata": {},
     "output_type": "execute_result"
    }
   ],
   "source": [
    "# Cross Validation results\n",
    "cv_results = pd.DataFrame(grid_search.cv_results_)\n",
    "cv_results"
   ]
  },
  {
   "cell_type": "code",
   "execution_count": 105,
   "id": "2fe3bbc8",
   "metadata": {},
   "outputs": [
    {
     "name": "stdout",
     "output_type": "stream",
     "text": [
      "Best sensitivity:- 0.7881749208713461\n",
      "DecisionTreeClassifier(max_depth=5, min_samples_leaf=100, min_samples_split=50)\n"
     ]
    }
   ],
   "source": [
    "# Printing the optimal sensitivity score and hyperparameters\n",
    "print(\"Best sensitivity:-\", grid_search.best_score_)\n",
    "print(grid_search.best_estimator_)"
   ]
  },
  {
   "cell_type": "code",
   "execution_count": 106,
   "id": "581dc740",
   "metadata": {},
   "outputs": [
    {
     "data": {
      "text/html": [
       "<style>#sk-container-id-6 {color: black;background-color: white;}#sk-container-id-6 pre{padding: 0;}#sk-container-id-6 div.sk-toggleable {background-color: white;}#sk-container-id-6 label.sk-toggleable__label {cursor: pointer;display: block;width: 100%;margin-bottom: 0;padding: 0.3em;box-sizing: border-box;text-align: center;}#sk-container-id-6 label.sk-toggleable__label-arrow:before {content: \"▸\";float: left;margin-right: 0.25em;color: #696969;}#sk-container-id-6 label.sk-toggleable__label-arrow:hover:before {color: black;}#sk-container-id-6 div.sk-estimator:hover label.sk-toggleable__label-arrow:before {color: black;}#sk-container-id-6 div.sk-toggleable__content {max-height: 0;max-width: 0;overflow: hidden;text-align: left;background-color: #f0f8ff;}#sk-container-id-6 div.sk-toggleable__content pre {margin: 0.2em;color: black;border-radius: 0.25em;background-color: #f0f8ff;}#sk-container-id-6 input.sk-toggleable__control:checked~div.sk-toggleable__content {max-height: 200px;max-width: 100%;overflow: auto;}#sk-container-id-6 input.sk-toggleable__control:checked~label.sk-toggleable__label-arrow:before {content: \"▾\";}#sk-container-id-6 div.sk-estimator input.sk-toggleable__control:checked~label.sk-toggleable__label {background-color: #d4ebff;}#sk-container-id-6 div.sk-label input.sk-toggleable__control:checked~label.sk-toggleable__label {background-color: #d4ebff;}#sk-container-id-6 input.sk-hidden--visually {border: 0;clip: rect(1px 1px 1px 1px);clip: rect(1px, 1px, 1px, 1px);height: 1px;margin: -1px;overflow: hidden;padding: 0;position: absolute;width: 1px;}#sk-container-id-6 div.sk-estimator {font-family: monospace;background-color: #f0f8ff;border: 1px dotted black;border-radius: 0.25em;box-sizing: border-box;margin-bottom: 0.5em;}#sk-container-id-6 div.sk-estimator:hover {background-color: #d4ebff;}#sk-container-id-6 div.sk-parallel-item::after {content: \"\";width: 100%;border-bottom: 1px solid gray;flex-grow: 1;}#sk-container-id-6 div.sk-label:hover label.sk-toggleable__label {background-color: #d4ebff;}#sk-container-id-6 div.sk-serial::before {content: \"\";position: absolute;border-left: 1px solid gray;box-sizing: border-box;top: 0;bottom: 0;left: 50%;z-index: 0;}#sk-container-id-6 div.sk-serial {display: flex;flex-direction: column;align-items: center;background-color: white;padding-right: 0.2em;padding-left: 0.2em;position: relative;}#sk-container-id-6 div.sk-item {position: relative;z-index: 1;}#sk-container-id-6 div.sk-parallel {display: flex;align-items: stretch;justify-content: center;background-color: white;position: relative;}#sk-container-id-6 div.sk-item::before, #sk-container-id-6 div.sk-parallel-item::before {content: \"\";position: absolute;border-left: 1px solid gray;box-sizing: border-box;top: 0;bottom: 0;left: 50%;z-index: -1;}#sk-container-id-6 div.sk-parallel-item {display: flex;flex-direction: column;z-index: 1;position: relative;background-color: white;}#sk-container-id-6 div.sk-parallel-item:first-child::after {align-self: flex-end;width: 50%;}#sk-container-id-6 div.sk-parallel-item:last-child::after {align-self: flex-start;width: 50%;}#sk-container-id-6 div.sk-parallel-item:only-child::after {width: 0;}#sk-container-id-6 div.sk-dashed-wrapped {border: 1px dashed gray;margin: 0 0.4em 0.5em 0.4em;box-sizing: border-box;padding-bottom: 0.4em;background-color: white;}#sk-container-id-6 div.sk-label label {font-family: monospace;font-weight: bold;display: inline-block;line-height: 1.2em;}#sk-container-id-6 div.sk-label-container {text-align: center;}#sk-container-id-6 div.sk-container {/* jupyter's `normalize.less` sets `[hidden] { display: none; }` but bootstrap.min.css set `[hidden] { display: none !important; }` so we also need the `!important` here to be able to override the default hidden behavior on the sphinx rendered scikit-learn.org. See: https://github.com/scikit-learn/scikit-learn/issues/21755 */display: inline-block !important;position: relative;}#sk-container-id-6 div.sk-text-repr-fallback {display: none;}</style><div id=\"sk-container-id-6\" class=\"sk-top-container\"><div class=\"sk-text-repr-fallback\"><pre>DecisionTreeClassifier(max_depth=10, min_samples_leaf=50, min_samples_split=10,\n",
       "                       random_state=100)</pre><b>In a Jupyter environment, please rerun this cell to show the HTML representation or trust the notebook. <br />On GitHub, the HTML representation is unable to render, please try loading this page with nbviewer.org.</b></div><div class=\"sk-container\" hidden><div class=\"sk-item\"><div class=\"sk-estimator sk-toggleable\"><input class=\"sk-toggleable__control sk-hidden--visually\" id=\"sk-estimator-id-10\" type=\"checkbox\" checked><label for=\"sk-estimator-id-10\" class=\"sk-toggleable__label sk-toggleable__label-arrow\">DecisionTreeClassifier</label><div class=\"sk-toggleable__content\"><pre>DecisionTreeClassifier(max_depth=10, min_samples_leaf=50, min_samples_split=10,\n",
       "                       random_state=100)</pre></div></div></div></div></div>"
      ],
      "text/plain": [
       "DecisionTreeClassifier(max_depth=10, min_samples_leaf=50, min_samples_split=10,\n",
       "                       random_state=100)"
      ]
     },
     "execution_count": 106,
     "metadata": {},
     "output_type": "execute_result"
    }
   ],
   "source": [
    "# Lets make a model with optimal hyperparameters\n",
    "\n",
    "dt_pca_model = DecisionTreeClassifier(criterion = \"gini\", \n",
    "                                  random_state = 100,\n",
    "                                  max_depth=10, \n",
    "                                  min_samples_leaf=50,\n",
    "                                  min_samples_split=10)\n",
    "\n",
    "dt_pca_model.fit(X_train_pca, y_train)"
   ]
  },
  {
   "cell_type": "code",
   "execution_count": 107,
   "id": "e6caa795",
   "metadata": {},
   "outputs": [
    {
     "data": {
      "text/plain": [
       "array([[2777,  500],\n",
       "       [ 665, 2612]], dtype=int64)"
      ]
     },
     "execution_count": 107,
     "metadata": {},
     "output_type": "execute_result"
    }
   ],
   "source": [
    "# Predictions on the train set\n",
    "y_train_pred = dt_pca_model.predict(X_train_pca)\n",
    "\n",
    "\n",
    "# Creating Confusion matrix\n",
    "\n",
    "confusion=metrics.confusion_matrix(y_train, y_train_pred)\n",
    "confusion"
   ]
  },
  {
   "cell_type": "code",
   "execution_count": 108,
   "id": "6e11ebd4",
   "metadata": {},
   "outputs": [],
   "source": [
    "TP = confusion[1,1] # true positive \n",
    "TN = confusion[0,0] # true negatives\n",
    "FP = confusion[0,1] # false positives\n",
    "FN = confusion[1,0] # false negatives"
   ]
  },
  {
   "cell_type": "code",
   "execution_count": 109,
   "id": "1d1455df",
   "metadata": {},
   "outputs": [
    {
     "name": "stdout",
     "output_type": "stream",
     "text": [
      "Accuracy:- 0.82\n",
      "Sensitivity:- 0.8\n",
      "Specificity:- 0.85\n",
      "Recall:- 0.8\n",
      "Area under curve is: 0.82\n"
     ]
    }
   ],
   "source": [
    "# Accuracy\n",
    "print(\"Accuracy:-\",round(metrics.accuracy_score(y_train, y_train_pred),2))\n",
    "\n",
    "# Sensitivity\n",
    "print(\"Sensitivity:-\",round(TP / float(TP+FN),2))\n",
    "\n",
    "# Specificity\n",
    "print(\"Specificity:-\", round(TN / float(TN+FP),2))\n",
    "\n",
    "# Recall\n",
    "print(\"Recall:-\" , round(TP/float(TP+FN),2))\n",
    "\n",
    "# AUC\n",
    "print(\"Area under curve is:\", round(metrics.roc_auc_score(y_train, y_train_pred),2))"
   ]
  },
  {
   "cell_type": "markdown",
   "id": "4a7a711d",
   "metadata": {},
   "source": [
    "Prediction on Test Dataset"
   ]
  },
  {
   "cell_type": "code",
   "execution_count": 110,
   "id": "5211cbbf",
   "metadata": {},
   "outputs": [
    {
     "name": "stdout",
     "output_type": "stream",
     "text": [
      "[[1142  263]\n",
      " [ 142  142]]\n"
     ]
    }
   ],
   "source": [
    "y_test_pred = dt_pca_model.predict(X_test_pca)\n",
    "\n",
    "# Confusion matrix\n",
    "confusion = metrics.confusion_matrix(y_test, y_test_pred)\n",
    "print(confusion)"
   ]
  },
  {
   "cell_type": "code",
   "execution_count": 111,
   "id": "4187d3fe",
   "metadata": {},
   "outputs": [
    {
     "name": "stdout",
     "output_type": "stream",
     "text": [
      "Accuracy:- 0.76\n",
      "Sensitivity:- 0.8\n",
      "Specificity:- 0.85\n",
      "Recall:- 0.8\n",
      "Area under curve is: 0.66\n"
     ]
    }
   ],
   "source": [
    "# Accuracy\n",
    "print(\"Accuracy:-\",round(metrics.accuracy_score(y_test, y_test_pred),2))\n",
    "\n",
    "# Sensitivity\n",
    "print(\"Sensitivity:-\",round(TP / float(TP+FN),2))\n",
    "\n",
    "# Specificity\n",
    "print(\"Specificity:-\", round(TN / float(TN+FP),2))\n",
    "\n",
    "# Recall\n",
    "print(\"Recall:-\" , round(TP/float(TP+FN),2))\n",
    "\n",
    "# AUC\n",
    "print(\"Area under curve is:\", round(metrics.roc_auc_score(y_test, y_test_pred),2))"
   ]
  },
  {
   "cell_type": "markdown",
   "id": "76e6da0b",
   "metadata": {},
   "source": [
    "Observation\n",
    "\n",
    "Our Accuracy has decreased from logistic regression model but our Sensitivity has increased. From business problem like telecom churn, sensitivity / Recall is more important\n",
    "\n",
    "Model summary (Decesion Trees with PCA)\n",
    "\n",
    "Train set\n",
    "\n",
    "Accuracy = 0.82 Sensitivity = 0.80 Specificity = 0.85 roc_auc_score= 0.82\n",
    "\n",
    "Test set\n",
    "\n",
    "Accuracy = 0.76 Sensitivity = 0.80 Specificity = 0.85 roc_auc_score= 0.66"
   ]
  },
  {
   "cell_type": "code",
   "execution_count": 112,
   "id": "9e3c94f8",
   "metadata": {},
   "outputs": [],
   "source": [
    "### Random Forest with PCA¶"
   ]
  },
  {
   "cell_type": "code",
   "execution_count": 113,
   "id": "8abfb12a",
   "metadata": {},
   "outputs": [
    {
     "data": {
      "text/html": [
       "<style>#sk-container-id-7 {color: black;background-color: white;}#sk-container-id-7 pre{padding: 0;}#sk-container-id-7 div.sk-toggleable {background-color: white;}#sk-container-id-7 label.sk-toggleable__label {cursor: pointer;display: block;width: 100%;margin-bottom: 0;padding: 0.3em;box-sizing: border-box;text-align: center;}#sk-container-id-7 label.sk-toggleable__label-arrow:before {content: \"▸\";float: left;margin-right: 0.25em;color: #696969;}#sk-container-id-7 label.sk-toggleable__label-arrow:hover:before {color: black;}#sk-container-id-7 div.sk-estimator:hover label.sk-toggleable__label-arrow:before {color: black;}#sk-container-id-7 div.sk-toggleable__content {max-height: 0;max-width: 0;overflow: hidden;text-align: left;background-color: #f0f8ff;}#sk-container-id-7 div.sk-toggleable__content pre {margin: 0.2em;color: black;border-radius: 0.25em;background-color: #f0f8ff;}#sk-container-id-7 input.sk-toggleable__control:checked~div.sk-toggleable__content {max-height: 200px;max-width: 100%;overflow: auto;}#sk-container-id-7 input.sk-toggleable__control:checked~label.sk-toggleable__label-arrow:before {content: \"▾\";}#sk-container-id-7 div.sk-estimator input.sk-toggleable__control:checked~label.sk-toggleable__label {background-color: #d4ebff;}#sk-container-id-7 div.sk-label input.sk-toggleable__control:checked~label.sk-toggleable__label {background-color: #d4ebff;}#sk-container-id-7 input.sk-hidden--visually {border: 0;clip: rect(1px 1px 1px 1px);clip: rect(1px, 1px, 1px, 1px);height: 1px;margin: -1px;overflow: hidden;padding: 0;position: absolute;width: 1px;}#sk-container-id-7 div.sk-estimator {font-family: monospace;background-color: #f0f8ff;border: 1px dotted black;border-radius: 0.25em;box-sizing: border-box;margin-bottom: 0.5em;}#sk-container-id-7 div.sk-estimator:hover {background-color: #d4ebff;}#sk-container-id-7 div.sk-parallel-item::after {content: \"\";width: 100%;border-bottom: 1px solid gray;flex-grow: 1;}#sk-container-id-7 div.sk-label:hover label.sk-toggleable__label {background-color: #d4ebff;}#sk-container-id-7 div.sk-serial::before {content: \"\";position: absolute;border-left: 1px solid gray;box-sizing: border-box;top: 0;bottom: 0;left: 50%;z-index: 0;}#sk-container-id-7 div.sk-serial {display: flex;flex-direction: column;align-items: center;background-color: white;padding-right: 0.2em;padding-left: 0.2em;position: relative;}#sk-container-id-7 div.sk-item {position: relative;z-index: 1;}#sk-container-id-7 div.sk-parallel {display: flex;align-items: stretch;justify-content: center;background-color: white;position: relative;}#sk-container-id-7 div.sk-item::before, #sk-container-id-7 div.sk-parallel-item::before {content: \"\";position: absolute;border-left: 1px solid gray;box-sizing: border-box;top: 0;bottom: 0;left: 50%;z-index: -1;}#sk-container-id-7 div.sk-parallel-item {display: flex;flex-direction: column;z-index: 1;position: relative;background-color: white;}#sk-container-id-7 div.sk-parallel-item:first-child::after {align-self: flex-end;width: 50%;}#sk-container-id-7 div.sk-parallel-item:last-child::after {align-self: flex-start;width: 50%;}#sk-container-id-7 div.sk-parallel-item:only-child::after {width: 0;}#sk-container-id-7 div.sk-dashed-wrapped {border: 1px dashed gray;margin: 0 0.4em 0.5em 0.4em;box-sizing: border-box;padding-bottom: 0.4em;background-color: white;}#sk-container-id-7 div.sk-label label {font-family: monospace;font-weight: bold;display: inline-block;line-height: 1.2em;}#sk-container-id-7 div.sk-label-container {text-align: center;}#sk-container-id-7 div.sk-container {/* jupyter's `normalize.less` sets `[hidden] { display: none; }` but bootstrap.min.css set `[hidden] { display: none !important; }` so we also need the `!important` here to be able to override the default hidden behavior on the sphinx rendered scikit-learn.org. See: https://github.com/scikit-learn/scikit-learn/issues/21755 */display: inline-block !important;position: relative;}#sk-container-id-7 div.sk-text-repr-fallback {display: none;}</style><div id=\"sk-container-id-7\" class=\"sk-top-container\"><div class=\"sk-text-repr-fallback\"><pre>RandomForestClassifier()</pre><b>In a Jupyter environment, please rerun this cell to show the HTML representation or trust the notebook. <br />On GitHub, the HTML representation is unable to render, please try loading this page with nbviewer.org.</b></div><div class=\"sk-container\" hidden><div class=\"sk-item\"><div class=\"sk-estimator sk-toggleable\"><input class=\"sk-toggleable__control sk-hidden--visually\" id=\"sk-estimator-id-11\" type=\"checkbox\" checked><label for=\"sk-estimator-id-11\" class=\"sk-toggleable__label sk-toggleable__label-arrow\">RandomForestClassifier</label><div class=\"sk-toggleable__content\"><pre>RandomForestClassifier()</pre></div></div></div></div></div>"
      ],
      "text/plain": [
       "RandomForestClassifier()"
      ]
     },
     "execution_count": 113,
     "metadata": {},
     "output_type": "execute_result"
    }
   ],
   "source": [
    "# Importing random forest classifier\n",
    "from sklearn.ensemble import RandomForestClassifier\n",
    "\n",
    "# Running the random forest with default parameters.\n",
    "rfc = RandomForestClassifier()\n",
    "\n",
    "# fit\n",
    "rfc.fit(X_train_pca,y_train)"
   ]
  },
  {
   "cell_type": "code",
   "execution_count": 114,
   "id": "5e09c32e",
   "metadata": {},
   "outputs": [],
   "source": [
    "# Making predictions\n",
    "predictions = rfc.predict(X_test_pca)# Making predictions"
   ]
  },
  {
   "cell_type": "code",
   "execution_count": 115,
   "id": "13147342",
   "metadata": {},
   "outputs": [
    {
     "data": {
      "text/plain": [
       "array([[1360,   45],\n",
       "       [ 108,  176]], dtype=int64)"
      ]
     },
     "execution_count": 115,
     "metadata": {},
     "output_type": "execute_result"
    }
   ],
   "source": [
    "# Printing confusion matrix\n",
    "confusion=metrics.confusion_matrix(y_test,predictions)\n",
    "confusion"
   ]
  },
  {
   "cell_type": "code",
   "execution_count": 116,
   "id": "28b0cb26",
   "metadata": {},
   "outputs": [],
   "source": [
    "### Hyper-parameter tuning for the Random Forest"
   ]
  },
  {
   "cell_type": "code",
   "execution_count": 117,
   "id": "7d1c278f",
   "metadata": {},
   "outputs": [],
   "source": [
    "rf = RandomForestClassifier(random_state=42, n_jobs= -1)"
   ]
  },
  {
   "cell_type": "code",
   "execution_count": 118,
   "id": "b90eafad",
   "metadata": {},
   "outputs": [],
   "source": [
    "hyper_params = {'max_depth': [3, 5, 10, 15],\n",
    "                'max_features': [3, 5, 7, 11, 15],\n",
    "                'min_samples_leaf': [20, 50, 100, 200],\n",
    "                'n_estimators': [10, 25, 50, 80]\n",
    "               }"
   ]
  },
  {
   "cell_type": "code",
   "execution_count": 119,
   "id": "f6c5dfff",
   "metadata": {},
   "outputs": [],
   "source": [
    "model_cv = GridSearchCV(estimator=rf, \n",
    "             param_grid=hyper_params,\n",
    "             verbose=1,\n",
    "             cv=5,\n",
    "             n_jobs=-1,\n",
    "             return_train_score=True)"
   ]
  },
  {
   "cell_type": "code",
   "execution_count": 120,
   "id": "094f74b8",
   "metadata": {},
   "outputs": [
    {
     "name": "stdout",
     "output_type": "stream",
     "text": [
      "Fitting 5 folds for each of 320 candidates, totalling 1600 fits\n"
     ]
    },
    {
     "data": {
      "text/html": [
       "<style>#sk-container-id-8 {color: black;background-color: white;}#sk-container-id-8 pre{padding: 0;}#sk-container-id-8 div.sk-toggleable {background-color: white;}#sk-container-id-8 label.sk-toggleable__label {cursor: pointer;display: block;width: 100%;margin-bottom: 0;padding: 0.3em;box-sizing: border-box;text-align: center;}#sk-container-id-8 label.sk-toggleable__label-arrow:before {content: \"▸\";float: left;margin-right: 0.25em;color: #696969;}#sk-container-id-8 label.sk-toggleable__label-arrow:hover:before {color: black;}#sk-container-id-8 div.sk-estimator:hover label.sk-toggleable__label-arrow:before {color: black;}#sk-container-id-8 div.sk-toggleable__content {max-height: 0;max-width: 0;overflow: hidden;text-align: left;background-color: #f0f8ff;}#sk-container-id-8 div.sk-toggleable__content pre {margin: 0.2em;color: black;border-radius: 0.25em;background-color: #f0f8ff;}#sk-container-id-8 input.sk-toggleable__control:checked~div.sk-toggleable__content {max-height: 200px;max-width: 100%;overflow: auto;}#sk-container-id-8 input.sk-toggleable__control:checked~label.sk-toggleable__label-arrow:before {content: \"▾\";}#sk-container-id-8 div.sk-estimator input.sk-toggleable__control:checked~label.sk-toggleable__label {background-color: #d4ebff;}#sk-container-id-8 div.sk-label input.sk-toggleable__control:checked~label.sk-toggleable__label {background-color: #d4ebff;}#sk-container-id-8 input.sk-hidden--visually {border: 0;clip: rect(1px 1px 1px 1px);clip: rect(1px, 1px, 1px, 1px);height: 1px;margin: -1px;overflow: hidden;padding: 0;position: absolute;width: 1px;}#sk-container-id-8 div.sk-estimator {font-family: monospace;background-color: #f0f8ff;border: 1px dotted black;border-radius: 0.25em;box-sizing: border-box;margin-bottom: 0.5em;}#sk-container-id-8 div.sk-estimator:hover {background-color: #d4ebff;}#sk-container-id-8 div.sk-parallel-item::after {content: \"\";width: 100%;border-bottom: 1px solid gray;flex-grow: 1;}#sk-container-id-8 div.sk-label:hover label.sk-toggleable__label {background-color: #d4ebff;}#sk-container-id-8 div.sk-serial::before {content: \"\";position: absolute;border-left: 1px solid gray;box-sizing: border-box;top: 0;bottom: 0;left: 50%;z-index: 0;}#sk-container-id-8 div.sk-serial {display: flex;flex-direction: column;align-items: center;background-color: white;padding-right: 0.2em;padding-left: 0.2em;position: relative;}#sk-container-id-8 div.sk-item {position: relative;z-index: 1;}#sk-container-id-8 div.sk-parallel {display: flex;align-items: stretch;justify-content: center;background-color: white;position: relative;}#sk-container-id-8 div.sk-item::before, #sk-container-id-8 div.sk-parallel-item::before {content: \"\";position: absolute;border-left: 1px solid gray;box-sizing: border-box;top: 0;bottom: 0;left: 50%;z-index: -1;}#sk-container-id-8 div.sk-parallel-item {display: flex;flex-direction: column;z-index: 1;position: relative;background-color: white;}#sk-container-id-8 div.sk-parallel-item:first-child::after {align-self: flex-end;width: 50%;}#sk-container-id-8 div.sk-parallel-item:last-child::after {align-self: flex-start;width: 50%;}#sk-container-id-8 div.sk-parallel-item:only-child::after {width: 0;}#sk-container-id-8 div.sk-dashed-wrapped {border: 1px dashed gray;margin: 0 0.4em 0.5em 0.4em;box-sizing: border-box;padding-bottom: 0.4em;background-color: white;}#sk-container-id-8 div.sk-label label {font-family: monospace;font-weight: bold;display: inline-block;line-height: 1.2em;}#sk-container-id-8 div.sk-label-container {text-align: center;}#sk-container-id-8 div.sk-container {/* jupyter's `normalize.less` sets `[hidden] { display: none; }` but bootstrap.min.css set `[hidden] { display: none !important; }` so we also need the `!important` here to be able to override the default hidden behavior on the sphinx rendered scikit-learn.org. See: https://github.com/scikit-learn/scikit-learn/issues/21755 */display: inline-block !important;position: relative;}#sk-container-id-8 div.sk-text-repr-fallback {display: none;}</style><div id=\"sk-container-id-8\" class=\"sk-top-container\"><div class=\"sk-text-repr-fallback\"><pre>GridSearchCV(cv=5, estimator=RandomForestClassifier(n_jobs=-1, random_state=42),\n",
       "             n_jobs=-1,\n",
       "             param_grid={&#x27;max_depth&#x27;: [3, 5, 10, 15],\n",
       "                         &#x27;max_features&#x27;: [3, 5, 7, 11, 15],\n",
       "                         &#x27;min_samples_leaf&#x27;: [20, 50, 100, 200],\n",
       "                         &#x27;n_estimators&#x27;: [10, 25, 50, 80]},\n",
       "             return_train_score=True, verbose=1)</pre><b>In a Jupyter environment, please rerun this cell to show the HTML representation or trust the notebook. <br />On GitHub, the HTML representation is unable to render, please try loading this page with nbviewer.org.</b></div><div class=\"sk-container\" hidden><div class=\"sk-item sk-dashed-wrapped\"><div class=\"sk-label-container\"><div class=\"sk-label sk-toggleable\"><input class=\"sk-toggleable__control sk-hidden--visually\" id=\"sk-estimator-id-12\" type=\"checkbox\" ><label for=\"sk-estimator-id-12\" class=\"sk-toggleable__label sk-toggleable__label-arrow\">GridSearchCV</label><div class=\"sk-toggleable__content\"><pre>GridSearchCV(cv=5, estimator=RandomForestClassifier(n_jobs=-1, random_state=42),\n",
       "             n_jobs=-1,\n",
       "             param_grid={&#x27;max_depth&#x27;: [3, 5, 10, 15],\n",
       "                         &#x27;max_features&#x27;: [3, 5, 7, 11, 15],\n",
       "                         &#x27;min_samples_leaf&#x27;: [20, 50, 100, 200],\n",
       "                         &#x27;n_estimators&#x27;: [10, 25, 50, 80]},\n",
       "             return_train_score=True, verbose=1)</pre></div></div></div><div class=\"sk-parallel\"><div class=\"sk-parallel-item\"><div class=\"sk-item\"><div class=\"sk-label-container\"><div class=\"sk-label sk-toggleable\"><input class=\"sk-toggleable__control sk-hidden--visually\" id=\"sk-estimator-id-13\" type=\"checkbox\" ><label for=\"sk-estimator-id-13\" class=\"sk-toggleable__label sk-toggleable__label-arrow\">estimator: RandomForestClassifier</label><div class=\"sk-toggleable__content\"><pre>RandomForestClassifier(n_jobs=-1, random_state=42)</pre></div></div></div><div class=\"sk-serial\"><div class=\"sk-item\"><div class=\"sk-estimator sk-toggleable\"><input class=\"sk-toggleable__control sk-hidden--visually\" id=\"sk-estimator-id-14\" type=\"checkbox\" ><label for=\"sk-estimator-id-14\" class=\"sk-toggleable__label sk-toggleable__label-arrow\">RandomForestClassifier</label><div class=\"sk-toggleable__content\"><pre>RandomForestClassifier(n_jobs=-1, random_state=42)</pre></div></div></div></div></div></div></div></div></div></div>"
      ],
      "text/plain": [
       "GridSearchCV(cv=5, estimator=RandomForestClassifier(n_jobs=-1, random_state=42),\n",
       "             n_jobs=-1,\n",
       "             param_grid={'max_depth': [3, 5, 10, 15],\n",
       "                         'max_features': [3, 5, 7, 11, 15],\n",
       "                         'min_samples_leaf': [20, 50, 100, 200],\n",
       "                         'n_estimators': [10, 25, 50, 80]},\n",
       "             return_train_score=True, verbose=1)"
      ]
     },
     "execution_count": 120,
     "metadata": {},
     "output_type": "execute_result"
    }
   ],
   "source": [
    "model_cv.fit(X_train, y_train)"
   ]
  },
  {
   "cell_type": "code",
   "execution_count": 121,
   "id": "a608b733",
   "metadata": {},
   "outputs": [
    {
     "data": {
      "text/plain": [
       "0.8913674661263181"
      ]
     },
     "execution_count": 121,
     "metadata": {},
     "output_type": "execute_result"
    }
   ],
   "source": [
    "model_cv.best_score_"
   ]
  },
  {
   "cell_type": "code",
   "execution_count": 122,
   "id": "58dee95a",
   "metadata": {},
   "outputs": [
    {
     "data": {
      "text/html": [
       "<style>#sk-container-id-9 {color: black;background-color: white;}#sk-container-id-9 pre{padding: 0;}#sk-container-id-9 div.sk-toggleable {background-color: white;}#sk-container-id-9 label.sk-toggleable__label {cursor: pointer;display: block;width: 100%;margin-bottom: 0;padding: 0.3em;box-sizing: border-box;text-align: center;}#sk-container-id-9 label.sk-toggleable__label-arrow:before {content: \"▸\";float: left;margin-right: 0.25em;color: #696969;}#sk-container-id-9 label.sk-toggleable__label-arrow:hover:before {color: black;}#sk-container-id-9 div.sk-estimator:hover label.sk-toggleable__label-arrow:before {color: black;}#sk-container-id-9 div.sk-toggleable__content {max-height: 0;max-width: 0;overflow: hidden;text-align: left;background-color: #f0f8ff;}#sk-container-id-9 div.sk-toggleable__content pre {margin: 0.2em;color: black;border-radius: 0.25em;background-color: #f0f8ff;}#sk-container-id-9 input.sk-toggleable__control:checked~div.sk-toggleable__content {max-height: 200px;max-width: 100%;overflow: auto;}#sk-container-id-9 input.sk-toggleable__control:checked~label.sk-toggleable__label-arrow:before {content: \"▾\";}#sk-container-id-9 div.sk-estimator input.sk-toggleable__control:checked~label.sk-toggleable__label {background-color: #d4ebff;}#sk-container-id-9 div.sk-label input.sk-toggleable__control:checked~label.sk-toggleable__label {background-color: #d4ebff;}#sk-container-id-9 input.sk-hidden--visually {border: 0;clip: rect(1px 1px 1px 1px);clip: rect(1px, 1px, 1px, 1px);height: 1px;margin: -1px;overflow: hidden;padding: 0;position: absolute;width: 1px;}#sk-container-id-9 div.sk-estimator {font-family: monospace;background-color: #f0f8ff;border: 1px dotted black;border-radius: 0.25em;box-sizing: border-box;margin-bottom: 0.5em;}#sk-container-id-9 div.sk-estimator:hover {background-color: #d4ebff;}#sk-container-id-9 div.sk-parallel-item::after {content: \"\";width: 100%;border-bottom: 1px solid gray;flex-grow: 1;}#sk-container-id-9 div.sk-label:hover label.sk-toggleable__label {background-color: #d4ebff;}#sk-container-id-9 div.sk-serial::before {content: \"\";position: absolute;border-left: 1px solid gray;box-sizing: border-box;top: 0;bottom: 0;left: 50%;z-index: 0;}#sk-container-id-9 div.sk-serial {display: flex;flex-direction: column;align-items: center;background-color: white;padding-right: 0.2em;padding-left: 0.2em;position: relative;}#sk-container-id-9 div.sk-item {position: relative;z-index: 1;}#sk-container-id-9 div.sk-parallel {display: flex;align-items: stretch;justify-content: center;background-color: white;position: relative;}#sk-container-id-9 div.sk-item::before, #sk-container-id-9 div.sk-parallel-item::before {content: \"\";position: absolute;border-left: 1px solid gray;box-sizing: border-box;top: 0;bottom: 0;left: 50%;z-index: -1;}#sk-container-id-9 div.sk-parallel-item {display: flex;flex-direction: column;z-index: 1;position: relative;background-color: white;}#sk-container-id-9 div.sk-parallel-item:first-child::after {align-self: flex-end;width: 50%;}#sk-container-id-9 div.sk-parallel-item:last-child::after {align-self: flex-start;width: 50%;}#sk-container-id-9 div.sk-parallel-item:only-child::after {width: 0;}#sk-container-id-9 div.sk-dashed-wrapped {border: 1px dashed gray;margin: 0 0.4em 0.5em 0.4em;box-sizing: border-box;padding-bottom: 0.4em;background-color: white;}#sk-container-id-9 div.sk-label label {font-family: monospace;font-weight: bold;display: inline-block;line-height: 1.2em;}#sk-container-id-9 div.sk-label-container {text-align: center;}#sk-container-id-9 div.sk-container {/* jupyter's `normalize.less` sets `[hidden] { display: none; }` but bootstrap.min.css set `[hidden] { display: none !important; }` so we also need the `!important` here to be able to override the default hidden behavior on the sphinx rendered scikit-learn.org. See: https://github.com/scikit-learn/scikit-learn/issues/21755 */display: inline-block !important;position: relative;}#sk-container-id-9 div.sk-text-repr-fallback {display: none;}</style><div id=\"sk-container-id-9\" class=\"sk-top-container\"><div class=\"sk-text-repr-fallback\"><pre>RandomForestClassifier(max_depth=10, max_features=7, min_samples_leaf=20,\n",
       "                       n_estimators=50, n_jobs=-1, random_state=42)</pre><b>In a Jupyter environment, please rerun this cell to show the HTML representation or trust the notebook. <br />On GitHub, the HTML representation is unable to render, please try loading this page with nbviewer.org.</b></div><div class=\"sk-container\" hidden><div class=\"sk-item\"><div class=\"sk-estimator sk-toggleable\"><input class=\"sk-toggleable__control sk-hidden--visually\" id=\"sk-estimator-id-15\" type=\"checkbox\" checked><label for=\"sk-estimator-id-15\" class=\"sk-toggleable__label sk-toggleable__label-arrow\">RandomForestClassifier</label><div class=\"sk-toggleable__content\"><pre>RandomForestClassifier(max_depth=10, max_features=7, min_samples_leaf=20,\n",
       "                       n_estimators=50, n_jobs=-1, random_state=42)</pre></div></div></div></div></div>"
      ],
      "text/plain": [
       "RandomForestClassifier(max_depth=10, max_features=7, min_samples_leaf=20,\n",
       "                       n_estimators=50, n_jobs=-1, random_state=42)"
      ]
     },
     "execution_count": 122,
     "metadata": {},
     "output_type": "execute_result"
    }
   ],
   "source": [
    "model_cv.best_estimator_"
   ]
  },
  {
   "cell_type": "code",
   "execution_count": 123,
   "id": "de38bc0d",
   "metadata": {},
   "outputs": [],
   "source": [
    "cv_df = pd.DataFrame(model_cv.cv_results_)"
   ]
  },
  {
   "cell_type": "code",
   "execution_count": 124,
   "id": "bd8e3052",
   "metadata": {},
   "outputs": [
    {
     "data": {
      "text/html": [
       "<div>\n",
       "<style scoped>\n",
       "    .dataframe tbody tr th:only-of-type {\n",
       "        vertical-align: middle;\n",
       "    }\n",
       "\n",
       "    .dataframe tbody tr th {\n",
       "        vertical-align: top;\n",
       "    }\n",
       "\n",
       "    .dataframe thead th {\n",
       "        text-align: right;\n",
       "    }\n",
       "</style>\n",
       "<table border=\"1\" class=\"dataframe\">\n",
       "  <thead>\n",
       "    <tr style=\"text-align: right;\">\n",
       "      <th></th>\n",
       "      <th>mean_fit_time</th>\n",
       "      <th>std_fit_time</th>\n",
       "      <th>mean_score_time</th>\n",
       "      <th>std_score_time</th>\n",
       "      <th>param_max_depth</th>\n",
       "      <th>param_max_features</th>\n",
       "      <th>param_min_samples_leaf</th>\n",
       "      <th>param_n_estimators</th>\n",
       "      <th>params</th>\n",
       "      <th>split0_test_score</th>\n",
       "      <th>split1_test_score</th>\n",
       "      <th>split2_test_score</th>\n",
       "      <th>split3_test_score</th>\n",
       "      <th>split4_test_score</th>\n",
       "      <th>mean_test_score</th>\n",
       "      <th>std_test_score</th>\n",
       "      <th>rank_test_score</th>\n",
       "      <th>split0_train_score</th>\n",
       "      <th>split1_train_score</th>\n",
       "      <th>split2_train_score</th>\n",
       "      <th>split3_train_score</th>\n",
       "      <th>split4_train_score</th>\n",
       "      <th>mean_train_score</th>\n",
       "      <th>std_train_score</th>\n",
       "    </tr>\n",
       "  </thead>\n",
       "  <tbody>\n",
       "    <tr>\n",
       "      <th>0</th>\n",
       "      <td>0.129143</td>\n",
       "      <td>0.013690</td>\n",
       "      <td>0.033557</td>\n",
       "      <td>0.002751</td>\n",
       "      <td>3</td>\n",
       "      <td>3</td>\n",
       "      <td>20</td>\n",
       "      <td>10</td>\n",
       "      <td>{'max_depth': 3, 'max_features': 3, 'min_sampl...</td>\n",
       "      <td>0.739893</td>\n",
       "      <td>0.826850</td>\n",
       "      <td>0.858886</td>\n",
       "      <td>0.810831</td>\n",
       "      <td>0.803053</td>\n",
       "      <td>0.807903</td>\n",
       "      <td>0.039027</td>\n",
       "      <td>313</td>\n",
       "      <td>0.845127</td>\n",
       "      <td>0.799733</td>\n",
       "      <td>0.823765</td>\n",
       "      <td>0.814419</td>\n",
       "      <td>0.815027</td>\n",
       "      <td>0.819614</td>\n",
       "      <td>0.014909</td>\n",
       "    </tr>\n",
       "    <tr>\n",
       "      <th>1</th>\n",
       "      <td>0.165569</td>\n",
       "      <td>0.048769</td>\n",
       "      <td>0.037152</td>\n",
       "      <td>0.018926</td>\n",
       "      <td>3</td>\n",
       "      <td>3</td>\n",
       "      <td>20</td>\n",
       "      <td>25</td>\n",
       "      <td>{'max_depth': 3, 'max_features': 3, 'min_sampl...</td>\n",
       "      <td>0.745995</td>\n",
       "      <td>0.845156</td>\n",
       "      <td>0.856598</td>\n",
       "      <td>0.826850</td>\n",
       "      <td>0.827481</td>\n",
       "      <td>0.820416</td>\n",
       "      <td>0.038861</td>\n",
       "      <td>248</td>\n",
       "      <td>0.873927</td>\n",
       "      <td>0.825482</td>\n",
       "      <td>0.828915</td>\n",
       "      <td>0.829487</td>\n",
       "      <td>0.830473</td>\n",
       "      <td>0.837657</td>\n",
       "      <td>0.018213</td>\n",
       "    </tr>\n",
       "    <tr>\n",
       "      <th>2</th>\n",
       "      <td>0.244667</td>\n",
       "      <td>0.034363</td>\n",
       "      <td>0.036761</td>\n",
       "      <td>0.006654</td>\n",
       "      <td>3</td>\n",
       "      <td>3</td>\n",
       "      <td>20</td>\n",
       "      <td>50</td>\n",
       "      <td>{'max_depth': 3, 'max_features': 3, 'min_sampl...</td>\n",
       "      <td>0.742182</td>\n",
       "      <td>0.855072</td>\n",
       "      <td>0.861937</td>\n",
       "      <td>0.845156</td>\n",
       "      <td>0.853435</td>\n",
       "      <td>0.831557</td>\n",
       "      <td>0.045006</td>\n",
       "      <td>173</td>\n",
       "      <td>0.878123</td>\n",
       "      <td>0.834255</td>\n",
       "      <td>0.844745</td>\n",
       "      <td>0.837688</td>\n",
       "      <td>0.842487</td>\n",
       "      <td>0.847460</td>\n",
       "      <td>0.015762</td>\n",
       "    </tr>\n",
       "    <tr>\n",
       "      <th>3</th>\n",
       "      <td>0.481917</td>\n",
       "      <td>0.066879</td>\n",
       "      <td>0.094448</td>\n",
       "      <td>0.031704</td>\n",
       "      <td>3</td>\n",
       "      <td>3</td>\n",
       "      <td>20</td>\n",
       "      <td>80</td>\n",
       "      <td>{'max_depth': 3, 'max_features': 3, 'min_sampl...</td>\n",
       "      <td>0.735317</td>\n",
       "      <td>0.864226</td>\n",
       "      <td>0.863463</td>\n",
       "      <td>0.850496</td>\n",
       "      <td>0.851908</td>\n",
       "      <td>0.833082</td>\n",
       "      <td>0.049211</td>\n",
       "      <td>169</td>\n",
       "      <td>0.878314</td>\n",
       "      <td>0.836163</td>\n",
       "      <td>0.840740</td>\n",
       "      <td>0.839214</td>\n",
       "      <td>0.844775</td>\n",
       "      <td>0.847841</td>\n",
       "      <td>0.015487</td>\n",
       "    </tr>\n",
       "    <tr>\n",
       "      <th>4</th>\n",
       "      <td>0.089337</td>\n",
       "      <td>0.014633</td>\n",
       "      <td>0.055609</td>\n",
       "      <td>0.023703</td>\n",
       "      <td>3</td>\n",
       "      <td>3</td>\n",
       "      <td>50</td>\n",
       "      <td>10</td>\n",
       "      <td>{'max_depth': 3, 'max_features': 3, 'min_sampl...</td>\n",
       "      <td>0.734554</td>\n",
       "      <td>0.828375</td>\n",
       "      <td>0.856598</td>\n",
       "      <td>0.813883</td>\n",
       "      <td>0.799237</td>\n",
       "      <td>0.806529</td>\n",
       "      <td>0.040674</td>\n",
       "      <td>314</td>\n",
       "      <td>0.851612</td>\n",
       "      <td>0.802212</td>\n",
       "      <td>0.823574</td>\n",
       "      <td>0.814038</td>\n",
       "      <td>0.810641</td>\n",
       "      <td>0.820415</td>\n",
       "      <td>0.017034</td>\n",
       "    </tr>\n",
       "  </tbody>\n",
       "</table>\n",
       "</div>"
      ],
      "text/plain": [
       "   mean_fit_time  std_fit_time  mean_score_time  std_score_time  \\\n",
       "0       0.129143      0.013690         0.033557        0.002751   \n",
       "1       0.165569      0.048769         0.037152        0.018926   \n",
       "2       0.244667      0.034363         0.036761        0.006654   \n",
       "3       0.481917      0.066879         0.094448        0.031704   \n",
       "4       0.089337      0.014633         0.055609        0.023703   \n",
       "\n",
       "  param_max_depth param_max_features param_min_samples_leaf  \\\n",
       "0               3                  3                     20   \n",
       "1               3                  3                     20   \n",
       "2               3                  3                     20   \n",
       "3               3                  3                     20   \n",
       "4               3                  3                     50   \n",
       "\n",
       "  param_n_estimators                                             params  \\\n",
       "0                 10  {'max_depth': 3, 'max_features': 3, 'min_sampl...   \n",
       "1                 25  {'max_depth': 3, 'max_features': 3, 'min_sampl...   \n",
       "2                 50  {'max_depth': 3, 'max_features': 3, 'min_sampl...   \n",
       "3                 80  {'max_depth': 3, 'max_features': 3, 'min_sampl...   \n",
       "4                 10  {'max_depth': 3, 'max_features': 3, 'min_sampl...   \n",
       "\n",
       "   split0_test_score  split1_test_score  split2_test_score  split3_test_score  \\\n",
       "0           0.739893           0.826850           0.858886           0.810831   \n",
       "1           0.745995           0.845156           0.856598           0.826850   \n",
       "2           0.742182           0.855072           0.861937           0.845156   \n",
       "3           0.735317           0.864226           0.863463           0.850496   \n",
       "4           0.734554           0.828375           0.856598           0.813883   \n",
       "\n",
       "   split4_test_score  mean_test_score  std_test_score  rank_test_score  \\\n",
       "0           0.803053         0.807903        0.039027              313   \n",
       "1           0.827481         0.820416        0.038861              248   \n",
       "2           0.853435         0.831557        0.045006              173   \n",
       "3           0.851908         0.833082        0.049211              169   \n",
       "4           0.799237         0.806529        0.040674              314   \n",
       "\n",
       "   split0_train_score  split1_train_score  split2_train_score  \\\n",
       "0            0.845127            0.799733            0.823765   \n",
       "1            0.873927            0.825482            0.828915   \n",
       "2            0.878123            0.834255            0.844745   \n",
       "3            0.878314            0.836163            0.840740   \n",
       "4            0.851612            0.802212            0.823574   \n",
       "\n",
       "   split3_train_score  split4_train_score  mean_train_score  std_train_score  \n",
       "0            0.814419            0.815027          0.819614         0.014909  \n",
       "1            0.829487            0.830473          0.837657         0.018213  \n",
       "2            0.837688            0.842487          0.847460         0.015762  \n",
       "3            0.839214            0.844775          0.847841         0.015487  \n",
       "4            0.814038            0.810641          0.820415         0.017034  "
      ]
     },
     "execution_count": 124,
     "metadata": {},
     "output_type": "execute_result"
    }
   ],
   "source": [
    "cv_df.head()"
   ]
  },
  {
   "cell_type": "code",
   "execution_count": 125,
   "id": "52313727",
   "metadata": {},
   "outputs": [
    {
     "data": {
      "text/html": [
       "<div>\n",
       "<style scoped>\n",
       "    .dataframe tbody tr th:only-of-type {\n",
       "        vertical-align: middle;\n",
       "    }\n",
       "\n",
       "    .dataframe tbody tr th {\n",
       "        vertical-align: top;\n",
       "    }\n",
       "\n",
       "    .dataframe thead th {\n",
       "        text-align: right;\n",
       "    }\n",
       "</style>\n",
       "<table border=\"1\" class=\"dataframe\">\n",
       "  <thead>\n",
       "    <tr style=\"text-align: right;\">\n",
       "      <th></th>\n",
       "      <th>mean_fit_time</th>\n",
       "      <th>std_fit_time</th>\n",
       "      <th>mean_score_time</th>\n",
       "      <th>std_score_time</th>\n",
       "      <th>param_max_depth</th>\n",
       "      <th>param_max_features</th>\n",
       "      <th>param_min_samples_leaf</th>\n",
       "      <th>param_n_estimators</th>\n",
       "      <th>params</th>\n",
       "      <th>split0_test_score</th>\n",
       "      <th>split1_test_score</th>\n",
       "      <th>split2_test_score</th>\n",
       "      <th>split3_test_score</th>\n",
       "      <th>split4_test_score</th>\n",
       "      <th>mean_test_score</th>\n",
       "      <th>std_test_score</th>\n",
       "      <th>rank_test_score</th>\n",
       "      <th>split0_train_score</th>\n",
       "      <th>split1_train_score</th>\n",
       "      <th>split2_train_score</th>\n",
       "      <th>split3_train_score</th>\n",
       "      <th>split4_train_score</th>\n",
       "      <th>mean_train_score</th>\n",
       "      <th>std_train_score</th>\n",
       "    </tr>\n",
       "  </thead>\n",
       "  <tbody>\n",
       "    <tr>\n",
       "      <th>194</th>\n",
       "      <td>0.711903</td>\n",
       "      <td>0.159382</td>\n",
       "      <td>0.329896</td>\n",
       "      <td>0.134326</td>\n",
       "      <td>10</td>\n",
       "      <td>7</td>\n",
       "      <td>20</td>\n",
       "      <td>50</td>\n",
       "      <td>{'max_depth': 10, 'max_features': 7, 'min_samp...</td>\n",
       "      <td>0.801678</td>\n",
       "      <td>0.916857</td>\n",
       "      <td>0.909992</td>\n",
       "      <td>0.914569</td>\n",
       "      <td>0.913740</td>\n",
       "      <td>0.891367</td>\n",
       "      <td>0.044899</td>\n",
       "      <td>1</td>\n",
       "      <td>0.937631</td>\n",
       "      <td>0.907877</td>\n",
       "      <td>0.909975</td>\n",
       "      <td>0.911501</td>\n",
       "      <td>0.910946</td>\n",
       "      <td>0.915586</td>\n",
       "      <td>0.011092</td>\n",
       "    </tr>\n",
       "    <tr>\n",
       "      <th>195</th>\n",
       "      <td>1.028925</td>\n",
       "      <td>0.217529</td>\n",
       "      <td>0.200460</td>\n",
       "      <td>0.070493</td>\n",
       "      <td>10</td>\n",
       "      <td>7</td>\n",
       "      <td>20</td>\n",
       "      <td>80</td>\n",
       "      <td>{'max_depth': 10, 'max_features': 7, 'min_samp...</td>\n",
       "      <td>0.804729</td>\n",
       "      <td>0.916095</td>\n",
       "      <td>0.906941</td>\n",
       "      <td>0.916095</td>\n",
       "      <td>0.912214</td>\n",
       "      <td>0.891215</td>\n",
       "      <td>0.043373</td>\n",
       "      <td>2</td>\n",
       "      <td>0.940111</td>\n",
       "      <td>0.906351</td>\n",
       "      <td>0.907114</td>\n",
       "      <td>0.909975</td>\n",
       "      <td>0.907895</td>\n",
       "      <td>0.914289</td>\n",
       "      <td>0.012967</td>\n",
       "    </tr>\n",
       "    <tr>\n",
       "      <th>179</th>\n",
       "      <td>0.986273</td>\n",
       "      <td>0.031108</td>\n",
       "      <td>0.140194</td>\n",
       "      <td>0.028894</td>\n",
       "      <td>10</td>\n",
       "      <td>5</td>\n",
       "      <td>20</td>\n",
       "      <td>80</td>\n",
       "      <td>{'max_depth': 10, 'max_features': 5, 'min_samp...</td>\n",
       "      <td>0.803204</td>\n",
       "      <td>0.909992</td>\n",
       "      <td>0.908467</td>\n",
       "      <td>0.913806</td>\n",
       "      <td>0.919847</td>\n",
       "      <td>0.891063</td>\n",
       "      <td>0.044105</td>\n",
       "      <td>3</td>\n",
       "      <td>0.935342</td>\n",
       "      <td>0.904063</td>\n",
       "      <td>0.909403</td>\n",
       "      <td>0.912073</td>\n",
       "      <td>0.908848</td>\n",
       "      <td>0.913946</td>\n",
       "      <td>0.011006</td>\n",
       "    </tr>\n",
       "    <tr>\n",
       "      <th>259</th>\n",
       "      <td>1.034513</td>\n",
       "      <td>0.224318</td>\n",
       "      <td>0.224745</td>\n",
       "      <td>0.034023</td>\n",
       "      <td>15</td>\n",
       "      <td>5</td>\n",
       "      <td>20</td>\n",
       "      <td>80</td>\n",
       "      <td>{'max_depth': 15, 'max_features': 5, 'min_samp...</td>\n",
       "      <td>0.795576</td>\n",
       "      <td>0.913806</td>\n",
       "      <td>0.914569</td>\n",
       "      <td>0.916095</td>\n",
       "      <td>0.915267</td>\n",
       "      <td>0.891063</td>\n",
       "      <td>0.047749</td>\n",
       "      <td>4</td>\n",
       "      <td>0.939348</td>\n",
       "      <td>0.906161</td>\n",
       "      <td>0.911310</td>\n",
       "      <td>0.913408</td>\n",
       "      <td>0.911327</td>\n",
       "      <td>0.916311</td>\n",
       "      <td>0.011764</td>\n",
       "    </tr>\n",
       "    <tr>\n",
       "      <th>243</th>\n",
       "      <td>0.905925</td>\n",
       "      <td>0.098324</td>\n",
       "      <td>0.160947</td>\n",
       "      <td>0.021379</td>\n",
       "      <td>15</td>\n",
       "      <td>3</td>\n",
       "      <td>20</td>\n",
       "      <td>80</td>\n",
       "      <td>{'max_depth': 15, 'max_features': 3, 'min_samp...</td>\n",
       "      <td>0.787948</td>\n",
       "      <td>0.913806</td>\n",
       "      <td>0.918383</td>\n",
       "      <td>0.916857</td>\n",
       "      <td>0.917557</td>\n",
       "      <td>0.890910</td>\n",
       "      <td>0.051504</td>\n",
       "      <td>5</td>\n",
       "      <td>0.940683</td>\n",
       "      <td>0.907114</td>\n",
       "      <td>0.910929</td>\n",
       "      <td>0.910166</td>\n",
       "      <td>0.910755</td>\n",
       "      <td>0.915929</td>\n",
       "      <td>0.012453</td>\n",
       "    </tr>\n",
       "  </tbody>\n",
       "</table>\n",
       "</div>"
      ],
      "text/plain": [
       "     mean_fit_time  std_fit_time  mean_score_time  std_score_time  \\\n",
       "194       0.711903      0.159382         0.329896        0.134326   \n",
       "195       1.028925      0.217529         0.200460        0.070493   \n",
       "179       0.986273      0.031108         0.140194        0.028894   \n",
       "259       1.034513      0.224318         0.224745        0.034023   \n",
       "243       0.905925      0.098324         0.160947        0.021379   \n",
       "\n",
       "    param_max_depth param_max_features param_min_samples_leaf  \\\n",
       "194              10                  7                     20   \n",
       "195              10                  7                     20   \n",
       "179              10                  5                     20   \n",
       "259              15                  5                     20   \n",
       "243              15                  3                     20   \n",
       "\n",
       "    param_n_estimators                                             params  \\\n",
       "194                 50  {'max_depth': 10, 'max_features': 7, 'min_samp...   \n",
       "195                 80  {'max_depth': 10, 'max_features': 7, 'min_samp...   \n",
       "179                 80  {'max_depth': 10, 'max_features': 5, 'min_samp...   \n",
       "259                 80  {'max_depth': 15, 'max_features': 5, 'min_samp...   \n",
       "243                 80  {'max_depth': 15, 'max_features': 3, 'min_samp...   \n",
       "\n",
       "     split0_test_score  split1_test_score  split2_test_score  \\\n",
       "194           0.801678           0.916857           0.909992   \n",
       "195           0.804729           0.916095           0.906941   \n",
       "179           0.803204           0.909992           0.908467   \n",
       "259           0.795576           0.913806           0.914569   \n",
       "243           0.787948           0.913806           0.918383   \n",
       "\n",
       "     split3_test_score  split4_test_score  mean_test_score  std_test_score  \\\n",
       "194           0.914569           0.913740         0.891367        0.044899   \n",
       "195           0.916095           0.912214         0.891215        0.043373   \n",
       "179           0.913806           0.919847         0.891063        0.044105   \n",
       "259           0.916095           0.915267         0.891063        0.047749   \n",
       "243           0.916857           0.917557         0.890910        0.051504   \n",
       "\n",
       "     rank_test_score  split0_train_score  split1_train_score  \\\n",
       "194                1            0.937631            0.907877   \n",
       "195                2            0.940111            0.906351   \n",
       "179                3            0.935342            0.904063   \n",
       "259                4            0.939348            0.906161   \n",
       "243                5            0.940683            0.907114   \n",
       "\n",
       "     split2_train_score  split3_train_score  split4_train_score  \\\n",
       "194            0.909975            0.911501            0.910946   \n",
       "195            0.907114            0.909975            0.907895   \n",
       "179            0.909403            0.912073            0.908848   \n",
       "259            0.911310            0.913408            0.911327   \n",
       "243            0.910929            0.910166            0.910755   \n",
       "\n",
       "     mean_train_score  std_train_score  \n",
       "194          0.915586         0.011092  \n",
       "195          0.914289         0.012967  \n",
       "179          0.913946         0.011006  \n",
       "259          0.916311         0.011764  \n",
       "243          0.915929         0.012453  "
      ]
     },
     "execution_count": 125,
     "metadata": {},
     "output_type": "execute_result"
    }
   ],
   "source": [
    "cv_df.sort_values(by='rank_test_score').head()"
   ]
  },
  {
   "cell_type": "code",
   "execution_count": 126,
   "id": "f31d9ef0",
   "metadata": {},
   "outputs": [],
   "source": [
    "sel_cols = ['param_max_depth','param_max_features','param_min_samples_leaf','param_n_estimators', 'rank_test_score',  'mean_test_score']"
   ]
  },
  {
   "cell_type": "code",
   "execution_count": 127,
   "id": "8ad752d0",
   "metadata": {},
   "outputs": [
    {
     "data": {
      "text/html": [
       "<div>\n",
       "<style scoped>\n",
       "    .dataframe tbody tr th:only-of-type {\n",
       "        vertical-align: middle;\n",
       "    }\n",
       "\n",
       "    .dataframe tbody tr th {\n",
       "        vertical-align: top;\n",
       "    }\n",
       "\n",
       "    .dataframe thead th {\n",
       "        text-align: right;\n",
       "    }\n",
       "</style>\n",
       "<table border=\"1\" class=\"dataframe\">\n",
       "  <thead>\n",
       "    <tr style=\"text-align: right;\">\n",
       "      <th></th>\n",
       "      <th>param_max_depth</th>\n",
       "      <th>param_max_features</th>\n",
       "      <th>param_min_samples_leaf</th>\n",
       "      <th>param_n_estimators</th>\n",
       "      <th>rank_test_score</th>\n",
       "      <th>mean_test_score</th>\n",
       "    </tr>\n",
       "  </thead>\n",
       "  <tbody>\n",
       "    <tr>\n",
       "      <th>194</th>\n",
       "      <td>10</td>\n",
       "      <td>7</td>\n",
       "      <td>20</td>\n",
       "      <td>50</td>\n",
       "      <td>1</td>\n",
       "      <td>0.891367</td>\n",
       "    </tr>\n",
       "    <tr>\n",
       "      <th>195</th>\n",
       "      <td>10</td>\n",
       "      <td>7</td>\n",
       "      <td>20</td>\n",
       "      <td>80</td>\n",
       "      <td>2</td>\n",
       "      <td>0.891215</td>\n",
       "    </tr>\n",
       "    <tr>\n",
       "      <th>179</th>\n",
       "      <td>10</td>\n",
       "      <td>5</td>\n",
       "      <td>20</td>\n",
       "      <td>80</td>\n",
       "      <td>3</td>\n",
       "      <td>0.891063</td>\n",
       "    </tr>\n",
       "    <tr>\n",
       "      <th>259</th>\n",
       "      <td>15</td>\n",
       "      <td>5</td>\n",
       "      <td>20</td>\n",
       "      <td>80</td>\n",
       "      <td>4</td>\n",
       "      <td>0.891063</td>\n",
       "    </tr>\n",
       "    <tr>\n",
       "      <th>243</th>\n",
       "      <td>15</td>\n",
       "      <td>3</td>\n",
       "      <td>20</td>\n",
       "      <td>80</td>\n",
       "      <td>5</td>\n",
       "      <td>0.890910</td>\n",
       "    </tr>\n",
       "    <tr>\n",
       "      <th>163</th>\n",
       "      <td>10</td>\n",
       "      <td>3</td>\n",
       "      <td>20</td>\n",
       "      <td>80</td>\n",
       "      <td>6</td>\n",
       "      <td>0.889995</td>\n",
       "    </tr>\n",
       "    <tr>\n",
       "      <th>162</th>\n",
       "      <td>10</td>\n",
       "      <td>3</td>\n",
       "      <td>20</td>\n",
       "      <td>50</td>\n",
       "      <td>7</td>\n",
       "      <td>0.889842</td>\n",
       "    </tr>\n",
       "    <tr>\n",
       "      <th>242</th>\n",
       "      <td>15</td>\n",
       "      <td>3</td>\n",
       "      <td>20</td>\n",
       "      <td>50</td>\n",
       "      <td>8</td>\n",
       "      <td>0.889689</td>\n",
       "    </tr>\n",
       "    <tr>\n",
       "      <th>274</th>\n",
       "      <td>15</td>\n",
       "      <td>7</td>\n",
       "      <td>20</td>\n",
       "      <td>50</td>\n",
       "      <td>9</td>\n",
       "      <td>0.888774</td>\n",
       "    </tr>\n",
       "    <tr>\n",
       "      <th>209</th>\n",
       "      <td>10</td>\n",
       "      <td>11</td>\n",
       "      <td>20</td>\n",
       "      <td>25</td>\n",
       "      <td>10</td>\n",
       "      <td>0.888470</td>\n",
       "    </tr>\n",
       "    <tr>\n",
       "      <th>210</th>\n",
       "      <td>10</td>\n",
       "      <td>11</td>\n",
       "      <td>20</td>\n",
       "      <td>50</td>\n",
       "      <td>11</td>\n",
       "      <td>0.888469</td>\n",
       "    </tr>\n",
       "    <tr>\n",
       "      <th>258</th>\n",
       "      <td>15</td>\n",
       "      <td>5</td>\n",
       "      <td>20</td>\n",
       "      <td>50</td>\n",
       "      <td>11</td>\n",
       "      <td>0.888469</td>\n",
       "    </tr>\n",
       "    <tr>\n",
       "      <th>275</th>\n",
       "      <td>15</td>\n",
       "      <td>7</td>\n",
       "      <td>20</td>\n",
       "      <td>80</td>\n",
       "      <td>13</td>\n",
       "      <td>0.888317</td>\n",
       "    </tr>\n",
       "    <tr>\n",
       "      <th>178</th>\n",
       "      <td>10</td>\n",
       "      <td>5</td>\n",
       "      <td>20</td>\n",
       "      <td>50</td>\n",
       "      <td>14</td>\n",
       "      <td>0.888012</td>\n",
       "    </tr>\n",
       "    <tr>\n",
       "      <th>211</th>\n",
       "      <td>10</td>\n",
       "      <td>11</td>\n",
       "      <td>20</td>\n",
       "      <td>80</td>\n",
       "      <td>15</td>\n",
       "      <td>0.888011</td>\n",
       "    </tr>\n",
       "    <tr>\n",
       "      <th>291</th>\n",
       "      <td>15</td>\n",
       "      <td>11</td>\n",
       "      <td>20</td>\n",
       "      <td>80</td>\n",
       "      <td>16</td>\n",
       "      <td>0.888011</td>\n",
       "    </tr>\n",
       "    <tr>\n",
       "      <th>272</th>\n",
       "      <td>15</td>\n",
       "      <td>7</td>\n",
       "      <td>20</td>\n",
       "      <td>10</td>\n",
       "      <td>17</td>\n",
       "      <td>0.887554</td>\n",
       "    </tr>\n",
       "    <tr>\n",
       "      <th>273</th>\n",
       "      <td>15</td>\n",
       "      <td>7</td>\n",
       "      <td>20</td>\n",
       "      <td>25</td>\n",
       "      <td>18</td>\n",
       "      <td>0.887402</td>\n",
       "    </tr>\n",
       "    <tr>\n",
       "      <th>161</th>\n",
       "      <td>10</td>\n",
       "      <td>3</td>\n",
       "      <td>20</td>\n",
       "      <td>25</td>\n",
       "      <td>19</td>\n",
       "      <td>0.887401</td>\n",
       "    </tr>\n",
       "    <tr>\n",
       "      <th>289</th>\n",
       "      <td>15</td>\n",
       "      <td>11</td>\n",
       "      <td>20</td>\n",
       "      <td>25</td>\n",
       "      <td>20</td>\n",
       "      <td>0.886943</td>\n",
       "    </tr>\n",
       "  </tbody>\n",
       "</table>\n",
       "</div>"
      ],
      "text/plain": [
       "    param_max_depth param_max_features param_min_samples_leaf  \\\n",
       "194              10                  7                     20   \n",
       "195              10                  7                     20   \n",
       "179              10                  5                     20   \n",
       "259              15                  5                     20   \n",
       "243              15                  3                     20   \n",
       "163              10                  3                     20   \n",
       "162              10                  3                     20   \n",
       "242              15                  3                     20   \n",
       "274              15                  7                     20   \n",
       "209              10                 11                     20   \n",
       "210              10                 11                     20   \n",
       "258              15                  5                     20   \n",
       "275              15                  7                     20   \n",
       "178              10                  5                     20   \n",
       "211              10                 11                     20   \n",
       "291              15                 11                     20   \n",
       "272              15                  7                     20   \n",
       "273              15                  7                     20   \n",
       "161              10                  3                     20   \n",
       "289              15                 11                     20   \n",
       "\n",
       "    param_n_estimators  rank_test_score  mean_test_score  \n",
       "194                 50                1         0.891367  \n",
       "195                 80                2         0.891215  \n",
       "179                 80                3         0.891063  \n",
       "259                 80                4         0.891063  \n",
       "243                 80                5         0.890910  \n",
       "163                 80                6         0.889995  \n",
       "162                 50                7         0.889842  \n",
       "242                 50                8         0.889689  \n",
       "274                 50                9         0.888774  \n",
       "209                 25               10         0.888470  \n",
       "210                 50               11         0.888469  \n",
       "258                 50               11         0.888469  \n",
       "275                 80               13         0.888317  \n",
       "178                 50               14         0.888012  \n",
       "211                 80               15         0.888011  \n",
       "291                 80               16         0.888011  \n",
       "272                 10               17         0.887554  \n",
       "273                 25               18         0.887402  \n",
       "161                 25               19         0.887401  \n",
       "289                 25               20         0.886943  "
      ]
     },
     "execution_count": 127,
     "metadata": {},
     "output_type": "execute_result"
    }
   ],
   "source": [
    "cv_df.sort_values(by='rank_test_score')[sel_cols].head(20)"
   ]
  },
  {
   "cell_type": "code",
   "execution_count": 128,
   "id": "c37f59fe",
   "metadata": {},
   "outputs": [
    {
     "name": "stdout",
     "output_type": "stream",
     "text": [
      "RandomForestClassifier(max_depth=10, max_features=7, min_samples_leaf=20,\n",
      "                       n_estimators=50, n_jobs=-1, random_state=42)\n"
     ]
    }
   ],
   "source": [
    "print(model_cv.best_estimator_)"
   ]
  },
  {
   "cell_type": "code",
   "execution_count": 129,
   "id": "2a7f7100",
   "metadata": {},
   "outputs": [],
   "source": [
    "# Lets make a Random Forest using the best parameters\n",
    "\n",
    "rf = RandomForestClassifier(max_depth=15,max_features=15, min_samples_leaf=20,\n",
    "                       n_estimators=80, random_state=42, n_jobs=-1)"
   ]
  },
  {
   "cell_type": "code",
   "execution_count": 130,
   "id": "c51301d3",
   "metadata": {},
   "outputs": [
    {
     "name": "stdout",
     "output_type": "stream",
     "text": [
      "Wall time: 2.47 s\n"
     ]
    },
    {
     "data": {
      "text/html": [
       "<style>#sk-container-id-10 {color: black;background-color: white;}#sk-container-id-10 pre{padding: 0;}#sk-container-id-10 div.sk-toggleable {background-color: white;}#sk-container-id-10 label.sk-toggleable__label {cursor: pointer;display: block;width: 100%;margin-bottom: 0;padding: 0.3em;box-sizing: border-box;text-align: center;}#sk-container-id-10 label.sk-toggleable__label-arrow:before {content: \"▸\";float: left;margin-right: 0.25em;color: #696969;}#sk-container-id-10 label.sk-toggleable__label-arrow:hover:before {color: black;}#sk-container-id-10 div.sk-estimator:hover label.sk-toggleable__label-arrow:before {color: black;}#sk-container-id-10 div.sk-toggleable__content {max-height: 0;max-width: 0;overflow: hidden;text-align: left;background-color: #f0f8ff;}#sk-container-id-10 div.sk-toggleable__content pre {margin: 0.2em;color: black;border-radius: 0.25em;background-color: #f0f8ff;}#sk-container-id-10 input.sk-toggleable__control:checked~div.sk-toggleable__content {max-height: 200px;max-width: 100%;overflow: auto;}#sk-container-id-10 input.sk-toggleable__control:checked~label.sk-toggleable__label-arrow:before {content: \"▾\";}#sk-container-id-10 div.sk-estimator input.sk-toggleable__control:checked~label.sk-toggleable__label {background-color: #d4ebff;}#sk-container-id-10 div.sk-label input.sk-toggleable__control:checked~label.sk-toggleable__label {background-color: #d4ebff;}#sk-container-id-10 input.sk-hidden--visually {border: 0;clip: rect(1px 1px 1px 1px);clip: rect(1px, 1px, 1px, 1px);height: 1px;margin: -1px;overflow: hidden;padding: 0;position: absolute;width: 1px;}#sk-container-id-10 div.sk-estimator {font-family: monospace;background-color: #f0f8ff;border: 1px dotted black;border-radius: 0.25em;box-sizing: border-box;margin-bottom: 0.5em;}#sk-container-id-10 div.sk-estimator:hover {background-color: #d4ebff;}#sk-container-id-10 div.sk-parallel-item::after {content: \"\";width: 100%;border-bottom: 1px solid gray;flex-grow: 1;}#sk-container-id-10 div.sk-label:hover label.sk-toggleable__label {background-color: #d4ebff;}#sk-container-id-10 div.sk-serial::before {content: \"\";position: absolute;border-left: 1px solid gray;box-sizing: border-box;top: 0;bottom: 0;left: 50%;z-index: 0;}#sk-container-id-10 div.sk-serial {display: flex;flex-direction: column;align-items: center;background-color: white;padding-right: 0.2em;padding-left: 0.2em;position: relative;}#sk-container-id-10 div.sk-item {position: relative;z-index: 1;}#sk-container-id-10 div.sk-parallel {display: flex;align-items: stretch;justify-content: center;background-color: white;position: relative;}#sk-container-id-10 div.sk-item::before, #sk-container-id-10 div.sk-parallel-item::before {content: \"\";position: absolute;border-left: 1px solid gray;box-sizing: border-box;top: 0;bottom: 0;left: 50%;z-index: -1;}#sk-container-id-10 div.sk-parallel-item {display: flex;flex-direction: column;z-index: 1;position: relative;background-color: white;}#sk-container-id-10 div.sk-parallel-item:first-child::after {align-self: flex-end;width: 50%;}#sk-container-id-10 div.sk-parallel-item:last-child::after {align-self: flex-start;width: 50%;}#sk-container-id-10 div.sk-parallel-item:only-child::after {width: 0;}#sk-container-id-10 div.sk-dashed-wrapped {border: 1px dashed gray;margin: 0 0.4em 0.5em 0.4em;box-sizing: border-box;padding-bottom: 0.4em;background-color: white;}#sk-container-id-10 div.sk-label label {font-family: monospace;font-weight: bold;display: inline-block;line-height: 1.2em;}#sk-container-id-10 div.sk-label-container {text-align: center;}#sk-container-id-10 div.sk-container {/* jupyter's `normalize.less` sets `[hidden] { display: none; }` but bootstrap.min.css set `[hidden] { display: none !important; }` so we also need the `!important` here to be able to override the default hidden behavior on the sphinx rendered scikit-learn.org. See: https://github.com/scikit-learn/scikit-learn/issues/21755 */display: inline-block !important;position: relative;}#sk-container-id-10 div.sk-text-repr-fallback {display: none;}</style><div id=\"sk-container-id-10\" class=\"sk-top-container\"><div class=\"sk-text-repr-fallback\"><pre>RandomForestClassifier(max_depth=15, max_features=15, min_samples_leaf=20,\n",
       "                       n_estimators=80, n_jobs=-1, random_state=42)</pre><b>In a Jupyter environment, please rerun this cell to show the HTML representation or trust the notebook. <br />On GitHub, the HTML representation is unable to render, please try loading this page with nbviewer.org.</b></div><div class=\"sk-container\" hidden><div class=\"sk-item\"><div class=\"sk-estimator sk-toggleable\"><input class=\"sk-toggleable__control sk-hidden--visually\" id=\"sk-estimator-id-16\" type=\"checkbox\" checked><label for=\"sk-estimator-id-16\" class=\"sk-toggleable__label sk-toggleable__label-arrow\">RandomForestClassifier</label><div class=\"sk-toggleable__content\"><pre>RandomForestClassifier(max_depth=15, max_features=15, min_samples_leaf=20,\n",
       "                       n_estimators=80, n_jobs=-1, random_state=42)</pre></div></div></div></div></div>"
      ],
      "text/plain": [
       "RandomForestClassifier(max_depth=15, max_features=15, min_samples_leaf=20,\n",
       "                       n_estimators=80, n_jobs=-1, random_state=42)"
      ]
     },
     "execution_count": 130,
     "metadata": {},
     "output_type": "execute_result"
    }
   ],
   "source": [
    "%%time\n",
    "rf.fit(X_train_pca,y_train)"
   ]
  },
  {
   "cell_type": "code",
   "execution_count": 131,
   "id": "4caa8457",
   "metadata": {},
   "outputs": [
    {
     "data": {
      "text/plain": [
       "array([[3056,  221],\n",
       "       [ 279, 2998]], dtype=int64)"
      ]
     },
     "execution_count": 131,
     "metadata": {},
     "output_type": "execute_result"
    }
   ],
   "source": [
    "# Predictions on the train set\n",
    "y_train_pred = rf.predict(X_train_pca)\n",
    "\n",
    "\n",
    "# Creating Confusion matrix\n",
    "\n",
    "confusion=metrics.confusion_matrix(y_train, y_train_pred)\n",
    "confusion"
   ]
  },
  {
   "cell_type": "code",
   "execution_count": 132,
   "id": "c04a577e",
   "metadata": {},
   "outputs": [],
   "source": [
    "TP = confusion[1,1] # true positive \n",
    "TN = confusion[0,0] # true negatives\n",
    "FP = confusion[0,1] # false positives\n",
    "FN = confusion[1,0] # false negatives"
   ]
  },
  {
   "cell_type": "code",
   "execution_count": 133,
   "id": "c6a73b8a",
   "metadata": {},
   "outputs": [
    {
     "name": "stdout",
     "output_type": "stream",
     "text": [
      "Accuracy:- 0.92\n",
      "Sensitivity:- 0.91\n",
      "Specificity:- 0.93\n",
      "Recall:- 0.91\n",
      "Area under curve is: 0.92\n"
     ]
    }
   ],
   "source": [
    "# Accuracy\n",
    "print(\"Accuracy:-\",round(metrics.accuracy_score(y_train, y_train_pred),2))\n",
    "\n",
    "# Sensitivity\n",
    "print(\"Sensitivity:-\",round(TP / float(TP+FN),2))\n",
    "\n",
    "# Specificity\n",
    "print(\"Specificity:-\", round(TN / float(TN+FP),2))\n",
    "\n",
    "# Recall\n",
    "print(\"Recall:-\" , round(TP/float(TP+FN),2))\n",
    "\n",
    "# AUC\n",
    "print(\"Area under curve is:\", round(metrics.roc_auc_score(y_train, y_train_pred),2))"
   ]
  },
  {
   "cell_type": "markdown",
   "id": "68dc5320",
   "metadata": {},
   "source": [
    "Prediction on Test Dataset"
   ]
  },
  {
   "cell_type": "code",
   "execution_count": 134,
   "id": "e2b9a525",
   "metadata": {},
   "outputs": [
    {
     "name": "stdout",
     "output_type": "stream",
     "text": [
      "[[1264  141]\n",
      " [ 129  155]]\n"
     ]
    }
   ],
   "source": [
    "y_test_pred = rf.predict(X_test_pca)\n",
    "\n",
    "# Confusion matrix\n",
    "confusion = metrics.confusion_matrix(y_test, y_test_pred)\n",
    "print(confusion)"
   ]
  },
  {
   "cell_type": "code",
   "execution_count": 135,
   "id": "89420b08",
   "metadata": {},
   "outputs": [
    {
     "name": "stdout",
     "output_type": "stream",
     "text": [
      "Accuracy:- 0.84\n",
      "Sensitivity:- 0.91\n",
      "Specificity:- 0.93\n",
      "Recall:- 0.91\n",
      "Area under curve is: 0.72\n"
     ]
    }
   ],
   "source": [
    "# Accuracy\n",
    "print(\"Accuracy:-\",round(metrics.accuracy_score(y_test, y_test_pred),2))\n",
    "\n",
    "# Sensitivity\n",
    "print(\"Sensitivity:-\",round(TP / float(TP+FN),2))\n",
    "\n",
    "# Specificity\n",
    "print(\"Specificity:-\", round(TN / float(TN+FP),2))\n",
    "\n",
    "# Recall\n",
    "print(\"Recall:-\" , round(TP/float(TP+FN),2))\n",
    "\n",
    "# AUC\n",
    "print(\"Area under curve is:\", round(metrics.roc_auc_score(y_test, y_test_pred),2))"
   ]
  },
  {
   "cell_type": "markdown",
   "id": "6a418a37",
   "metadata": {},
   "source": [
    "Observation Our Accuracy has decreased from decision tree model but our Sensitivity has been same. From business problem like telecom churn, sensitivity / Recall is more important Model summary (Random Forest with hyperparameter tuning with PCA)\n",
    "\n",
    "Train set\n",
    "\n",
    "Accuracy = 0.92 Sensitivity = 0.91 Specificity = 0.93 roc_auc_score= 0.92\n",
    "\n",
    "Test set\n",
    "\n",
    "Accuracy = 0.84 Sensitivity = 0.91 Specificity = 0.93 roc_auc_score= 0.72"
   ]
  },
  {
   "cell_type": "code",
   "execution_count": 138,
   "id": "73e177d3",
   "metadata": {},
   "outputs": [
    {
     "data": {
      "text/html": [
       "<div>\n",
       "<style scoped>\n",
       "    .dataframe tbody tr th:only-of-type {\n",
       "        vertical-align: middle;\n",
       "    }\n",
       "\n",
       "    .dataframe tbody tr th {\n",
       "        vertical-align: top;\n",
       "    }\n",
       "\n",
       "    .dataframe thead th {\n",
       "        text-align: right;\n",
       "    }\n",
       "</style>\n",
       "<table border=\"1\" class=\"dataframe\">\n",
       "  <thead>\n",
       "    <tr style=\"text-align: right;\">\n",
       "      <th></th>\n",
       "      <th>model</th>\n",
       "      <th>Train Recall</th>\n",
       "      <th>Test Recall</th>\n",
       "      <th>Test accuracy</th>\n",
       "    </tr>\n",
       "  </thead>\n",
       "  <tbody>\n",
       "    <tr>\n",
       "      <th>2</th>\n",
       "      <td>Random Forest with PCA</td>\n",
       "      <td>0.91</td>\n",
       "      <td>0.91</td>\n",
       "      <td>0.84</td>\n",
       "    </tr>\n",
       "    <tr>\n",
       "      <th>0</th>\n",
       "      <td>Logistic Regression with PCA</td>\n",
       "      <td>0.80</td>\n",
       "      <td>0.80</td>\n",
       "      <td>0.77</td>\n",
       "    </tr>\n",
       "    <tr>\n",
       "      <th>1</th>\n",
       "      <td>Decision Tree with PCA</td>\n",
       "      <td>0.80</td>\n",
       "      <td>0.80</td>\n",
       "      <td>0.76</td>\n",
       "    </tr>\n",
       "  </tbody>\n",
       "</table>\n",
       "</div>"
      ],
      "text/plain": [
       "                          model  Train Recall  Test Recall  Test accuracy\n",
       "2        Random Forest with PCA          0.91         0.91           0.84\n",
       "0  Logistic Regression with PCA          0.80         0.80           0.77\n",
       "1        Decision Tree with PCA          0.80         0.80           0.76"
      ]
     },
     "execution_count": 138,
     "metadata": {},
     "output_type": "execute_result"
    }
   ],
   "source": [
    "model_stats = pd.DataFrame(\n",
    "    {'model':['Logistic Regression with PCA','Decision Tree with PCA','Random Forest with PCA'],\n",
    "     'Train Recall': [0.80, 0.80, 0.91],                \n",
    "    'Test Recall':       [0.80,0.80,0.91],\n",
    "    'Test accuracy':     [0.77,0.76,0.84],\n",
    "    })\n",
    "\n",
    "model_stats.sort_values(by=['Test Recall','Test accuracy','Train Recall'],ascending=False)"
   ]
  },
  {
   "cell_type": "markdown",
   "id": "36fc9b52",
   "metadata": {},
   "source": []
  },
  {
   "cell_type": "markdown",
   "id": "372b3ebc",
   "metadata": {},
   "source": [
    "Observation\n",
    "\n",
    "Going by the above data, our final model is the Random Forest with PCA, as it has the highest Recall value & also the accuracy. Lets find the important features from the model for interpretation"
   ]
  },
  {
   "cell_type": "code",
   "execution_count": 137,
   "id": "60a073ac",
   "metadata": {},
   "outputs": [
    {
     "data": {
      "text/plain": [
       "[Index(['CouponUsed', 'NumberOfDeviceRegistered', 'OrderCount',\n",
       "        'HourSpendOnApp', 'DaySinceLastOrder', 'PreferredPaymentMode_E wallet',\n",
       "        'NumberOfAddress', 'PreferredLoginDevice_Mobile Phone',\n",
       "        'WarehouseToHome', 'Tenure'],\n",
       "       dtype='object')]"
      ]
     },
     "execution_count": 137,
     "metadata": {},
     "output_type": "execute_result"
    }
   ],
   "source": [
    "features = rf.feature_importances_\n",
    "cols =[X.iloc[:,sorted(range(len(features)), key=lambda i: features[i])[-10:]].columns]\n",
    "                \n",
    "cols"
   ]
  },
  {
   "cell_type": "markdown",
   "id": "47ef4970",
   "metadata": {},
   "source": [
    "conclusion 10 Important features for prediction churn are"
   ]
  },
  {
   "cell_type": "markdown",
   "id": "214a67f1",
   "metadata": {},
   "source": [
    "'CouponUsed', \n",
    "'NumberOfDeviceRegistered', \n",
    "'OrderCount',\n",
    "'HourSpendOnApp',\n",
    "'DaySinceLastOrder', \n",
    "'PreferredPaymentMode_E wallet',\n",
    "'NumberOfAddress',\n",
    "'PreferredLoginDevice_Mobile Phone',\n",
    "'WarehouseToHome', \n",
    "'Tenure'"
   ]
  },
  {
   "cell_type": "code",
   "execution_count": null,
   "id": "67461c82",
   "metadata": {},
   "outputs": [],
   "source": []
  },
  {
   "cell_type": "code",
   "execution_count": null,
   "id": "0256ceaf",
   "metadata": {},
   "outputs": [],
   "source": []
  }
 ],
 "metadata": {
  "kernelspec": {
   "display_name": "Python 3 (ipykernel)",
   "language": "python",
   "name": "python3"
  },
  "language_info": {
   "codemirror_mode": {
    "name": "ipython",
    "version": 3
   },
   "file_extension": ".py",
   "mimetype": "text/x-python",
   "name": "python",
   "nbconvert_exporter": "python",
   "pygments_lexer": "ipython3",
   "version": "3.9.7"
  }
 },
 "nbformat": 4,
 "nbformat_minor": 5
}
